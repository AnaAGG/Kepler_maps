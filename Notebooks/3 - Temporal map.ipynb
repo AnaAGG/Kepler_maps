{
 "cells": [
  {
   "cell_type": "markdown",
   "id": "polish-transport",
   "metadata": {},
   "source": [
    "# Libraries"
   ]
  },
  {
   "cell_type": "code",
   "execution_count": null,
   "id": "weird-poultry",
   "metadata": {},
   "outputs": [],
   "source": [
    "import sys\n",
    "sys.path.append('../'"
   ]
  },
  {
   "cell_type": "code",
   "execution_count": null,
   "id": "unexpected-float",
   "metadata": {},
   "outputs": [],
   "source": [
    "import pandas as pd\n",
    "import plotly.offline as py\n",
    "import plotly.express as px\n",
    "import plotly.graph_objects as go"
   ]
  },
  {
   "cell_type": "markdown",
   "id": "reserved-regard",
   "metadata": {},
   "source": [
    "# Reading data "
   ]
  },
  {
   "cell_type": "code",
   "execution_count": null,
   "id": "otherwise-treasury",
   "metadata": {},
   "outputs": [],
   "source": [
    "data = pd.read_csv(\"Input/data_def.csv\")"
   ]
  },
  {
   "cell_type": "code",
   "execution_count": null,
   "id": "covered-vatican",
   "metadata": {},
   "outputs": [],
   "source": [
    "countries = data['Country'].unique().tolist()\n",
    "countries[:20]\n",
    "# get the mean temp for each country\n",
    "\n",
    "mean_temp = []\n",
    "for i in countries:\n",
    "    mean_temp.append(data[data.Country == i]['AverageTemperature'].mean())"
   ]
  },
  {
   "cell_type": "code",
   "execution_count": null,
   "id": "multiple-developer",
   "metadata": {},
   "outputs": [],
   "source": [
    "#@title\n",
    "data['year'] = data['dt'].apply(lambda x: x.split('-')[0])\n",
    "data"
   ]
  },
  {
   "cell_type": "markdown",
   "id": "cathedral-earth",
   "metadata": {},
   "source": [
    "# Create the map "
   ]
  },
  {
   "cell_type": "markdown",
   "id": "ethical-contest",
   "metadata": {},
   "source": [
    "Para crear el mapa usaremos mapa coroplético del paquete plotply express.\n",
    "\n",
    "\n",
    "📃 Docu ==> https://plotly.com/python/choropleth-maps/ 📃  \n",
    "📃 Docu ==> https://plotly.github.io/plotly.py-docs/generated/plotly.express.choropleth.html 📃  \n",
    "🌈 Docu para colorinchis ==> https://plotly.com/python/builtin-colorscales/ 🌈"
   ]
  },
  {
   "cell_type": "markdown",
   "id": "objective-arthritis",
   "metadata": {},
   "source": [
    "**¿Que parámetros le pasamos al mapa?**  \n",
    "> **locations** (str or int or Series or array-like) –> a column in data_frame. Values from this column are to be interpreted according to locationmode and mapped to longitude/latitude.\n",
    "\n",
    "> **locationmode** (str) – Determines the set of locations used to match entries in locations to regions on the map.\n",
    "\n",
    "> **color** (str or int or Series or array-like) – name of a column in data_frame. Values from this column are used to assign color to marks.\n",
    "\n",
    "> **hover_name** (str or int or Series or array-like) – name of a column in data_frame. TOOLTIP.\n",
    "\n",
    "> **animation_frame** (str or int or Series or array-like) – name of a column in data_frame. Assign marks to animation frames.\n",
    "\n",
    "> **color_continuous_scale** (list of str) – Strings should define valid CSS-colors This list is used to build a continuous color scale when the column denoted by color contains numeric data. Various useful color scales are available in the plotly.express.colors submodules, specifically plotly.express.colors.sequential, plotly.express.colors.diverging and plotly.express.colors.cyclical."
   ]
  },
  {
   "cell_type": "code",
   "execution_count": null,
   "id": "injured-lyric",
   "metadata": {},
   "outputs": [],
   "source": []
  }
 ],
 "metadata": {
  "kernelspec": {
   "display_name": "final",
   "language": "python",
   "name": "final"
  },
  "language_info": {
   "codemirror_mode": {
    "name": "ipython",
    "version": 3
   },
   "file_extension": ".py",
   "mimetype": "text/x-python",
   "name": "python",
   "nbconvert_exporter": "python",
   "pygments_lexer": "ipython3",
   "version": "3.8.5"
  },
  "toc": {
   "base_numbering": 1,
   "nav_menu": {},
   "number_sections": true,
   "sideBar": true,
   "skip_h1_title": false,
   "title_cell": "Table of Contents",
   "title_sidebar": "Contents",
   "toc_cell": false,
   "toc_position": {},
   "toc_section_display": true,
   "toc_window_display": false
  },
  "varInspector": {
   "cols": {
    "lenName": 16,
    "lenType": 16,
    "lenVar": 40
   },
   "kernels_config": {
    "python": {
     "delete_cmd_postfix": "",
     "delete_cmd_prefix": "del ",
     "library": "var_list.py",
     "varRefreshCmd": "print(var_dic_list())"
    },
    "r": {
     "delete_cmd_postfix": ") ",
     "delete_cmd_prefix": "rm(",
     "library": "var_list.r",
     "varRefreshCmd": "cat(var_dic_list()) "
    }
   },
   "types_to_exclude": [
    "module",
    "function",
    "builtin_function_or_method",
    "instance",
    "_Feature"
   ],
   "window_display": false
  }
 },
 "nbformat": 4,
 "nbformat_minor": 5
}
