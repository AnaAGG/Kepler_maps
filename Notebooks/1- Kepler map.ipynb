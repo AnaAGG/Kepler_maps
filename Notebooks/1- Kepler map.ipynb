{
 "cells": [
  {
   "cell_type": "markdown",
   "id": "excess-hamburg",
   "metadata": {
    "toc": true
   },
   "source": [
    "<h1>Table of Contents<span class=\"tocSkip\"></span></h1>\n",
    "<div class=\"toc\"><ul class=\"toc-item\"><li><span><a href=\"#Libraries\" data-toc-modified-id=\"Libraries-1\"><span class=\"toc-item-num\">1&nbsp;&nbsp;</span>Libraries</a></span></li><li><span><a href=\"#Crimes-in-Nueva-York\" data-toc-modified-id=\"Crimes-in-Nueva-York-2\"><span class=\"toc-item-num\">2&nbsp;&nbsp;</span>Crimes in Nueva York</a></span><ul class=\"toc-item\"><li><span><a href=\"#Explore-null-data-in-the-dataset\" data-toc-modified-id=\"Explore-null-data-in-the-dataset-2.1\"><span class=\"toc-item-num\">2.1&nbsp;&nbsp;</span>Explore null data in the dataset</a></span></li><li><span><a href=\"#Time-to-map-the-dataset\" data-toc-modified-id=\"Time-to-map-the-dataset-2.2\"><span class=\"toc-item-num\">2.2&nbsp;&nbsp;</span>Time to map the dataset</a></span><ul class=\"toc-item\"><li><span><a href=\"#Configuration\" data-toc-modified-id=\"Configuration-2.2.1\"><span class=\"toc-item-num\">2.2.1&nbsp;&nbsp;</span>Configuration</a></span></li><li><span><a href=\"#Save-the-map\" data-toc-modified-id=\"Save-the-map-2.2.2\"><span class=\"toc-item-num\">2.2.2&nbsp;&nbsp;</span>Save the map</a></span></li></ul></li></ul></li><li><span><a href=\"#Temporal-map\" data-toc-modified-id=\"Temporal-map-3\"><span class=\"toc-item-num\">3&nbsp;&nbsp;</span>Temporal map</a></span></li><li><span><a href=\"#Uk-movements\" data-toc-modified-id=\"Uk-movements-4\"><span class=\"toc-item-num\">4&nbsp;&nbsp;</span>Uk movements</a></span></li><li><span><a href=\"#Further-materials\" data-toc-modified-id=\"Further-materials-5\"><span class=\"toc-item-num\">5&nbsp;&nbsp;</span>Further materials</a></span></li></ul></div>"
   ]
  },
  {
   "cell_type": "markdown",
   "id": "4134c488",
   "metadata": {},
   "source": [
    "![portada](https://miro.medium.com/max/7077/1*0l-WeqdtYRruoV_XxS-ZKg.png)"
   ]
  },
  {
   "cell_type": "markdown",
   "id": "important-exhaust",
   "metadata": {},
   "source": [
    "I chose to use data from the Northern California Earthquake Data Center [NCEDC](http://ncedc.org/) , an organization that has measured and made available all California earthquake records from 1967 to the present. "
   ]
  },
  {
   "cell_type": "markdown",
   "id": "matched-psychiatry",
   "metadata": {},
   "source": [
    "# Libraries "
   ]
  },
  {
   "cell_type": "code",
   "execution_count": 1,
   "id": "bearing-tokyo",
   "metadata": {
    "scrolled": true
   },
   "outputs": [
    {
     "name": "stderr",
     "output_type": "stream",
     "text": [
      "/home/anagarcia/anaconda3/envs/final/lib/python3.8/site-packages/geopandas/_compat.py:106: UserWarning: The Shapely GEOS version (3.8.0-CAPI-1.13.1 ) is incompatible with the GEOS version PyGEOS was compiled with (3.9.0-CAPI-1.16.2). Conversions between both will be slow.\n",
      "  warnings.warn(\n"
     ]
    }
   ],
   "source": [
    "import pandas as pd\n",
    "import geopandas as gpd\n",
    "from keplergl import KeplerGl\n",
    "from geopy.geocoders import Nominatim"
   ]
  },
  {
   "cell_type": "markdown",
   "id": "julian-entrance",
   "metadata": {},
   "source": [
    "# Crimes in Nueva York "
   ]
  },
  {
   "cell_type": "code",
   "execution_count": null,
   "id": "natural-mambo",
   "metadata": {},
   "outputs": [],
   "source": [
    "df = pd.read_csv(\"../Input/NYPD_Shoot_.csv\")"
   ]
  },
  {
   "cell_type": "code",
   "execution_count": null,
   "id": "piano-senior",
   "metadata": {},
   "outputs": [],
   "source": [
    "df.shape"
   ]
  },
  {
   "cell_type": "code",
   "execution_count": null,
   "id": "boxed-break",
   "metadata": {},
   "outputs": [],
   "source": [
    "df.head()"
   ]
  },
  {
   "cell_type": "markdown",
   "id": "biblical-small",
   "metadata": {},
   "source": [
    "## Explore null data in the dataset"
   ]
  },
  {
   "cell_type": "code",
   "execution_count": null,
   "id": "micro-brave",
   "metadata": {
    "scrolled": true
   },
   "outputs": [],
   "source": [
    "df.isnull().sum()[:5]"
   ]
  },
  {
   "cell_type": "code",
   "execution_count": null,
   "id": "prerequisite-bloom",
   "metadata": {},
   "outputs": [],
   "source": [
    "df.dtypes[:5]"
   ]
  },
  {
   "cell_type": "markdown",
   "id": "533515f2",
   "metadata": {},
   "source": [
    "## Time to map the dataset\n",
    "https://towardsdatascience.com/kepler-gl-jupyter-notebooks-geospatial-data-visualization-with-ubers-opensource-kepler-gl-b1c2423d066f"
   ]
  },
  {
   "cell_type": "markdown",
   "id": "aeedb33e",
   "metadata": {},
   "source": [
    "The usual Kepler.gl workflow is as follows:\n",
    "\n",
    "    1- Add data to the map  \n",
    "    2- Create data layers  \n",
    "    3- Add filters  \n",
    "    4- Customize your map settings  \n",
    "    5- Save your map as an image and export it as a html file\n"
   ]
  },
  {
   "cell_type": "code",
   "execution_count": null,
   "id": "9e18f5b7",
   "metadata": {
    "scrolled": false
   },
   "outputs": [],
   "source": [
    "#Create a basemap \n",
    "map_1= KeplerGl(height=700, weight = 500, data={'data_1': df})\n",
    "#show the map\n",
    "map_1"
   ]
  },
  {
   "cell_type": "markdown",
   "id": "4497b3fe",
   "metadata": {},
   "source": [
    "### Configuration\n",
    "Each map will have a configuration file in dictionary format. We can save this configuration and work with it later without having to touch the interface again."
   ]
  },
  {
   "cell_type": "code",
   "execution_count": null,
   "id": "94c80ec0",
   "metadata": {},
   "outputs": [],
   "source": [
    "config = map_1.config"
   ]
  },
  {
   "cell_type": "code",
   "execution_count": null,
   "id": "98f82655",
   "metadata": {},
   "outputs": [],
   "source": [
    "config"
   ]
  },
  {
   "cell_type": "code",
   "execution_count": null,
   "id": "ba6ff3ab",
   "metadata": {},
   "outputs": [],
   "source": [
    "config.keys()"
   ]
  },
  {
   "cell_type": "code",
   "execution_count": null,
   "id": "bf529f3b",
   "metadata": {},
   "outputs": [],
   "source": [
    "config.get(\"config\").keys()"
   ]
  },
  {
   "cell_type": "code",
   "execution_count": null,
   "id": "23fea2da",
   "metadata": {},
   "outputs": [],
   "source": [
    "config.get(\"config\").get(\"visState\").get(\"layers\")[1] #sacamos el diccionario con los parametros de visulización del mapa"
   ]
  },
  {
   "cell_type": "code",
   "execution_count": null,
   "id": "4f5ec6b6",
   "metadata": {},
   "outputs": [],
   "source": [
    "config.get(\"config\").get(\"mapState\")"
   ]
  },
  {
   "cell_type": "code",
   "execution_count": null,
   "id": "4f720ec1",
   "metadata": {},
   "outputs": [],
   "source": [
    "config.get(\"config\").get(\"mapStyle\")"
   ]
  },
  {
   "cell_type": "code",
   "execution_count": null,
   "id": "e90d7ceb",
   "metadata": {},
   "outputs": [],
   "source": [
    "x = config.get(\"config\").get(\"mapStyle\")\n",
    "for k, v in x.items():\n",
    "    x[\"styleType\"] = \"light\"\n",
    "    "
   ]
  },
  {
   "cell_type": "code",
   "execution_count": null,
   "id": "4b508016",
   "metadata": {},
   "outputs": [],
   "source": [
    "config.get(\"config\").get(\"mapStyle\")"
   ]
  },
  {
   "cell_type": "code",
   "execution_count": null,
   "id": "0ce0faad",
   "metadata": {},
   "outputs": [],
   "source": [
    "# Save map_1 config to a file\n",
    "with open('hex_config.py', 'w') as f:\n",
    "    f.write('config = {}'.format(map_1.config))\n"
   ]
  },
  {
   "cell_type": "code",
   "execution_count": null,
   "id": "8e5879ef",
   "metadata": {
    "scrolled": false
   },
   "outputs": [],
   "source": [
    "map_2= KeplerGl(height=1000, data={'data_1': df}, config=config)\n",
    "map_2"
   ]
  },
  {
   "cell_type": "code",
   "execution_count": null,
   "id": "78c87bfe",
   "metadata": {},
   "outputs": [],
   "source": [
    "config.get(\"config\").get(\"mapStyle\")"
   ]
  },
  {
   "cell_type": "markdown",
   "id": "af7fb4ee",
   "metadata": {},
   "source": [
    "### Save the map "
   ]
  },
  {
   "cell_type": "code",
   "execution_count": null,
   "id": "46787809",
   "metadata": {},
   "outputs": [],
   "source": [
    "map_1.save_to_html(file_name = \"crime_map.html\", read_only = True)"
   ]
  },
  {
   "cell_type": "markdown",
   "id": "e7488849",
   "metadata": {},
   "source": [
    "# Temporal map"
   ]
  },
  {
   "cell_type": "code",
   "execution_count": null,
   "id": "104b7453",
   "metadata": {},
   "outputs": [],
   "source": [
    "df_1 = pd.read_csv(\"Input/nytrips.csv\")\n",
    "df_1.head()"
   ]
  },
  {
   "cell_type": "code",
   "execution_count": null,
   "id": "b9efc66d",
   "metadata": {},
   "outputs": [],
   "source": [
    "map_3 = KeplerGl(height=600, width=800)\n",
    "map_3.add_data(data=df_1, name='trips')"
   ]
  },
  {
   "cell_type": "code",
   "execution_count": null,
   "id": "54a41126",
   "metadata": {},
   "outputs": [],
   "source": [
    "map_3"
   ]
  },
  {
   "cell_type": "markdown",
   "id": "4ad11f9a",
   "metadata": {},
   "source": [
    "# Uk movements\n",
    "https://towardsdatascience.com/4d-data-visualization-with-kepler-gl-b6bd6dd90451\n",
    "\n",
    "y luego hacer lo que leo en este articulo: https://towardsdatascience.com/an-interactive-3d-map-of-police-action-s-that-have-resulted-in-death-b9d7fbf81822 TOP TOP ESTE LE TENGO QUE PROBAR"
   ]
  },
  {
   "cell_type": "code",
   "execution_count": null,
   "id": "0d0e2bf2",
   "metadata": {},
   "outputs": [],
   "source": [
    "df_2= pd.read_csv(\"Input/uk_mov.csv\")\n",
    "df_2.head()"
   ]
  },
  {
   "cell_type": "code",
   "execution_count": null,
   "id": "ad4fee5d",
   "metadata": {},
   "outputs": [],
   "source": [
    "df_2.shape"
   ]
  },
  {
   "cell_type": "code",
   "execution_count": null,
   "id": "d76e96f2",
   "metadata": {},
   "outputs": [],
   "source": [
    "map_2 = KeplerGl(height=600, width=800)\n",
    "map_2.add_data(data=df_2, name='uk')"
   ]
  },
  {
   "cell_type": "code",
   "execution_count": null,
   "id": "13912e04",
   "metadata": {
    "scrolled": false
   },
   "outputs": [],
   "source": [
    "map_2"
   ]
  },
  {
   "cell_type": "code",
   "execution_count": null,
   "id": "c1f569ce",
   "metadata": {},
   "outputs": [],
   "source": [
    "taxi_config = map_2.config\n",
    "taxi_config.keys()"
   ]
  },
  {
   "cell_type": "code",
   "execution_count": null,
   "id": "15e43cd4",
   "metadata": {},
   "outputs": [],
   "source": [
    "map_2.save_to_html(file_name = \"uk_mov.html\", read_only = False)"
   ]
  },
  {
   "cell_type": "markdown",
   "id": "63359646",
   "metadata": {},
   "source": [
    "# Further materials"
   ]
  },
  {
   "cell_type": "markdown",
   "id": "4af895ae",
   "metadata": {},
   "source": [
    "https://leadr-msu.github.io/kepler-gl/  \n",
    "https://github.com/heshan0131/kepler.gl"
   ]
  },
  {
   "cell_type": "code",
   "execution_count": null,
   "id": "2c92ad0b",
   "metadata": {},
   "outputs": [],
   "source": []
  }
 ],
 "metadata": {
  "kernelspec": {
   "display_name": "final",
   "language": "python",
   "name": "final"
  },
  "language_info": {
   "codemirror_mode": {
    "name": "ipython",
    "version": 3
   },
   "file_extension": ".py",
   "mimetype": "text/x-python",
   "name": "python",
   "nbconvert_exporter": "python",
   "pygments_lexer": "ipython3",
   "version": "3.8.5"
  },
  "toc": {
   "base_numbering": 1,
   "nav_menu": {},
   "number_sections": true,
   "sideBar": true,
   "skip_h1_title": false,
   "title_cell": "Table of Contents",
   "title_sidebar": "Contents",
   "toc_cell": true,
   "toc_position": {},
   "toc_section_display": true,
   "toc_window_display": false
  },
  "varInspector": {
   "cols": {
    "lenName": 16,
    "lenType": 16,
    "lenVar": 40
   },
   "kernels_config": {
    "python": {
     "delete_cmd_postfix": "",
     "delete_cmd_prefix": "del ",
     "library": "var_list.py",
     "varRefreshCmd": "print(var_dic_list())"
    },
    "r": {
     "delete_cmd_postfix": ") ",
     "delete_cmd_prefix": "rm(",
     "library": "var_list.r",
     "varRefreshCmd": "cat(var_dic_list()) "
    }
   },
   "position": {
    "height": "716px",
    "left": "1550px",
    "right": "20px",
    "top": "120px",
    "width": "350px"
   },
   "types_to_exclude": [
    "module",
    "function",
    "builtin_function_or_method",
    "instance",
    "_Feature"
   ],
   "window_display": false
  }
 },
 "nbformat": 4,
 "nbformat_minor": 5
}
