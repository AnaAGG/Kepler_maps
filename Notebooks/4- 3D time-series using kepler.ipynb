{
 "cells": [
  {
   "cell_type": "markdown",
   "id": "dc08a1e2",
   "metadata": {
    "toc": true
   },
   "source": [
    "<h1>Table of Contents<span class=\"tocSkip\"></span></h1>\n",
    "<div class=\"toc\"><ul class=\"toc-item\"><li><span><a href=\"#Libraries\" data-toc-modified-id=\"Libraries-1\"><span class=\"toc-item-num\">1&nbsp;&nbsp;</span>Libraries</a></span></li><li><span><a href=\"#Data\" data-toc-modified-id=\"Data-2\"><span class=\"toc-item-num\">2&nbsp;&nbsp;</span>Data</a></span><ul class=\"toc-item\"><li><span><a href=\"#To-perform-this-map-we-need:\" data-toc-modified-id=\"To-perform-this-map-we-need:-2.1\"><span class=\"toc-item-num\">2.1&nbsp;&nbsp;</span>To perform this map we need:</a></span></li><li><span><a href=\"#Merge-the-two-datasets\" data-toc-modified-id=\"Merge-the-two-datasets-2.2\"><span class=\"toc-item-num\">2.2&nbsp;&nbsp;</span>Merge the two datasets</a></span></li></ul></li><li><span><a href=\"#Create-a-map\" data-toc-modified-id=\"Create-a-map-3\"><span class=\"toc-item-num\">3&nbsp;&nbsp;</span>Create a map</a></span></li></ul></div>"
   ]
  },
  {
   "cell_type": "markdown",
   "id": "certain-royalty",
   "metadata": {},
   "source": [
    "![image](https://miro.medium.com/max/600/1*XLqDpdW6SC_MOOlx007N3w.gif)"
   ]
  },
  {
   "cell_type": "markdown",
   "id": "2b2b9cf9",
   "metadata": {},
   "source": [
    "# Libraries "
   ]
  },
  {
   "cell_type": "code",
   "execution_count": null,
   "id": "efficient-dancing",
   "metadata": {
    "scrolled": true
   },
   "outputs": [],
   "source": [
    "import pandas as pd\n",
    "import geopandas as gpd\n",
    "from keplergl import KeplerGl"
   ]
  },
  {
   "cell_type": "markdown",
   "id": "704eed12",
   "metadata": {},
   "source": [
    "# Data "
   ]
  },
  {
   "cell_type": "markdown",
   "id": "6d166322",
   "metadata": {},
   "source": [
    "## To perform this map we need:\n",
    "\n",
    "Your dataset will need to include three variables:\n",
    "- a `datetime` variable (to enable time series functionality)\n",
    "- a `latitude` variable (from the polygon centroid for each county)\n",
    "- a `longitude` variable (from the polygon centroid for each county)"
   ]
  },
  {
   "cell_type": "markdown",
   "id": "ef8e3c59",
   "metadata": {},
   "source": [
    "The police interaction dataset I used (see dataset source/validity section) includes the street address, city, state, zip code, and county information. We’ll map the data by state counties because we can use the National Weather Service’s GIS shape files to extract each county’s central longitude and latitude using the centroid of each county’s respective geospatial shape."
   ]
  },
  {
   "cell_type": "code",
   "execution_count": null,
   "id": "21823bb1",
   "metadata": {},
   "outputs": [],
   "source": [
    "df = pd.read_csv(\"../Input/MPV_2.csv\", sep = \";\")\n",
    "df.head()"
   ]
  },
  {
   "cell_type": "code",
   "execution_count": null,
   "id": "exciting-bandwidth",
   "metadata": {
    "scrolled": false
   },
   "outputs": [],
   "source": [
    "# We add to time info\n"
   ]
  },
  {
   "cell_type": "code",
   "execution_count": null,
   "id": "pacific-fraud",
   "metadata": {
    "scrolled": true
   },
   "outputs": [],
   "source": [
    "# But... in this dataset we don't have lat long information. We use a shapefile\n",
    "#file add this info in our dataset\n"
   ]
  },
  {
   "cell_type": "code",
   "execution_count": null,
   "id": "ee356952",
   "metadata": {},
   "outputs": [],
   "source": []
  },
  {
   "cell_type": "code",
   "execution_count": null,
   "id": "introductory-lafayette",
   "metadata": {},
   "outputs": [],
   "source": [
    "# data to dataframe\n"
   ]
  },
  {
   "cell_type": "markdown",
   "id": "d14eb876",
   "metadata": {},
   "source": [
    "## Merge the two datasets "
   ]
  },
  {
   "cell_type": "markdown",
   "id": "b218fc20",
   "metadata": {},
   "source": [
    "Once you’ve extracted the longitude and latitudes, we simply merge the coordinate dictionary with the dataset using state and county variables (which should be present in both datasets). In this case, we’ll merge the data using State abbreviations and County names:"
   ]
  },
  {
   "cell_type": "code",
   "execution_count": null,
   "id": "lesser-warren",
   "metadata": {},
   "outputs": [],
   "source": [
    "#Now we are going to merge the two datasets by the column STATE. \n"
   ]
  },
  {
   "cell_type": "code",
   "execution_count": null,
   "id": "serious-fraction",
   "metadata": {},
   "outputs": [],
   "source": [
    "# remove some columns that we don`t need to the analysis. \n"
   ]
  },
  {
   "cell_type": "code",
   "execution_count": null,
   "id": "amino-imagination",
   "metadata": {},
   "outputs": [],
   "source": [
    "# There are some null values that we are not interested in, so we are going to eliminate them \n"
   ]
  },
  {
   "cell_type": "code",
   "execution_count": null,
   "id": "dietary-dancing",
   "metadata": {},
   "outputs": [],
   "source": [
    "# Also, we remove the duplicate data\n"
   ]
  },
  {
   "cell_type": "code",
   "execution_count": null,
   "id": "acoustic-release",
   "metadata": {
    "scrolled": true
   },
   "outputs": [],
   "source": []
  },
  {
   "cell_type": "markdown",
   "id": "3fb2e83a",
   "metadata": {},
   "source": [
    "# Create a map "
   ]
  },
  {
   "cell_type": "code",
   "execution_count": null,
   "id": "premium-velvet",
   "metadata": {},
   "outputs": [],
   "source": [
    "# Set the map configuration\n"
   ]
  },
  {
   "cell_type": "code",
   "execution_count": null,
   "id": "based-prize",
   "metadata": {
    "scrolled": false
   },
   "outputs": [],
   "source": []
  },
  {
   "cell_type": "code",
   "execution_count": null,
   "id": "d8db063e",
   "metadata": {},
   "outputs": [],
   "source": []
  },
  {
   "cell_type": "code",
   "execution_count": null,
   "id": "8f21ac22",
   "metadata": {},
   "outputs": [],
   "source": [
    "# Save map_1 config to a file\n"
   ]
  },
  {
   "cell_type": "code",
   "execution_count": null,
   "id": "boolean-escape",
   "metadata": {},
   "outputs": [],
   "source": []
  },
  {
   "cell_type": "code",
   "execution_count": null,
   "id": "ca5a0a16",
   "metadata": {},
   "outputs": [],
   "source": []
  }
 ],
 "metadata": {
  "kernelspec": {
   "display_name": "kernel",
   "language": "python",
   "name": "kernel"
  },
  "language_info": {
   "codemirror_mode": {
    "name": "ipython",
    "version": 3
   },
   "file_extension": ".py",
   "mimetype": "text/x-python",
   "name": "python",
   "nbconvert_exporter": "python",
   "pygments_lexer": "ipython3",
   "version": "3.8.5"
  },
  "toc": {
   "base_numbering": 1,
   "nav_menu": {},
   "number_sections": true,
   "sideBar": true,
   "skip_h1_title": false,
   "title_cell": "Table of Contents",
   "title_sidebar": "Contents",
   "toc_cell": true,
   "toc_position": {
    "height": "calc(100% - 180px)",
    "left": "10px",
    "top": "150px",
    "width": "355.556px"
   },
   "toc_section_display": true,
   "toc_window_display": false
  },
  "varInspector": {
   "cols": {
    "lenName": 16,
    "lenType": 16,
    "lenVar": 40
   },
   "kernels_config": {
    "python": {
     "delete_cmd_postfix": "",
     "delete_cmd_prefix": "del ",
     "library": "var_list.py",
     "varRefreshCmd": "print(var_dic_list())"
    },
    "r": {
     "delete_cmd_postfix": ") ",
     "delete_cmd_prefix": "rm(",
     "library": "var_list.r",
     "varRefreshCmd": "cat(var_dic_list()) "
    }
   },
   "types_to_exclude": [
    "module",
    "function",
    "builtin_function_or_method",
    "instance",
    "_Feature"
   ],
   "window_display": false
  }
 },
 "nbformat": 4,
 "nbformat_minor": 5
}
