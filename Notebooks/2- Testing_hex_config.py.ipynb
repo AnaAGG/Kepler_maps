{
 "cells": [
  {
   "cell_type": "markdown",
   "id": "058410de",
   "metadata": {
    "toc": true
   },
   "source": [
    "<h1>Table of Contents<span class=\"tocSkip\"></span></h1>\n",
    "<div class=\"toc\"><ul class=\"toc-item\"><li><span><a href=\"#Libraries\" data-toc-modified-id=\"Libraries-1\"><span class=\"toc-item-num\">1&nbsp;&nbsp;</span>Libraries</a></span></li><li><span><a href=\"#Load-data\" data-toc-modified-id=\"Load-data-2\"><span class=\"toc-item-num\">2&nbsp;&nbsp;</span>Load data</a></span></li><li><span><a href=\"#Using-the-config.py-file-in-a-new-proyect\" data-toc-modified-id=\"Using-the-config.py-file-in-a-new-proyect-3\"><span class=\"toc-item-num\">3&nbsp;&nbsp;</span>Using the config.py file in a new proyect</a></span></li></ul></div>"
   ]
  },
  {
   "cell_type": "markdown",
   "id": "d0c509f0",
   "metadata": {},
   "source": [
    "![portada](https://miro.medium.com/max/1440/1*bB0OTIKP51yoKgKG6Bd9zg.gif)"
   ]
  },
  {
   "cell_type": "markdown",
   "id": "7817d834",
   "metadata": {},
   "source": [
    "# Libraries"
   ]
  },
  {
   "cell_type": "code",
   "execution_count": null,
   "id": "daf1ddec",
   "metadata": {},
   "outputs": [],
   "source": [
    "from keplergl import KeplerGl\n",
    "import pandas as pd"
   ]
  },
  {
   "cell_type": "markdown",
   "id": "81621a3b",
   "metadata": {},
   "source": [
    "# Load data"
   ]
  },
  {
   "cell_type": "code",
   "execution_count": null,
   "id": "76ce1426",
   "metadata": {},
   "outputs": [],
   "source": [
    "df = pd.read_csv(\"Input/NYPD_Shoot_.csv\")"
   ]
  },
  {
   "cell_type": "markdown",
   "id": "6f0fde9c",
   "metadata": {},
   "source": [
    "# Using the config.py file in a new proyect"
   ]
  },
  {
   "cell_type": "markdown",
   "id": "e80c82d1",
   "metadata": {},
   "source": [
    "🌐 Now, we used the config-py file save before to be used as a template in a new map 🌐\n",
    "\n",
    "If want to load the map next time with this saved config, the easiest way to do is to save the it to a file and use the magic command `%run` to load it w/o cluttering up your notebook."
   ]
  },
  {
   "cell_type": "markdown",
   "id": "c90b37f9",
   "metadata": {},
   "source": [
    "❗ **Match config with data** ❗  \n",
    "All layers, filters and tooltips are associated with a specific dataset. Therefore the data and config in the map has to be able to match each other. The name of the dataset is assigned to:\n",
    "\n",
    "dataId of layer.config,\n",
    "dataId of filter\n",
    "key in interactionConfig.tooltip.fieldToShow.\n",
    "\n",
    "\n",
    "![image](https://d1a3f4spazzrp4.cloudfront.net/kepler.gl/documentation/jupyter_connect_data_w_config.png)"
   ]
  },
  {
   "cell_type": "code",
   "execution_count": null,
   "id": "17992fd4",
   "metadata": {},
   "outputs": [],
   "source": [
    "# assign config = hex_config\n",
    "%run hex_config.py"
   ]
  },
  {
   "cell_type": "code",
   "execution_count": null,
   "id": "96c9d6af",
   "metadata": {},
   "outputs": [],
   "source": [
    "w1 = KeplerGl(height=500, data={\"data_1\": df}, config=config)"
   ]
  },
  {
   "cell_type": "code",
   "execution_count": null,
   "id": "761c8200",
   "metadata": {},
   "outputs": [],
   "source": [
    "w1"
   ]
  }
 ],
 "metadata": {
  "kernelspec": {
   "display_name": "final",
   "language": "python",
   "name": "final"
  },
  "language_info": {
   "codemirror_mode": {
    "name": "ipython",
    "version": 3
   },
   "file_extension": ".py",
   "mimetype": "text/x-python",
   "name": "python",
   "nbconvert_exporter": "python",
   "pygments_lexer": "ipython3",
   "version": "3.8.5"
  },
  "toc": {
   "base_numbering": 1,
   "nav_menu": {},
   "number_sections": true,
   "sideBar": true,
   "skip_h1_title": false,
   "title_cell": "Table of Contents",
   "title_sidebar": "Contents",
   "toc_cell": true,
   "toc_position": {},
   "toc_section_display": true,
   "toc_window_display": true
  },
  "varInspector": {
   "cols": {
    "lenName": 16,
    "lenType": 16,
    "lenVar": 40
   },
   "kernels_config": {
    "python": {
     "delete_cmd_postfix": "",
     "delete_cmd_prefix": "del ",
     "library": "var_list.py",
     "varRefreshCmd": "print(var_dic_list())"
    },
    "r": {
     "delete_cmd_postfix": ") ",
     "delete_cmd_prefix": "rm(",
     "library": "var_list.r",
     "varRefreshCmd": "cat(var_dic_list()) "
    }
   },
   "types_to_exclude": [
    "module",
    "function",
    "builtin_function_or_method",
    "instance",
    "_Feature"
   ],
   "window_display": false
  }
 },
 "nbformat": 4,
 "nbformat_minor": 5
}
