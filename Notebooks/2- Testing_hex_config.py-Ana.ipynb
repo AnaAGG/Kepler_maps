{
 "cells": [
  {
   "cell_type": "markdown",
   "id": "058410de",
   "metadata": {
    "toc": true
   },
   "source": [
    "<h1>Table of Contents<span class=\"tocSkip\"></span></h1>\n",
    "<div class=\"toc\"><ul class=\"toc-item\"><li><span><a href=\"#Libraries\" data-toc-modified-id=\"Libraries-1\"><span class=\"toc-item-num\">1&nbsp;&nbsp;</span>Libraries</a></span></li><li><span><a href=\"#Load-data\" data-toc-modified-id=\"Load-data-2\"><span class=\"toc-item-num\">2&nbsp;&nbsp;</span>Load data</a></span></li><li><span><a href=\"#Using-the-config.py-file-in-a-new-proyect\" data-toc-modified-id=\"Using-the-config.py-file-in-a-new-proyect-3\"><span class=\"toc-item-num\">3&nbsp;&nbsp;</span>Using the config.py file in a new proyect</a></span></li></ul></div>"
   ]
  },
  {
   "cell_type": "markdown",
   "id": "d0c509f0",
   "metadata": {},
   "source": [
    "![portada](https://miro.medium.com/max/1440/1*bB0OTIKP51yoKgKG6Bd9zg.gif)"
   ]
  },
  {
   "cell_type": "markdown",
   "id": "7817d834",
   "metadata": {},
   "source": [
    "# Libraries"
   ]
  },
  {
   "cell_type": "code",
   "execution_count": 13,
   "id": "daf1ddec",
   "metadata": {},
   "outputs": [],
   "source": [
    "from keplergl import KeplerGl\n",
    "import pandas as pd"
   ]
  },
  {
   "cell_type": "markdown",
   "id": "81621a3b",
   "metadata": {},
   "source": [
    "# Load data"
   ]
  },
  {
   "cell_type": "code",
   "execution_count": 14,
   "id": "76ce1426",
   "metadata": {},
   "outputs": [],
   "source": [
    "df = pd.read_csv(\"../Input/traf_Madrid.csv\")"
   ]
  },
  {
   "cell_type": "code",
   "execution_count": 15,
   "id": "9a5bd769",
   "metadata": {},
   "outputs": [
    {
     "data": {
      "text/html": [
       "<div>\n",
       "<style scoped>\n",
       "    .dataframe tbody tr th:only-of-type {\n",
       "        vertical-align: middle;\n",
       "    }\n",
       "\n",
       "    .dataframe tbody tr th {\n",
       "        vertical-align: top;\n",
       "    }\n",
       "\n",
       "    .dataframe thead th {\n",
       "        text-align: right;\n",
       "    }\n",
       "</style>\n",
       "<table border=\"1\" class=\"dataframe\">\n",
       "  <thead>\n",
       "    <tr style=\"text-align: right;\">\n",
       "      <th></th>\n",
       "      <th>poi_id</th>\n",
       "      <th>poi_name</th>\n",
       "      <th>poi_lat</th>\n",
       "      <th>poi_lon</th>\n",
       "      <th>date</th>\n",
       "      <th>occupation</th>\n",
       "      <th>intensity</th>\n",
       "      <th>load</th>\n",
       "      <th>city</th>\n",
       "      <th>year</th>\n",
       "      <th>month</th>\n",
       "      <th>day</th>\n",
       "      <th>hour</th>\n",
       "    </tr>\n",
       "  </thead>\n",
       "  <tbody>\n",
       "    <tr>\n",
       "      <th>0</th>\n",
       "      <td>3844</td>\n",
       "      <td>(AFOROS) PÂº Castellana S-N  - Eduardo Dato - ...</td>\n",
       "      <td>40.433782</td>\n",
       "      <td>-3.688470</td>\n",
       "      <td>2021-02-03T14:25:28.000Z</td>\n",
       "      <td>9.0</td>\n",
       "      <td>2400.0</td>\n",
       "      <td>56.0</td>\n",
       "      <td>madrid</td>\n",
       "      <td>2021</td>\n",
       "      <td>2</td>\n",
       "      <td>3</td>\n",
       "      <td>14</td>\n",
       "    </tr>\n",
       "    <tr>\n",
       "      <th>1</th>\n",
       "      <td>3845</td>\n",
       "      <td>PÂº Recoletos S-N - Villanueva-Jorge Juan</td>\n",
       "      <td>40.423512</td>\n",
       "      <td>-3.690991</td>\n",
       "      <td>2021-02-03T14:25:28.000Z</td>\n",
       "      <td>5.0</td>\n",
       "      <td>1500.0</td>\n",
       "      <td>40.0</td>\n",
       "      <td>madrid</td>\n",
       "      <td>2021</td>\n",
       "      <td>2</td>\n",
       "      <td>3</td>\n",
       "      <td>14</td>\n",
       "    </tr>\n",
       "    <tr>\n",
       "      <th>2</th>\n",
       "      <td>3846</td>\n",
       "      <td>Sagasta 20 O-E - Mejia Lequerica-Pl. Alonso Ma...</td>\n",
       "      <td>40.428164</td>\n",
       "      <td>-3.698403</td>\n",
       "      <td>2021-02-03T14:25:28.000Z</td>\n",
       "      <td>63.0</td>\n",
       "      <td>1200.0</td>\n",
       "      <td>77.0</td>\n",
       "      <td>madrid</td>\n",
       "      <td>2021</td>\n",
       "      <td>2</td>\n",
       "      <td>3</td>\n",
       "      <td>14</td>\n",
       "    </tr>\n",
       "    <tr>\n",
       "      <th>3</th>\n",
       "      <td>3849</td>\n",
       "      <td>PL. SANTA  BARBARA S-N(SERRANO ANGUITA-PL. ALO...</td>\n",
       "      <td>40.426881</td>\n",
       "      <td>-3.696561</td>\n",
       "      <td>2021-02-03T14:25:28.000Z</td>\n",
       "      <td>8.0</td>\n",
       "      <td>960.0</td>\n",
       "      <td>57.0</td>\n",
       "      <td>madrid</td>\n",
       "      <td>2021</td>\n",
       "      <td>2</td>\n",
       "      <td>3</td>\n",
       "      <td>14</td>\n",
       "    </tr>\n",
       "    <tr>\n",
       "      <th>4</th>\n",
       "      <td>3850</td>\n",
       "      <td>(AFOROS) Genova O-E - General CastaÃ±os-Pl. Colon</td>\n",
       "      <td>40.426004</td>\n",
       "      <td>-3.692525</td>\n",
       "      <td>2021-02-03T14:25:28.000Z</td>\n",
       "      <td>10.0</td>\n",
       "      <td>1720.0</td>\n",
       "      <td>55.0</td>\n",
       "      <td>madrid</td>\n",
       "      <td>2021</td>\n",
       "      <td>2</td>\n",
       "      <td>3</td>\n",
       "      <td>14</td>\n",
       "    </tr>\n",
       "  </tbody>\n",
       "</table>\n",
       "</div>"
      ],
      "text/plain": [
       "   poi_id                                           poi_name    poi_lat  \\\n",
       "0    3844  (AFOROS) PÂº Castellana S-N  - Eduardo Dato - ...  40.433782   \n",
       "1    3845          PÂº Recoletos S-N - Villanueva-Jorge Juan  40.423512   \n",
       "2    3846  Sagasta 20 O-E - Mejia Lequerica-Pl. Alonso Ma...  40.428164   \n",
       "3    3849  PL. SANTA  BARBARA S-N(SERRANO ANGUITA-PL. ALO...  40.426881   \n",
       "4    3850  (AFOROS) Genova O-E - General CastaÃ±os-Pl. Colon  40.426004   \n",
       "\n",
       "    poi_lon                      date  occupation  intensity  load    city  \\\n",
       "0 -3.688470  2021-02-03T14:25:28.000Z         9.0     2400.0  56.0  madrid   \n",
       "1 -3.690991  2021-02-03T14:25:28.000Z         5.0     1500.0  40.0  madrid   \n",
       "2 -3.698403  2021-02-03T14:25:28.000Z        63.0     1200.0  77.0  madrid   \n",
       "3 -3.696561  2021-02-03T14:25:28.000Z         8.0      960.0  57.0  madrid   \n",
       "4 -3.692525  2021-02-03T14:25:28.000Z        10.0     1720.0  55.0  madrid   \n",
       "\n",
       "   year  month  day  hour  \n",
       "0  2021      2    3    14  \n",
       "1  2021      2    3    14  \n",
       "2  2021      2    3    14  \n",
       "3  2021      2    3    14  \n",
       "4  2021      2    3    14  "
      ]
     },
     "execution_count": 15,
     "metadata": {},
     "output_type": "execute_result"
    }
   ],
   "source": [
    "df.head()"
   ]
  },
  {
   "cell_type": "markdown",
   "id": "6f0fde9c",
   "metadata": {},
   "source": [
    "# Using the config.py file in a new proyect"
   ]
  },
  {
   "cell_type": "markdown",
   "id": "e80c82d1",
   "metadata": {},
   "source": [
    "🌐 Now, we used the config-py file save before to be used as a template in a new map 🌐\n",
    "\n",
    "If want to load the map next time with this saved config, the easiest way to do is to save the it to a file and use the magic command `%run` to load it w/o cluttering up your notebook."
   ]
  },
  {
   "cell_type": "markdown",
   "id": "c90b37f9",
   "metadata": {},
   "source": [
    "❗ **Match config with data** ❗  \n",
    "All layers, filters and tooltips are associated with a specific dataset. Therefore the data and config in the map has to be able to match each other. The name of the dataset is assigned to:\n",
    "\n",
    "dataId of layer.config,\n",
    "dataId of filter\n",
    "key in interactionConfig.tooltip.fieldToShow.\n",
    "\n",
    "\n",
    "![image](https://d1a3f4spazzrp4.cloudfront.net/kepler.gl/documentation/jupyter_connect_data_w_config.png)"
   ]
  },
  {
   "cell_type": "code",
   "execution_count": 16,
   "id": "17992fd4",
   "metadata": {},
   "outputs": [],
   "source": [
    "# assign config = hex_config\n",
    "%run ../config/hex_config.py"
   ]
  },
  {
   "cell_type": "code",
   "execution_count": 17,
   "id": "98adf3b2",
   "metadata": {},
   "outputs": [
    {
     "data": {
      "text/plain": [
       "dict_keys(['version', 'config'])"
      ]
     },
     "execution_count": 17,
     "metadata": {},
     "output_type": "execute_result"
    }
   ],
   "source": [
    "# Puerta del Sol latitude = 40.417163266629544, longitude = -3.7035263176512414\n",
    "config.keys()"
   ]
  },
  {
   "cell_type": "code",
   "execution_count": 18,
   "id": "c23d04f2",
   "metadata": {},
   "outputs": [
    {
     "data": {
      "text/plain": [
       "{'bearing': 24,\n",
       " 'dragRotate': True,\n",
       " 'latitude': 40.75909780798076,\n",
       " 'longitude': -73.94674894480104,\n",
       " 'pitch': 50,\n",
       " 'zoom': 10.154240796466217,\n",
       " 'isSplit': False}"
      ]
     },
     "execution_count": 18,
     "metadata": {},
     "output_type": "execute_result"
    }
   ],
   "source": [
    "config[\"config\"].get(\"mapState\")"
   ]
  },
  {
   "cell_type": "code",
   "execution_count": 19,
   "id": "0ddcad19",
   "metadata": {},
   "outputs": [],
   "source": [
    "for k, v in config[\"config\"].get(\"mapState\").items():\n",
    "    config[\"config\"].get(\"mapState\")[\"latitude\"] = 40.417163266629544\n",
    "    config[\"config\"].get(\"mapState\")[\"longitude\"] = -3.7035263176512414"
   ]
  },
  {
   "cell_type": "code",
   "execution_count": 20,
   "id": "ca78a110",
   "metadata": {},
   "outputs": [
    {
     "data": {
      "text/plain": [
       "{'bearing': 24,\n",
       " 'dragRotate': True,\n",
       " 'latitude': 40.417163266629544,\n",
       " 'longitude': -3.7035263176512414,\n",
       " 'pitch': 50,\n",
       " 'zoom': 10.154240796466217,\n",
       " 'isSplit': False}"
      ]
     },
     "execution_count": 20,
     "metadata": {},
     "output_type": "execute_result"
    }
   ],
   "source": [
    "config[\"config\"].get(\"mapState\")"
   ]
  },
  {
   "cell_type": "code",
   "execution_count": 21,
   "id": "96c9d6af",
   "metadata": {},
   "outputs": [
    {
     "name": "stdout",
     "output_type": "stream",
     "text": [
      "User Guide: https://docs.kepler.gl/docs/keplergl-jupyter\n"
     ]
    }
   ],
   "source": [
    "w1 = KeplerGl(height=500, data={\"data_1\": df}, config=config)"
   ]
  },
  {
   "cell_type": "code",
   "execution_count": 22,
   "id": "761c8200",
   "metadata": {},
   "outputs": [
    {
     "data": {
      "application/vnd.jupyter.widget-view+json": {
       "model_id": "6f23fd49d97b448abd3d9c7f1a834055",
       "version_major": 2,
       "version_minor": 0
      },
      "text/plain": [
       "KeplerGl(config={'version': 'v1', 'config': {'visState': {'filters': [], 'layers': [{'id': 'sbqxr', 'type': 'h…"
      ]
     },
     "metadata": {},
     "output_type": "display_data"
    }
   ],
   "source": [
    "w1"
   ]
  },
  {
   "cell_type": "code",
   "execution_count": null,
   "id": "a744c2fa",
   "metadata": {},
   "outputs": [],
   "source": []
  }
 ],
 "metadata": {
  "kernelspec": {
   "display_name": "final",
   "language": "python",
   "name": "final"
  },
  "language_info": {
   "codemirror_mode": {
    "name": "ipython",
    "version": 3
   },
   "file_extension": ".py",
   "mimetype": "text/x-python",
   "name": "python",
   "nbconvert_exporter": "python",
   "pygments_lexer": "ipython3",
   "version": "3.8.5"
  },
  "toc": {
   "base_numbering": 1,
   "nav_menu": {},
   "number_sections": true,
   "sideBar": true,
   "skip_h1_title": false,
   "title_cell": "Table of Contents",
   "title_sidebar": "Contents",
   "toc_cell": true,
   "toc_position": {},
   "toc_section_display": true,
   "toc_window_display": false
  },
  "varInspector": {
   "cols": {
    "lenName": 16,
    "lenType": 16,
    "lenVar": 40
   },
   "kernels_config": {
    "python": {
     "delete_cmd_postfix": "",
     "delete_cmd_prefix": "del ",
     "library": "var_list.py",
     "varRefreshCmd": "print(var_dic_list())"
    },
    "r": {
     "delete_cmd_postfix": ") ",
     "delete_cmd_prefix": "rm(",
     "library": "var_list.r",
     "varRefreshCmd": "cat(var_dic_list()) "
    }
   },
   "types_to_exclude": [
    "module",
    "function",
    "builtin_function_or_method",
    "instance",
    "_Feature"
   ],
   "window_display": false
  }
 },
 "nbformat": 4,
 "nbformat_minor": 5
}
