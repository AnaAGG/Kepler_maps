{
 "cells": [
  {
   "cell_type": "markdown",
   "id": "b287fba0",
   "metadata": {
    "toc": true
   },
   "source": [
    "<h1>Table of Contents<span class=\"tocSkip\"></span></h1>\n",
    "<div class=\"toc\"><ul class=\"toc-item\"><li><span><a href=\"#Libraries\" data-toc-modified-id=\"Libraries-1\"><span class=\"toc-item-num\">1&nbsp;&nbsp;</span>Libraries</a></span></li><li><span><a href=\"#Keppler-using-geojson\" data-toc-modified-id=\"Keppler-using-geojson-2\"><span class=\"toc-item-num\">2&nbsp;&nbsp;</span>Keppler using geojson</a></span></li></ul></div>"
   ]
  },
  {
   "cell_type": "markdown",
   "id": "8f8e3c40",
   "metadata": {},
   "source": [
    "![portada](https://miro.medium.com/max/7077/1*0l-WeqdtYRruoV_XxS-ZKg.png)"
   ]
  },
  {
   "cell_type": "markdown",
   "id": "f07e05c3",
   "metadata": {},
   "source": [
    "#  Libraries"
   ]
  },
  {
   "cell_type": "code",
   "execution_count": 1,
   "id": "declared-sound",
   "metadata": {},
   "outputs": [
    {
     "name": "stderr",
     "output_type": "stream",
     "text": [
      "/home/anagarcia/anaconda3/envs/final/lib/python3.8/site-packages/geopandas/_compat.py:106: UserWarning: The Shapely GEOS version (3.8.0-CAPI-1.13.1 ) is incompatible with the GEOS version PyGEOS was compiled with (3.9.0-CAPI-1.16.2). Conversions between both will be slow.\n",
      "  warnings.warn(\n"
     ]
    }
   ],
   "source": [
    "import pandas as pd\n",
    "import geopandas as gpd\n",
    "from keplergl import KeplerGl\n",
    "import rtree\n",
    "import pygeos\n"
   ]
  },
  {
   "cell_type": "markdown",
   "id": "71f2bdd0",
   "metadata": {},
   "source": [
    "# Keppler using geojson"
   ]
  },
  {
   "cell_type": "markdown",
   "id": "israeli-publicity",
   "metadata": {},
   "source": [
    "🏬🏬  **Datasets Block** 🏬🏬   ==> https://opendata.vancouver.ca/explore/dataset/block-outlines/information/  \n",
    "\n",
    "Datasets Graffiti ==> https://opendata.vancouver.ca/explore/dataset/graffiti/export/"
   ]
  },
  {
   "cell_type": "markdown",
   "id": "pharmaceutical-expression",
   "metadata": {},
   "source": [
    "To perform the map we use two datasets containing data on the outlines of the blocks, and one containing the location of graffiti in the city."
   ]
  },
  {
   "cell_type": "code",
   "execution_count": 2,
   "id": "remarkable-primary",
   "metadata": {},
   "outputs": [],
   "source": [
    "block = gpd.read_file('Input/block-outlines.geojson')\n",
    "graffiti = gpd.read_file('Input/graffiti.geojson')\n"
   ]
  },
  {
   "cell_type": "code",
   "execution_count": 3,
   "id": "unauthorized-strip",
   "metadata": {},
   "outputs": [
    {
     "data": {
      "text/html": [
       "<div>\n",
       "<style scoped>\n",
       "    .dataframe tbody tr th:only-of-type {\n",
       "        vertical-align: middle;\n",
       "    }\n",
       "\n",
       "    .dataframe tbody tr th {\n",
       "        vertical-align: top;\n",
       "    }\n",
       "\n",
       "    .dataframe thead th {\n",
       "        text-align: right;\n",
       "    }\n",
       "</style>\n",
       "<table border=\"1\" class=\"dataframe\">\n",
       "  <thead>\n",
       "    <tr style=\"text-align: right;\">\n",
       "      <th></th>\n",
       "      <th>geometry</th>\n",
       "    </tr>\n",
       "  </thead>\n",
       "  <tbody>\n",
       "    <tr>\n",
       "      <th>0</th>\n",
       "      <td>POLYGON ((-123.03461 49.25223, -123.03488 49.2...</td>\n",
       "    </tr>\n",
       "    <tr>\n",
       "      <th>1</th>\n",
       "      <td>POLYGON ((-123.04151 49.24497, -123.04162 49.2...</td>\n",
       "    </tr>\n",
       "    <tr>\n",
       "      <th>2</th>\n",
       "      <td>POLYGON ((-123.03462 49.24779, -123.03476 49.2...</td>\n",
       "    </tr>\n",
       "    <tr>\n",
       "      <th>3</th>\n",
       "      <td>POLYGON ((-123.03462 49.24868, -123.03476 49.2...</td>\n",
       "    </tr>\n",
       "    <tr>\n",
       "      <th>4</th>\n",
       "      <td>POLYGON ((-123.03924 49.24666, -123.03924 49.2...</td>\n",
       "    </tr>\n",
       "  </tbody>\n",
       "</table>\n",
       "</div>"
      ],
      "text/plain": [
       "                                            geometry\n",
       "0  POLYGON ((-123.03461 49.25223, -123.03488 49.2...\n",
       "1  POLYGON ((-123.04151 49.24497, -123.04162 49.2...\n",
       "2  POLYGON ((-123.03462 49.24779, -123.03476 49.2...\n",
       "3  POLYGON ((-123.03462 49.24868, -123.03476 49.2...\n",
       "4  POLYGON ((-123.03924 49.24666, -123.03924 49.2..."
      ]
     },
     "execution_count": 3,
     "metadata": {},
     "output_type": "execute_result"
    }
   ],
   "source": [
    "block.head()"
   ]
  },
  {
   "cell_type": "code",
   "execution_count": 4,
   "id": "stuffed-newman",
   "metadata": {},
   "outputs": [
    {
     "data": {
      "text/html": [
       "<div>\n",
       "<style scoped>\n",
       "    .dataframe tbody tr th:only-of-type {\n",
       "        vertical-align: middle;\n",
       "    }\n",
       "\n",
       "    .dataframe tbody tr th {\n",
       "        vertical-align: top;\n",
       "    }\n",
       "\n",
       "    .dataframe thead th {\n",
       "        text-align: right;\n",
       "    }\n",
       "</style>\n",
       "<table border=\"1\" class=\"dataframe\">\n",
       "  <thead>\n",
       "    <tr style=\"text-align: right;\">\n",
       "      <th></th>\n",
       "      <th>count</th>\n",
       "      <th>geo_local_area</th>\n",
       "      <th>geometry</th>\n",
       "    </tr>\n",
       "  </thead>\n",
       "  <tbody>\n",
       "    <tr>\n",
       "      <th>0</th>\n",
       "      <td>11</td>\n",
       "      <td>Fairview</td>\n",
       "      <td>POINT (-123.13525 49.26322)</td>\n",
       "    </tr>\n",
       "    <tr>\n",
       "      <th>1</th>\n",
       "      <td>10</td>\n",
       "      <td>Downtown</td>\n",
       "      <td>POINT (-123.11055 49.28277)</td>\n",
       "    </tr>\n",
       "    <tr>\n",
       "      <th>2</th>\n",
       "      <td>2</td>\n",
       "      <td>Grandview-Woodland</td>\n",
       "      <td>POINT (-123.07426 49.28337)</td>\n",
       "    </tr>\n",
       "    <tr>\n",
       "      <th>3</th>\n",
       "      <td>5</td>\n",
       "      <td>Grandview-Woodland</td>\n",
       "      <td>POINT (-123.06075 49.28144)</td>\n",
       "    </tr>\n",
       "    <tr>\n",
       "      <th>4</th>\n",
       "      <td>1</td>\n",
       "      <td>West End</td>\n",
       "      <td>POINT (-123.13400 49.28598)</td>\n",
       "    </tr>\n",
       "  </tbody>\n",
       "</table>\n",
       "</div>"
      ],
      "text/plain": [
       "   count      geo_local_area                     geometry\n",
       "0     11            Fairview  POINT (-123.13525 49.26322)\n",
       "1     10            Downtown  POINT (-123.11055 49.28277)\n",
       "2      2  Grandview-Woodland  POINT (-123.07426 49.28337)\n",
       "3      5  Grandview-Woodland  POINT (-123.06075 49.28144)\n",
       "4      1            West End  POINT (-123.13400 49.28598)"
      ]
     },
     "execution_count": 4,
     "metadata": {},
     "output_type": "execute_result"
    }
   ],
   "source": [
    "graffiti.head()"
   ]
  },
  {
   "cell_type": "code",
   "execution_count": 5,
   "id": "japanese-denial",
   "metadata": {},
   "outputs": [
    {
     "name": "stdout",
     "output_type": "stream",
     "text": [
      "geometry    1\n",
      "dtype: int64 count             0\n",
      "geo_local_area    1\n",
      "geometry          0\n",
      "dtype: int64\n"
     ]
    }
   ],
   "source": [
    "null_block = block.isnull().sum()\n",
    "null_graf = graffiti.isnull().sum()\n",
    "\n",
    "print(null_block, null_graf)"
   ]
  },
  {
   "cell_type": "code",
   "execution_count": 6,
   "id": "backed-flower",
   "metadata": {},
   "outputs": [],
   "source": [
    "block.dropna(inplace=True)\n",
    "graffiti.dropna(inplace=True)"
   ]
  },
  {
   "cell_type": "markdown",
   "id": "monthly-dakota",
   "metadata": {},
   "source": [
    "GeoPandas .sjoin is somewhat similar to a SQL join, but instead of looking at some index, it will look at the geometries — that means, it checks if the points are inside our polygon and return a row for each match."
   ]
  },
  {
   "cell_type": "markdown",
   "id": "afc090e8",
   "metadata": {},
   "source": [
    "![sjoin](https://i.stack.imgur.com/aP3px.png)"
   ]
  },
  {
   "cell_type": "code",
   "execution_count": 7,
   "id": "incoming-steal",
   "metadata": {},
   "outputs": [],
   "source": [
    "# join datasets\n",
    "graf_block = gpd.sjoin(block, graffiti, how='inner', op='contains')"
   ]
  },
  {
   "cell_type": "code",
   "execution_count": 8,
   "id": "bearing-worry",
   "metadata": {},
   "outputs": [
    {
     "data": {
      "text/html": [
       "<div>\n",
       "<style scoped>\n",
       "    .dataframe tbody tr th:only-of-type {\n",
       "        vertical-align: middle;\n",
       "    }\n",
       "\n",
       "    .dataframe tbody tr th {\n",
       "        vertical-align: top;\n",
       "    }\n",
       "\n",
       "    .dataframe thead th {\n",
       "        text-align: right;\n",
       "    }\n",
       "</style>\n",
       "<table border=\"1\" class=\"dataframe\">\n",
       "  <thead>\n",
       "    <tr style=\"text-align: right;\">\n",
       "      <th></th>\n",
       "      <th>index</th>\n",
       "      <th>geometry</th>\n",
       "      <th>index_right</th>\n",
       "      <th>count</th>\n",
       "      <th>geo_local_area</th>\n",
       "    </tr>\n",
       "  </thead>\n",
       "  <tbody>\n",
       "    <tr>\n",
       "      <th>0</th>\n",
       "      <td>0</td>\n",
       "      <td>POLYGON ((-123.03461 49.25223, -123.03488 49.2...</td>\n",
       "      <td>4111</td>\n",
       "      <td>1</td>\n",
       "      <td>Renfrew-Collingwood</td>\n",
       "    </tr>\n",
       "    <tr>\n",
       "      <th>1</th>\n",
       "      <td>0</td>\n",
       "      <td>POLYGON ((-123.03461 49.25223, -123.03488 49.2...</td>\n",
       "      <td>7136</td>\n",
       "      <td>1</td>\n",
       "      <td>Renfrew-Collingwood</td>\n",
       "    </tr>\n",
       "    <tr>\n",
       "      <th>2</th>\n",
       "      <td>9</td>\n",
       "      <td>POLYGON ((-123.03898 49.24496, -123.03898 49.2...</td>\n",
       "      <td>827</td>\n",
       "      <td>1</td>\n",
       "      <td>Renfrew-Collingwood</td>\n",
       "    </tr>\n",
       "    <tr>\n",
       "      <th>3</th>\n",
       "      <td>10</td>\n",
       "      <td>POLYGON ((-123.04248 49.24147, -123.04235 49.2...</td>\n",
       "      <td>6982</td>\n",
       "      <td>1</td>\n",
       "      <td>Renfrew-Collingwood</td>\n",
       "    </tr>\n",
       "    <tr>\n",
       "      <th>4</th>\n",
       "      <td>12</td>\n",
       "      <td>POLYGON ((-123.04379 49.23646, -123.04402 49.2...</td>\n",
       "      <td>3463</td>\n",
       "      <td>6</td>\n",
       "      <td>Renfrew-Collingwood</td>\n",
       "    </tr>\n",
       "  </tbody>\n",
       "</table>\n",
       "</div>"
      ],
      "text/plain": [
       "   index                                           geometry  index_right  \\\n",
       "0      0  POLYGON ((-123.03461 49.25223, -123.03488 49.2...         4111   \n",
       "1      0  POLYGON ((-123.03461 49.25223, -123.03488 49.2...         7136   \n",
       "2      9  POLYGON ((-123.03898 49.24496, -123.03898 49.2...          827   \n",
       "3     10  POLYGON ((-123.04248 49.24147, -123.04235 49.2...         6982   \n",
       "4     12  POLYGON ((-123.04379 49.23646, -123.04402 49.2...         3463   \n",
       "\n",
       "   count       geo_local_area  \n",
       "0      1  Renfrew-Collingwood  \n",
       "1      1  Renfrew-Collingwood  \n",
       "2      1  Renfrew-Collingwood  \n",
       "3      1  Renfrew-Collingwood  \n",
       "4      6  Renfrew-Collingwood  "
      ]
     },
     "execution_count": 8,
     "metadata": {},
     "output_type": "execute_result"
    }
   ],
   "source": [
    "graf_block.reset_index(inplace = True)\n",
    "graf_block.head()"
   ]
  },
  {
   "cell_type": "code",
   "execution_count": 9,
   "id": "chief-benchmark",
   "metadata": {},
   "outputs": [
    {
     "data": {
      "text/html": [
       "<div>\n",
       "<style scoped>\n",
       "    .dataframe tbody tr th:only-of-type {\n",
       "        vertical-align: middle;\n",
       "    }\n",
       "\n",
       "    .dataframe tbody tr th {\n",
       "        vertical-align: top;\n",
       "    }\n",
       "\n",
       "    .dataframe thead th {\n",
       "        text-align: right;\n",
       "    }\n",
       "</style>\n",
       "<table border=\"1\" class=\"dataframe\">\n",
       "  <thead>\n",
       "    <tr style=\"text-align: right;\">\n",
       "      <th></th>\n",
       "      <th>geometry</th>\n",
       "      <th>index_right</th>\n",
       "      <th>count</th>\n",
       "    </tr>\n",
       "    <tr>\n",
       "      <th>index</th>\n",
       "      <th></th>\n",
       "      <th></th>\n",
       "      <th></th>\n",
       "    </tr>\n",
       "  </thead>\n",
       "  <tbody>\n",
       "    <tr>\n",
       "      <th>0</th>\n",
       "      <td>POLYGON ((-123.03640 49.25188, -123.03640 49.2...</td>\n",
       "      <td>11247</td>\n",
       "      <td>2</td>\n",
       "    </tr>\n",
       "    <tr>\n",
       "      <th>9</th>\n",
       "      <td>POLYGON ((-123.03898 49.24496, -123.03898 49.2...</td>\n",
       "      <td>827</td>\n",
       "      <td>1</td>\n",
       "    </tr>\n",
       "    <tr>\n",
       "      <th>10</th>\n",
       "      <td>POLYGON ((-123.04248 49.24147, -123.04235 49.2...</td>\n",
       "      <td>6982</td>\n",
       "      <td>1</td>\n",
       "    </tr>\n",
       "    <tr>\n",
       "      <th>12</th>\n",
       "      <td>POLYGON ((-123.04379 49.23646, -123.04402 49.2...</td>\n",
       "      <td>3463</td>\n",
       "      <td>6</td>\n",
       "    </tr>\n",
       "    <tr>\n",
       "      <th>13</th>\n",
       "      <td>POLYGON ((-123.04310 49.23813, -123.04348 49.2...</td>\n",
       "      <td>6665</td>\n",
       "      <td>4</td>\n",
       "    </tr>\n",
       "  </tbody>\n",
       "</table>\n",
       "</div>"
      ],
      "text/plain": [
       "                                                geometry  index_right  count\n",
       "index                                                                       \n",
       "0      POLYGON ((-123.03640 49.25188, -123.03640 49.2...        11247      2\n",
       "9      POLYGON ((-123.03898 49.24496, -123.03898 49.2...          827      1\n",
       "10     POLYGON ((-123.04248 49.24147, -123.04235 49.2...         6982      1\n",
       "12     POLYGON ((-123.04379 49.23646, -123.04402 49.2...         3463      6\n",
       "13     POLYGON ((-123.04310 49.23813, -123.04348 49.2...         6665      4"
      ]
     },
     "execution_count": 9,
     "metadata": {},
     "output_type": "execute_result"
    }
   ],
   "source": [
    "#Then we can dissolve our new data frame; this will group the old indexes and sum the graffiti count.graf_block = graf_block.dissolve(by='index', aggfunc='sum')\n",
    "graf_block = graf_block.dissolve(by='index', aggfunc='sum')\n",
    "graf_block.head()"
   ]
  },
  {
   "cell_type": "code",
   "execution_count": 10,
   "id": "supported-occupation",
   "metadata": {},
   "outputs": [
    {
     "data": {
      "text/plain": [
       "dict_keys(['graffiti', 'block'])"
      ]
     },
     "execution_count": 10,
     "metadata": {},
     "output_type": "execute_result"
    }
   ],
   "source": [
    "data_dict = {\"graffiti\": graf_block, \"block\": block}\n",
    "data_dict.keys()"
   ]
  },
  {
   "cell_type": "code",
   "execution_count": 11,
   "id": "regulation-neighborhood",
   "metadata": {},
   "outputs": [
    {
     "name": "stdout",
     "output_type": "stream",
     "text": [
      "User Guide: https://docs.kepler.gl/docs/keplergl-jupyter\n"
     ]
    }
   ],
   "source": [
    "graffiti_map = KeplerGl(height=500, data=data_dict)"
   ]
  },
  {
   "cell_type": "code",
   "execution_count": 12,
   "id": "e649db9a",
   "metadata": {
    "scrolled": false
   },
   "outputs": [
    {
     "data": {
      "application/vnd.jupyter.widget-view+json": {
       "model_id": "67b898457c69483a8224421900e8898c",
       "version_major": 2,
       "version_minor": 0
      },
      "text/plain": [
       "KeplerGl(data={'graffiti':                                                 geometry  index_right  count\n",
       "index …"
      ]
     },
     "metadata": {},
     "output_type": "display_data"
    }
   ],
   "source": [
    "graffiti_map"
   ]
  },
  {
   "cell_type": "code",
   "execution_count": 16,
   "id": "1cceb904",
   "metadata": {},
   "outputs": [],
   "source": [
    "geojson_config = graffiti_map.config"
   ]
  },
  {
   "cell_type": "code",
   "execution_count": null,
   "id": "7a59c320",
   "metadata": {},
   "outputs": [],
   "source": []
  }
 ],
 "metadata": {
  "kernelspec": {
   "display_name": "final",
   "language": "python",
   "name": "final"
  },
  "language_info": {
   "codemirror_mode": {
    "name": "ipython",
    "version": 3
   },
   "file_extension": ".py",
   "mimetype": "text/x-python",
   "name": "python",
   "nbconvert_exporter": "python",
   "pygments_lexer": "ipython3",
   "version": "3.8.5"
  },
  "toc": {
   "base_numbering": 1,
   "nav_menu": {},
   "number_sections": true,
   "sideBar": true,
   "skip_h1_title": false,
   "title_cell": "Table of Contents",
   "title_sidebar": "Contents",
   "toc_cell": true,
   "toc_position": {},
   "toc_section_display": true,
   "toc_window_display": false
  },
  "varInspector": {
   "cols": {
    "lenName": 16,
    "lenType": 16,
    "lenVar": 40
   },
   "kernels_config": {
    "python": {
     "delete_cmd_postfix": "",
     "delete_cmd_prefix": "del ",
     "library": "var_list.py",
     "varRefreshCmd": "print(var_dic_list())"
    },
    "r": {
     "delete_cmd_postfix": ") ",
     "delete_cmd_prefix": "rm(",
     "library": "var_list.r",
     "varRefreshCmd": "cat(var_dic_list()) "
    }
   },
   "types_to_exclude": [
    "module",
    "function",
    "builtin_function_or_method",
    "instance",
    "_Feature"
   ],
   "window_display": false
  }
 },
 "nbformat": 4,
 "nbformat_minor": 5
}
