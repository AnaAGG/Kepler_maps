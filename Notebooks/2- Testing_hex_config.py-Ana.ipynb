{
 "cells": [
  {
   "cell_type": "markdown",
   "id": "058410de",
   "metadata": {
    "toc": true
   },
   "source": [
    "<h1>Table of Contents<span class=\"tocSkip\"></span></h1>\n",
    "<div class=\"toc\"><ul class=\"toc-item\"><li><span><a href=\"#Libraries\" data-toc-modified-id=\"Libraries-1\"><span class=\"toc-item-num\">1&nbsp;&nbsp;</span>Libraries</a></span></li><li><span><a href=\"#Load-data\" data-toc-modified-id=\"Load-data-2\"><span class=\"toc-item-num\">2&nbsp;&nbsp;</span>Load data</a></span></li><li><span><a href=\"#Using-the-config.py-file-in-a-new-proyect\" data-toc-modified-id=\"Using-the-config.py-file-in-a-new-proyect-3\"><span class=\"toc-item-num\">3&nbsp;&nbsp;</span>Using the config.py file in a new proyect</a></span></li><li><span><a href=\"#Create-a-map\" data-toc-modified-id=\"Create-a-map-4\"><span class=\"toc-item-num\">4&nbsp;&nbsp;</span>Create a map</a></span></li><li><span><a href=\"#But...-where-is-the-data?\" data-toc-modified-id=\"But...-where-is-the-data?-5\"><span class=\"toc-item-num\">5&nbsp;&nbsp;</span>But... where is the data?</a></span><ul class=\"toc-item\"><li><span><a href=\"#Change-latitude-and-longitude\" data-toc-modified-id=\"Change-latitude-and-longitude-5.1\"><span class=\"toc-item-num\">5.1&nbsp;&nbsp;</span>Change latitude and longitude</a></span></li><li><span><a href=\"#Change-map-style\" data-toc-modified-id=\"Change-map-style-5.2\"><span class=\"toc-item-num\">5.2&nbsp;&nbsp;</span>Change map style</a></span></li><li><span><a href=\"#Reload-the-map\" data-toc-modified-id=\"Reload-the-map-5.3\"><span class=\"toc-item-num\">5.3&nbsp;&nbsp;</span>Reload the map</a></span></li></ul></li></ul></div>"
   ]
  },
  {
   "cell_type": "markdown",
   "id": "d0c509f0",
   "metadata": {},
   "source": [
    "![portada](https://miro.medium.com/max/1440/1*bB0OTIKP51yoKgKG6Bd9zg.gif)"
   ]
  },
  {
   "cell_type": "markdown",
   "id": "7817d834",
   "metadata": {},
   "source": [
    "# Libraries"
   ]
  },
  {
   "cell_type": "code",
   "execution_count": null,
   "id": "daf1ddec",
   "metadata": {},
   "outputs": [],
   "source": [
    "from keplergl import KeplerGl\n",
    "import pandas as pd"
   ]
  },
  {
   "cell_type": "markdown",
   "id": "81621a3b",
   "metadata": {},
   "source": [
    "# Load data"
   ]
  },
  {
   "cell_type": "code",
   "execution_count": null,
   "id": "76ce1426",
   "metadata": {},
   "outputs": [],
   "source": [
    "df = pd.read_csv(\"../Input/traf_Madrid.csv\")"
   ]
  },
  {
   "cell_type": "code",
   "execution_count": null,
   "id": "9a5bd769",
   "metadata": {},
   "outputs": [],
   "source": [
    "df.head()"
   ]
  },
  {
   "cell_type": "markdown",
   "id": "6f0fde9c",
   "metadata": {},
   "source": [
    "# Using the config.py file in a new proyect"
   ]
  },
  {
   "cell_type": "markdown",
   "id": "e80c82d1",
   "metadata": {},
   "source": [
    "🌐 Now, we used the config-py file save before to be used as a template in a new map 🌐\n",
    "\n",
    "If want to load the map next time with this saved config, the easiest way to do is to save the it to a file and use the magic command `%run` to load it w/o cluttering up your notebook."
   ]
  },
  {
   "cell_type": "markdown",
   "id": "c90b37f9",
   "metadata": {},
   "source": [
    "❗ **Match config with data** ❗  \n",
    "All layers, filters and tooltips are associated with a specific dataset. Therefore the data and config in the map has to be able to match each other. The name of the dataset is assigned to:\n",
    "\n",
    "dataId of layer.config,\n",
    "dataId of filter\n",
    "key in interactionConfig.tooltip.fieldToShow.\n",
    "\n",
    "\n",
    "![image](https://d1a3f4spazzrp4.cloudfront.net/kepler.gl/documentation/jupyter_connect_data_w_config.png)"
   ]
  },
  {
   "cell_type": "code",
   "execution_count": null,
   "id": "17992fd4",
   "metadata": {},
   "outputs": [],
   "source": [
    "# assign config = hex_config\n",
    "%run ../config/hex_config.py"
   ]
  },
  {
   "cell_type": "markdown",
   "id": "20945cd8",
   "metadata": {},
   "source": [
    "# Create a map"
   ]
  },
  {
   "cell_type": "markdown",
   "id": "d110afde",
   "metadata": {},
   "source": [
    "⚠️ If we want to add a config file, it would be included in the basemap code ⚠️"
   ]
  },
  {
   "cell_type": "code",
   "execution_count": null,
   "id": "96c9d6af",
   "metadata": {},
   "outputs": [],
   "source": [
    "map_3 = KeplerGl(height=600, width=800, config=config)\n",
    "map_3.add_data(data=df, name='crimes' )\n"
   ]
  },
  {
   "cell_type": "code",
   "execution_count": null,
   "id": "32a8f6fa",
   "metadata": {
    "scrolled": false
   },
   "outputs": [],
   "source": [
    "map_3"
   ]
  },
  {
   "cell_type": "markdown",
   "id": "8780a100",
   "metadata": {},
   "source": [
    "# But... where is the data? "
   ]
  },
  {
   "cell_type": "markdown",
   "id": "c4dac857",
   "metadata": {},
   "source": [
    "The configuration is loaded but ... you have to move the map or I want to change the background.\n",
    "We are programmers and the configuration file is a dictionary. So ... let's change it!"
   ]
  },
  {
   "cell_type": "code",
   "execution_count": null,
   "id": "98adf3b2",
   "metadata": {},
   "outputs": [],
   "source": [
    "config.keys()"
   ]
  },
  {
   "cell_type": "markdown",
   "id": "5c18942c",
   "metadata": {},
   "source": [
    "## Change latitude and longitude "
   ]
  },
  {
   "cell_type": "code",
   "execution_count": null,
   "id": "ee9a02de",
   "metadata": {},
   "outputs": [],
   "source": [
    "# We can change the center of our map. Image that we can apply this map configuration but our data are in Madrid. \n",
    "# Changing the lat,long values of the configuration file we can apply the \n",
    "# New coord : 40.42532, -3.70151\n",
    "y = config.get(\"config\").get(\"mapState\")\n",
    "y"
   ]
  },
  {
   "cell_type": "code",
   "execution_count": 1,
   "id": "0ddcad19",
   "metadata": {},
   "outputs": [
    {
     "ename": "NameError",
     "evalue": "name 'config' is not defined",
     "output_type": "error",
     "traceback": [
      "\u001b[0;31m---------------------------------------------------------------------------\u001b[0m",
      "\u001b[0;31mNameError\u001b[0m                                 Traceback (most recent call last)",
      "\u001b[0;32m<ipython-input-1-d3c6511c308c>\u001b[0m in \u001b[0;36m<module>\u001b[0;34m\u001b[0m\n\u001b[1;32m      1\u001b[0m \u001b[0;31m# Now, we will change the lat and long values\u001b[0m\u001b[0;34m\u001b[0m\u001b[0;34m\u001b[0m\u001b[0;34m\u001b[0m\u001b[0m\n\u001b[0;32m----> 2\u001b[0;31m \u001b[0;32mfor\u001b[0m \u001b[0mk\u001b[0m\u001b[0;34m,\u001b[0m \u001b[0mv\u001b[0m \u001b[0;32min\u001b[0m \u001b[0mconfig\u001b[0m\u001b[0;34m[\u001b[0m\u001b[0;34m\"config\"\u001b[0m\u001b[0;34m]\u001b[0m\u001b[0;34m.\u001b[0m\u001b[0mget\u001b[0m\u001b[0;34m(\u001b[0m\u001b[0;34m\"mapState\"\u001b[0m\u001b[0;34m)\u001b[0m\u001b[0;34m.\u001b[0m\u001b[0mitems\u001b[0m\u001b[0;34m(\u001b[0m\u001b[0;34m)\u001b[0m\u001b[0;34m:\u001b[0m\u001b[0;34m\u001b[0m\u001b[0;34m\u001b[0m\u001b[0m\n\u001b[0m\u001b[1;32m      3\u001b[0m     \u001b[0mconfig\u001b[0m\u001b[0;34m[\u001b[0m\u001b[0;34m\"config\"\u001b[0m\u001b[0;34m]\u001b[0m\u001b[0;34m.\u001b[0m\u001b[0mget\u001b[0m\u001b[0;34m(\u001b[0m\u001b[0;34m\"mapState\"\u001b[0m\u001b[0;34m)\u001b[0m\u001b[0;34m[\u001b[0m\u001b[0;34m\"latitude\"\u001b[0m\u001b[0;34m]\u001b[0m \u001b[0;34m=\u001b[0m \u001b[0;36m40.417163266629544\u001b[0m\u001b[0;34m\u001b[0m\u001b[0;34m\u001b[0m\u001b[0m\n\u001b[1;32m      4\u001b[0m     \u001b[0mconfig\u001b[0m\u001b[0;34m[\u001b[0m\u001b[0;34m\"config\"\u001b[0m\u001b[0;34m]\u001b[0m\u001b[0;34m.\u001b[0m\u001b[0mget\u001b[0m\u001b[0;34m(\u001b[0m\u001b[0;34m\"mapState\"\u001b[0m\u001b[0;34m)\u001b[0m\u001b[0;34m[\u001b[0m\u001b[0;34m\"longitude\"\u001b[0m\u001b[0;34m]\u001b[0m \u001b[0;34m=\u001b[0m \u001b[0;34m-\u001b[0m\u001b[0;36m3.7035263176512414\u001b[0m\u001b[0;34m\u001b[0m\u001b[0;34m\u001b[0m\u001b[0m\n",
      "\u001b[0;31mNameError\u001b[0m: name 'config' is not defined"
     ]
    }
   ],
   "source": [
    "# Now, we will change the lat and long values\n",
    "for k, v in config[\"config\"].get(\"mapState\").items():\n",
    "    config[\"config\"].get(\"mapState\")[\"latitude\"] = 40.417163266629544\n",
    "    config[\"config\"].get(\"mapState\")[\"longitude\"] = -3.7035263176512414"
   ]
  },
  {
   "cell_type": "code",
   "execution_count": null,
   "id": "ca78a110",
   "metadata": {},
   "outputs": [],
   "source": [
    "config[\"config\"].get(\"mapState\")"
   ]
  },
  {
   "cell_type": "markdown",
   "id": "e0fc60dd",
   "metadata": {},
   "source": [
    "## Change map style"
   ]
  },
  {
   "cell_type": "code",
   "execution_count": null,
   "id": "539adad8",
   "metadata": {},
   "outputs": [],
   "source": [
    "# Take the map style dicctionary\n",
    "config.get(\"config\").get(\"mapStyle\")"
   ]
  },
  {
   "cell_type": "code",
   "execution_count": null,
   "id": "84211fba",
   "metadata": {},
   "outputs": [],
   "source": [
    "# Now, we will change the styleType key\n",
    "x = config.get(\"config\").get(\"mapStyle\")\n",
    "for k, v in x.items():\n",
    "    x[\"styleType\"] = \"light\""
   ]
  },
  {
   "cell_type": "code",
   "execution_count": null,
   "id": "5ebbad8d",
   "metadata": {},
   "outputs": [],
   "source": [
    "# Reload the config file\n",
    "config.get(\"config\").get(\"mapStyle\")"
   ]
  },
  {
   "cell_type": "markdown",
   "id": "db924796",
   "metadata": {},
   "source": [
    "## Reload the map "
   ]
  },
  {
   "cell_type": "code",
   "execution_count": null,
   "id": "133ceaa7",
   "metadata": {},
   "outputs": [],
   "source": [
    "# Reload the config file\n",
    "map_3 = KeplerGl(height=600, width=800, config=config)\n",
    "map_3.add_data(data=df, name='crimes' )\n"
   ]
  },
  {
   "cell_type": "code",
   "execution_count": null,
   "id": "a5548afe",
   "metadata": {},
   "outputs": [],
   "source": [
    "map_3"
   ]
  },
  {
   "cell_type": "code",
   "execution_count": null,
   "id": "40538319",
   "metadata": {},
   "outputs": [],
   "source": [
    "# Save map_3 config to a file\n",
    "with open('madrid_config.py', 'w') as f:\n",
    "    f.write('config = {}'.format(map_3.config))\n"
   ]
  },
  {
   "cell_type": "code",
   "execution_count": null,
   "id": "275ae6cd",
   "metadata": {},
   "outputs": [],
   "source": []
  }
 ],
 "metadata": {
  "kernelspec": {
   "display_name": "kernel",
   "language": "python",
   "name": "kernel"
  },
  "language_info": {
   "codemirror_mode": {
    "name": "ipython",
    "version": 3
   },
   "file_extension": ".py",
   "mimetype": "text/x-python",
   "name": "python",
   "nbconvert_exporter": "python",
   "pygments_lexer": "ipython3",
   "version": "3.8.5"
  },
  "toc": {
   "base_numbering": 1,
   "nav_menu": {},
   "number_sections": true,
   "sideBar": true,
   "skip_h1_title": false,
   "title_cell": "Table of Contents",
   "title_sidebar": "Contents",
   "toc_cell": true,
   "toc_position": {},
   "toc_section_display": true,
   "toc_window_display": false
  },
  "varInspector": {
   "cols": {
    "lenName": 16,
    "lenType": 16,
    "lenVar": 40
   },
   "kernels_config": {
    "python": {
     "delete_cmd_postfix": "",
     "delete_cmd_prefix": "del ",
     "library": "var_list.py",
     "varRefreshCmd": "print(var_dic_list())"
    },
    "r": {
     "delete_cmd_postfix": ") ",
     "delete_cmd_prefix": "rm(",
     "library": "var_list.r",
     "varRefreshCmd": "cat(var_dic_list()) "
    }
   },
   "types_to_exclude": [
    "module",
    "function",
    "builtin_function_or_method",
    "instance",
    "_Feature"
   ],
   "window_display": false
  }
 },
 "nbformat": 4,
 "nbformat_minor": 5
}
