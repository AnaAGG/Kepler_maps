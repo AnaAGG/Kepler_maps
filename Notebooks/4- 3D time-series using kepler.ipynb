{
 "cells": [
  {
   "cell_type": "markdown",
   "id": "dc08a1e2",
   "metadata": {
    "toc": true
   },
   "source": [
    "<h1>Table of Contents<span class=\"tocSkip\"></span></h1>\n",
    "<div class=\"toc\"><ul class=\"toc-item\"><li><span><a href=\"#Libraries\" data-toc-modified-id=\"Libraries-1\"><span class=\"toc-item-num\">1&nbsp;&nbsp;</span>Libraries</a></span></li><li><span><a href=\"#Data\" data-toc-modified-id=\"Data-2\"><span class=\"toc-item-num\">2&nbsp;&nbsp;</span>Data</a></span><ul class=\"toc-item\"><li><span><a href=\"#To-perform-this-map-we-need:\" data-toc-modified-id=\"To-perform-this-map-we-need:-2.1\"><span class=\"toc-item-num\">2.1&nbsp;&nbsp;</span>To perform this map we need:</a></span></li><li><span><a href=\"#Merge-the-two-datasets\" data-toc-modified-id=\"Merge-the-two-datasets-2.2\"><span class=\"toc-item-num\">2.2&nbsp;&nbsp;</span>Merge the two datasets</a></span></li></ul></li><li><span><a href=\"#Create-a-map\" data-toc-modified-id=\"Create-a-map-3\"><span class=\"toc-item-num\">3&nbsp;&nbsp;</span>Create a map</a></span></li></ul></div>"
   ]
  },
  {
   "cell_type": "markdown",
   "id": "certain-royalty",
   "metadata": {},
   "source": [
    "![image](https://miro.medium.com/max/600/1*XLqDpdW6SC_MOOlx007N3w.gif)"
   ]
  },
  {
   "cell_type": "markdown",
   "id": "2b2b9cf9",
   "metadata": {},
   "source": [
    "# Libraries "
   ]
  },
  {
   "cell_type": "code",
   "execution_count": 1,
   "id": "efficient-dancing",
   "metadata": {
    "scrolled": true
   },
   "outputs": [
    {
     "name": "stderr",
     "output_type": "stream",
     "text": [
      "/home/anagarcia/anaconda3/envs/final/lib/python3.8/site-packages/geopandas/_compat.py:106: UserWarning: The Shapely GEOS version (3.8.0-CAPI-1.13.1 ) is incompatible with the GEOS version PyGEOS was compiled with (3.9.0-CAPI-1.16.2). Conversions between both will be slow.\n",
      "  warnings.warn(\n"
     ]
    }
   ],
   "source": [
    "import pandas as pd\n",
    "import geopandas as gpd\n",
    "from keplergl import KeplerGl"
   ]
  },
  {
   "cell_type": "markdown",
   "id": "704eed12",
   "metadata": {},
   "source": [
    "# Data "
   ]
  },
  {
   "cell_type": "markdown",
   "id": "6d166322",
   "metadata": {},
   "source": [
    "## To perform this map we need:\n",
    "\n",
    "Your dataset will need to include three variables:\n",
    "- a `datetime` variable (to enable time series functionality)\n",
    "- a `latitude` variable (from the polygon centroid for each county)\n",
    "- a `longitude` variable (from the polygon centroid for each county)"
   ]
  },
  {
   "cell_type": "markdown",
   "id": "ef8e3c59",
   "metadata": {},
   "source": [
    "The police interaction dataset I used (see dataset source/validity section) includes the street address, city, state, zip code, and county information. We’ll map the data by state counties because we can use the National Weather Service’s GIS shape files to extract each county’s central longitude and latitude using the centroid of each county’s respective geospatial shape."
   ]
  },
  {
   "cell_type": "code",
   "execution_count": 3,
   "id": "21823bb1",
   "metadata": {},
   "outputs": [
    {
     "data": {
      "text/html": [
       "<div>\n",
       "<style scoped>\n",
       "    .dataframe tbody tr th:only-of-type {\n",
       "        vertical-align: middle;\n",
       "    }\n",
       "\n",
       "    .dataframe tbody tr th {\n",
       "        vertical-align: top;\n",
       "    }\n",
       "\n",
       "    .dataframe thead th {\n",
       "        text-align: right;\n",
       "    }\n",
       "</style>\n",
       "<table border=\"1\" class=\"dataframe\">\n",
       "  <thead>\n",
       "    <tr style=\"text-align: right;\">\n",
       "      <th></th>\n",
       "      <th>Victim's name</th>\n",
       "      <th>Victim's age</th>\n",
       "      <th>Victim's gender</th>\n",
       "      <th>Victim's race</th>\n",
       "      <th>Date of Incident (month/day/year)</th>\n",
       "      <th>Street Address of Incident</th>\n",
       "      <th>City</th>\n",
       "      <th>State</th>\n",
       "      <th>Zipcode</th>\n",
       "      <th>County</th>\n",
       "      <th>Cause of death</th>\n",
       "      <th>Symptoms of mental illness?</th>\n",
       "      <th>Armed/Unarmed Status</th>\n",
       "      <th>Alleged Weapon</th>\n",
       "      <th>Alleged Threat Level</th>\n",
       "      <th>Fleeing</th>\n",
       "      <th>Geography</th>\n",
       "      <th>MPV ID</th>\n",
       "      <th>Encounter Type (DRAFT)</th>\n",
       "    </tr>\n",
       "  </thead>\n",
       "  <tbody>\n",
       "    <tr>\n",
       "      <th>0</th>\n",
       "      <td>Willie Roy Allen</td>\n",
       "      <td>57</td>\n",
       "      <td>Male</td>\n",
       "      <td>NaN</td>\n",
       "      <td>31/03/2021</td>\n",
       "      <td>2626 Lithonia Industrial Blvd.</td>\n",
       "      <td>Lithonia</td>\n",
       "      <td>GA</td>\n",
       "      <td>30058.0</td>\n",
       "      <td>DeKalb</td>\n",
       "      <td>Gunshot, Taser</td>\n",
       "      <td>No</td>\n",
       "      <td>Allegedly Armed</td>\n",
       "      <td>gun</td>\n",
       "      <td>other</td>\n",
       "      <td>foot</td>\n",
       "      <td>Suburban</td>\n",
       "      <td>8728</td>\n",
       "      <td>Violent crime</td>\n",
       "    </tr>\n",
       "    <tr>\n",
       "      <th>1</th>\n",
       "      <td>Jeffrey Ely</td>\n",
       "      <td>40</td>\n",
       "      <td>Male</td>\n",
       "      <td>White</td>\n",
       "      <td>31/03/2021</td>\n",
       "      <td>247 Sullivan St.</td>\n",
       "      <td>Claremont</td>\n",
       "      <td>NH</td>\n",
       "      <td>3743.0</td>\n",
       "      <td>Sullivan</td>\n",
       "      <td>Gunshot</td>\n",
       "      <td>No</td>\n",
       "      <td>Allegedly Armed</td>\n",
       "      <td>gun</td>\n",
       "      <td>attack</td>\n",
       "      <td>not fleeing</td>\n",
       "      <td>Rural</td>\n",
       "      <td>8729</td>\n",
       "      <td>Violent crime</td>\n",
       "    </tr>\n",
       "    <tr>\n",
       "      <th>2</th>\n",
       "      <td>Ivan Cuevas</td>\n",
       "      <td>27</td>\n",
       "      <td>Male</td>\n",
       "      <td>Hispanic</td>\n",
       "      <td>31/03/2021</td>\n",
       "      <td>North Conyer Street</td>\n",
       "      <td>Visalia</td>\n",
       "      <td>CA</td>\n",
       "      <td>93291.0</td>\n",
       "      <td>Tulare</td>\n",
       "      <td>Gunshot</td>\n",
       "      <td>Drug or alcohol use</td>\n",
       "      <td>Allegedly Armed</td>\n",
       "      <td>knife</td>\n",
       "      <td>other</td>\n",
       "      <td>not fleeing</td>\n",
       "      <td>Urban</td>\n",
       "      <td>8730</td>\n",
       "      <td>Domestic disturbance (family violence)</td>\n",
       "    </tr>\n",
       "    <tr>\n",
       "      <th>3</th>\n",
       "      <td>Anthony Alvarez</td>\n",
       "      <td>22</td>\n",
       "      <td>Male</td>\n",
       "      <td>Hispanic</td>\n",
       "      <td>31/03/2021</td>\n",
       "      <td>W. Eddy St. and N. Laramie Ave.</td>\n",
       "      <td>Chicago</td>\n",
       "      <td>IL</td>\n",
       "      <td>60641.0</td>\n",
       "      <td>Cook</td>\n",
       "      <td>Gunshot</td>\n",
       "      <td>No</td>\n",
       "      <td>Allegedly Armed</td>\n",
       "      <td>gun</td>\n",
       "      <td>NaN</td>\n",
       "      <td>foot</td>\n",
       "      <td>Urban</td>\n",
       "      <td>8731</td>\n",
       "      <td>None/Unknown</td>\n",
       "    </tr>\n",
       "    <tr>\n",
       "      <th>4</th>\n",
       "      <td>Aaron Christopher Pouche</td>\n",
       "      <td>35</td>\n",
       "      <td>Male</td>\n",
       "      <td>NaN</td>\n",
       "      <td>31/03/2021</td>\n",
       "      <td>E. 8th St. and S. Carlisle</td>\n",
       "      <td>Independence</td>\n",
       "      <td>MO</td>\n",
       "      <td>64054.0</td>\n",
       "      <td>Jackson</td>\n",
       "      <td>Gunshot</td>\n",
       "      <td>No</td>\n",
       "      <td>Allegedly Armed</td>\n",
       "      <td>gun</td>\n",
       "      <td>attack</td>\n",
       "      <td>not fleeing</td>\n",
       "      <td>Suburban</td>\n",
       "      <td>8732</td>\n",
       "      <td>Violent crime</td>\n",
       "    </tr>\n",
       "  </tbody>\n",
       "</table>\n",
       "</div>"
      ],
      "text/plain": [
       "              Victim's name Victim's age Victim's gender Victim's race  \\\n",
       "0          Willie Roy Allen           57            Male           NaN   \n",
       "1               Jeffrey Ely           40            Male         White   \n",
       "2               Ivan Cuevas           27            Male      Hispanic   \n",
       "3           Anthony Alvarez           22            Male      Hispanic   \n",
       "4  Aaron Christopher Pouche           35            Male           NaN   \n",
       "\n",
       "  Date of Incident (month/day/year)       Street Address of Incident  \\\n",
       "0                        31/03/2021   2626 Lithonia Industrial Blvd.   \n",
       "1                        31/03/2021                 247 Sullivan St.   \n",
       "2                        31/03/2021              North Conyer Street   \n",
       "3                        31/03/2021  W. Eddy St. and N. Laramie Ave.   \n",
       "4                        31/03/2021       E. 8th St. and S. Carlisle   \n",
       "\n",
       "           City State  Zipcode    County  Cause of death  \\\n",
       "0      Lithonia    GA  30058.0    DeKalb  Gunshot, Taser   \n",
       "1     Claremont    NH   3743.0  Sullivan         Gunshot   \n",
       "2       Visalia    CA  93291.0    Tulare         Gunshot   \n",
       "3       Chicago    IL  60641.0      Cook         Gunshot   \n",
       "4  Independence    MO  64054.0   Jackson         Gunshot   \n",
       "\n",
       "  Symptoms of mental illness? Armed/Unarmed Status Alleged Weapon  \\\n",
       "0                          No      Allegedly Armed            gun   \n",
       "1                          No      Allegedly Armed            gun   \n",
       "2         Drug or alcohol use      Allegedly Armed          knife   \n",
       "3                          No      Allegedly Armed            gun   \n",
       "4                          No      Allegedly Armed            gun   \n",
       "\n",
       "  Alleged Threat Level       Fleeing Geography  MPV ID  \\\n",
       "0                 other         foot  Suburban    8728   \n",
       "1                attack  not fleeing     Rural    8729   \n",
       "2                 other  not fleeing     Urban    8730   \n",
       "3                   NaN         foot     Urban    8731   \n",
       "4                attack  not fleeing  Suburban    8732   \n",
       "\n",
       "                   Encounter Type (DRAFT)  \n",
       "0                           Violent crime  \n",
       "1                           Violent crime  \n",
       "2  Domestic disturbance (family violence)  \n",
       "3                            None/Unknown  \n",
       "4                           Violent crime  "
      ]
     },
     "execution_count": 3,
     "metadata": {},
     "output_type": "execute_result"
    }
   ],
   "source": [
    "df = pd.read_csv(\"../Input/MPV_2.csv\", sep = \";\")\n",
    "df.head()"
   ]
  },
  {
   "cell_type": "code",
   "execution_count": 4,
   "id": "exciting-bandwidth",
   "metadata": {
    "scrolled": false
   },
   "outputs": [],
   "source": [
    "# We add to time info\n"
   ]
  },
  {
   "cell_type": "code",
   "execution_count": 7,
   "id": "pacific-fraud",
   "metadata": {
    "scrolled": true
   },
   "outputs": [],
   "source": [
    "# But... in this dataset we don't have lat long information. We use a shapefile\n",
    "#file add this info in our dataset\n",
    "shapefile_data = gpd.read_file(\"../Input/c_10nv20.shp\")"
   ]
  },
  {
   "cell_type": "code",
   "execution_count": 5,
   "id": "introductory-lafayette",
   "metadata": {},
   "outputs": [
    {
     "ename": "NameError",
     "evalue": "name 'shapefile_data' is not defined",
     "output_type": "error",
     "traceback": [
      "\u001b[0;31m---------------------------------------------------------------------------\u001b[0m",
      "\u001b[0;31mNameError\u001b[0m                                 Traceback (most recent call last)",
      "\u001b[0;32m<ipython-input-5-0ba9a3405cb9>\u001b[0m in \u001b[0;36m<module>\u001b[0;34m\u001b[0m\n\u001b[0;32m----> 1\u001b[0;31m \u001b[0mshapfile_raw\u001b[0m \u001b[0;34m=\u001b[0m \u001b[0mpd\u001b[0m\u001b[0;34m.\u001b[0m\u001b[0mDataFrame\u001b[0m\u001b[0;34m(\u001b[0m\u001b[0mshapefile_data\u001b[0m\u001b[0;34m)\u001b[0m\u001b[0;34m\u001b[0m\u001b[0;34m\u001b[0m\u001b[0m\n\u001b[0m\u001b[1;32m      2\u001b[0m \u001b[0mshapfile_raw\u001b[0m\u001b[0;34m.\u001b[0m\u001b[0mhead\u001b[0m\u001b[0;34m(\u001b[0m\u001b[0;34m)\u001b[0m\u001b[0;34m\u001b[0m\u001b[0;34m\u001b[0m\u001b[0m\n",
      "\u001b[0;31mNameError\u001b[0m: name 'shapefile_data' is not defined"
     ]
    }
   ],
   "source": [
    "shapfile_raw = pd.DataFrame(shapefile_data)\n",
    "shapfile_raw.head()"
   ]
  },
  {
   "cell_type": "markdown",
   "id": "d14eb876",
   "metadata": {},
   "source": [
    "## Merge the two datasets "
   ]
  },
  {
   "cell_type": "markdown",
   "id": "b218fc20",
   "metadata": {},
   "source": [
    "Once you’ve extracted the longitude and latitudes, we simply merge the coordinate dictionary with the dataset using state and county variables (which should be present in both datasets). In this case, we’ll merge the data using State abbreviations and County names:"
   ]
  },
  {
   "cell_type": "code",
   "execution_count": 9,
   "id": "lesser-warren",
   "metadata": {},
   "outputs": [
    {
     "data": {
      "text/html": [
       "<div>\n",
       "<style scoped>\n",
       "    .dataframe tbody tr th:only-of-type {\n",
       "        vertical-align: middle;\n",
       "    }\n",
       "\n",
       "    .dataframe tbody tr th {\n",
       "        vertical-align: top;\n",
       "    }\n",
       "\n",
       "    .dataframe thead th {\n",
       "        text-align: right;\n",
       "    }\n",
       "</style>\n",
       "<table border=\"1\" class=\"dataframe\">\n",
       "  <thead>\n",
       "    <tr style=\"text-align: right;\">\n",
       "      <th></th>\n",
       "      <th>Victim's name</th>\n",
       "      <th>Victim's age</th>\n",
       "      <th>Victim's gender</th>\n",
       "      <th>Victim's race</th>\n",
       "      <th>Date of Incident (month/day/year)</th>\n",
       "      <th>Street Address of Incident</th>\n",
       "      <th>City</th>\n",
       "      <th>State</th>\n",
       "      <th>Zipcode</th>\n",
       "      <th>County</th>\n",
       "      <th>...</th>\n",
       "      <th>Encounter Type (DRAFT)</th>\n",
       "      <th>datetime</th>\n",
       "      <th>CWA</th>\n",
       "      <th>COUNTYNAME</th>\n",
       "      <th>FIPS</th>\n",
       "      <th>TIME_ZONE</th>\n",
       "      <th>FE_AREA</th>\n",
       "      <th>LON</th>\n",
       "      <th>LAT</th>\n",
       "      <th>geometry</th>\n",
       "    </tr>\n",
       "  </thead>\n",
       "  <tbody>\n",
       "    <tr>\n",
       "      <th>0</th>\n",
       "      <td>Willie Roy Allen</td>\n",
       "      <td>57</td>\n",
       "      <td>Male</td>\n",
       "      <td>NaN</td>\n",
       "      <td>31/03/2021</td>\n",
       "      <td>2626 Lithonia Industrial Blvd.</td>\n",
       "      <td>Lithonia</td>\n",
       "      <td>GA</td>\n",
       "      <td>30058.0</td>\n",
       "      <td>DeKalb</td>\n",
       "      <td>...</td>\n",
       "      <td>Violent crime</td>\n",
       "      <td>31/03/2021 0:00</td>\n",
       "      <td>CHS</td>\n",
       "      <td>McIntosh</td>\n",
       "      <td>13191</td>\n",
       "      <td>E</td>\n",
       "      <td>se</td>\n",
       "      <td>-81.2646</td>\n",
       "      <td>31.5329</td>\n",
       "      <td>MULTIPOLYGON (((-81.46814 31.33980, -81.46747 ...</td>\n",
       "    </tr>\n",
       "    <tr>\n",
       "      <th>1</th>\n",
       "      <td>Willie Roy Allen</td>\n",
       "      <td>57</td>\n",
       "      <td>Male</td>\n",
       "      <td>NaN</td>\n",
       "      <td>31/03/2021</td>\n",
       "      <td>2626 Lithonia Industrial Blvd.</td>\n",
       "      <td>Lithonia</td>\n",
       "      <td>GA</td>\n",
       "      <td>30058.0</td>\n",
       "      <td>DeKalb</td>\n",
       "      <td>...</td>\n",
       "      <td>Violent crime</td>\n",
       "      <td>31/03/2021 0:00</td>\n",
       "      <td>CHS</td>\n",
       "      <td>Liberty</td>\n",
       "      <td>13179</td>\n",
       "      <td>E</td>\n",
       "      <td>se</td>\n",
       "      <td>-81.2103</td>\n",
       "      <td>31.7093</td>\n",
       "      <td>POLYGON ((-81.30807 31.79454, -81.30546 31.791...</td>\n",
       "    </tr>\n",
       "    <tr>\n",
       "      <th>2</th>\n",
       "      <td>Willie Roy Allen</td>\n",
       "      <td>57</td>\n",
       "      <td>Male</td>\n",
       "      <td>NaN</td>\n",
       "      <td>31/03/2021</td>\n",
       "      <td>2626 Lithonia Industrial Blvd.</td>\n",
       "      <td>Lithonia</td>\n",
       "      <td>GA</td>\n",
       "      <td>30058.0</td>\n",
       "      <td>DeKalb</td>\n",
       "      <td>...</td>\n",
       "      <td>Violent crime</td>\n",
       "      <td>31/03/2021 0:00</td>\n",
       "      <td>FFC</td>\n",
       "      <td>Wilkes</td>\n",
       "      <td>13317</td>\n",
       "      <td>E</td>\n",
       "      <td>ec</td>\n",
       "      <td>-82.7432</td>\n",
       "      <td>33.7820</td>\n",
       "      <td>POLYGON ((-82.64600 33.98411, -82.64270 33.972...</td>\n",
       "    </tr>\n",
       "    <tr>\n",
       "      <th>3</th>\n",
       "      <td>Willie Roy Allen</td>\n",
       "      <td>57</td>\n",
       "      <td>Male</td>\n",
       "      <td>NaN</td>\n",
       "      <td>31/03/2021</td>\n",
       "      <td>2626 Lithonia Industrial Blvd.</td>\n",
       "      <td>Lithonia</td>\n",
       "      <td>GA</td>\n",
       "      <td>30058.0</td>\n",
       "      <td>DeKalb</td>\n",
       "      <td>...</td>\n",
       "      <td>Violent crime</td>\n",
       "      <td>31/03/2021 0:00</td>\n",
       "      <td>FFC</td>\n",
       "      <td>Wilcox</td>\n",
       "      <td>13315</td>\n",
       "      <td>E</td>\n",
       "      <td>cc</td>\n",
       "      <td>-83.4322</td>\n",
       "      <td>31.9734</td>\n",
       "      <td>POLYGON ((-83.37489 32.13221, -83.37160 32.132...</td>\n",
       "    </tr>\n",
       "    <tr>\n",
       "      <th>4</th>\n",
       "      <td>Willie Roy Allen</td>\n",
       "      <td>57</td>\n",
       "      <td>Male</td>\n",
       "      <td>NaN</td>\n",
       "      <td>31/03/2021</td>\n",
       "      <td>2626 Lithonia Industrial Blvd.</td>\n",
       "      <td>Lithonia</td>\n",
       "      <td>GA</td>\n",
       "      <td>30058.0</td>\n",
       "      <td>DeKalb</td>\n",
       "      <td>...</td>\n",
       "      <td>Violent crime</td>\n",
       "      <td>31/03/2021 0:00</td>\n",
       "      <td>FFC</td>\n",
       "      <td>Whitfield</td>\n",
       "      <td>13313</td>\n",
       "      <td>E</td>\n",
       "      <td>nw</td>\n",
       "      <td>-84.9673</td>\n",
       "      <td>34.8056</td>\n",
       "      <td>POLYGON ((-84.82439 34.98771, -84.81900 34.987...</td>\n",
       "    </tr>\n",
       "  </tbody>\n",
       "</table>\n",
       "<p>5 rows × 28 columns</p>\n",
       "</div>"
      ],
      "text/plain": [
       "      Victim's name Victim's age Victim's gender Victim's race  \\\n",
       "0  Willie Roy Allen           57            Male           NaN   \n",
       "1  Willie Roy Allen           57            Male           NaN   \n",
       "2  Willie Roy Allen           57            Male           NaN   \n",
       "3  Willie Roy Allen           57            Male           NaN   \n",
       "4  Willie Roy Allen           57            Male           NaN   \n",
       "\n",
       "  Date of Incident (month/day/year)      Street Address of Incident      City  \\\n",
       "0                        31/03/2021  2626 Lithonia Industrial Blvd.  Lithonia   \n",
       "1                        31/03/2021  2626 Lithonia Industrial Blvd.  Lithonia   \n",
       "2                        31/03/2021  2626 Lithonia Industrial Blvd.  Lithonia   \n",
       "3                        31/03/2021  2626 Lithonia Industrial Blvd.  Lithonia   \n",
       "4                        31/03/2021  2626 Lithonia Industrial Blvd.  Lithonia   \n",
       "\n",
       "  State  Zipcode  County  ... Encounter Type (DRAFT)         datetime  CWA  \\\n",
       "0    GA  30058.0  DeKalb  ...          Violent crime  31/03/2021 0:00  CHS   \n",
       "1    GA  30058.0  DeKalb  ...          Violent crime  31/03/2021 0:00  CHS   \n",
       "2    GA  30058.0  DeKalb  ...          Violent crime  31/03/2021 0:00  FFC   \n",
       "3    GA  30058.0  DeKalb  ...          Violent crime  31/03/2021 0:00  FFC   \n",
       "4    GA  30058.0  DeKalb  ...          Violent crime  31/03/2021 0:00  FFC   \n",
       "\n",
       "  COUNTYNAME   FIPS TIME_ZONE FE_AREA      LON      LAT  \\\n",
       "0   McIntosh  13191         E      se -81.2646  31.5329   \n",
       "1    Liberty  13179         E      se -81.2103  31.7093   \n",
       "2     Wilkes  13317         E      ec -82.7432  33.7820   \n",
       "3     Wilcox  13315         E      cc -83.4322  31.9734   \n",
       "4  Whitfield  13313         E      nw -84.9673  34.8056   \n",
       "\n",
       "                                            geometry  \n",
       "0  MULTIPOLYGON (((-81.46814 31.33980, -81.46747 ...  \n",
       "1  POLYGON ((-81.30807 31.79454, -81.30546 31.791...  \n",
       "2  POLYGON ((-82.64600 33.98411, -82.64270 33.972...  \n",
       "3  POLYGON ((-83.37489 32.13221, -83.37160 32.132...  \n",
       "4  POLYGON ((-84.82439 34.98771, -84.81900 34.987...  \n",
       "\n",
       "[5 rows x 28 columns]"
      ]
     },
     "execution_count": 9,
     "metadata": {},
     "output_type": "execute_result"
    }
   ],
   "source": [
    "#Now we are going to merge the two datasets by the column STATE. \n"
   ]
  },
  {
   "cell_type": "code",
   "execution_count": 11,
   "id": "serious-fraction",
   "metadata": {},
   "outputs": [],
   "source": [
    "# remove some columns that we don`t need to the analysis. \n",
    "df_2.drop([\"Victim's race\", \"Street Address of Incident\", \"Date of Incident (month/day/year)\", \"geometry\", \"Zipcode\", \"CWA\", \"Symptoms of mental illness?\", \"Armed/Unarmed Status\",\"FIPS\", \"TIME_ZONE\", \"FE_AREA\" ], axis = 1, inplace = True)"
   ]
  },
  {
   "cell_type": "code",
   "execution_count": 12,
   "id": "amino-imagination",
   "metadata": {},
   "outputs": [],
   "source": [
    "# There are some null values that we are not interested in, so we are going to eliminate them \n"
   ]
  },
  {
   "cell_type": "code",
   "execution_count": 15,
   "id": "dietary-dancing",
   "metadata": {},
   "outputs": [],
   "source": [
    "# Also, we remove the duplicate data\n"
   ]
  },
  {
   "cell_type": "code",
   "execution_count": 16,
   "id": "acoustic-release",
   "metadata": {
    "scrolled": true
   },
   "outputs": [
    {
     "data": {
      "text/html": [
       "<div>\n",
       "<style scoped>\n",
       "    .dataframe tbody tr th:only-of-type {\n",
       "        vertical-align: middle;\n",
       "    }\n",
       "\n",
       "    .dataframe tbody tr th {\n",
       "        vertical-align: top;\n",
       "    }\n",
       "\n",
       "    .dataframe thead th {\n",
       "        text-align: right;\n",
       "    }\n",
       "</style>\n",
       "<table border=\"1\" class=\"dataframe\">\n",
       "  <thead>\n",
       "    <tr style=\"text-align: right;\">\n",
       "      <th></th>\n",
       "      <th>Victim's name</th>\n",
       "      <th>Victim's age</th>\n",
       "      <th>Victim's gender</th>\n",
       "      <th>City</th>\n",
       "      <th>State</th>\n",
       "      <th>County</th>\n",
       "      <th>Cause of death</th>\n",
       "      <th>Alleged Weapon</th>\n",
       "      <th>Alleged Threat Level</th>\n",
       "      <th>Fleeing</th>\n",
       "      <th>Geography</th>\n",
       "      <th>MPV ID</th>\n",
       "      <th>Encounter Type (DRAFT)</th>\n",
       "      <th>datetime</th>\n",
       "      <th>COUNTYNAME</th>\n",
       "      <th>LON</th>\n",
       "      <th>LAT</th>\n",
       "    </tr>\n",
       "  </thead>\n",
       "  <tbody>\n",
       "    <tr>\n",
       "      <th>0</th>\n",
       "      <td>Willie Roy Allen</td>\n",
       "      <td>57</td>\n",
       "      <td>Male</td>\n",
       "      <td>Lithonia</td>\n",
       "      <td>GA</td>\n",
       "      <td>DeKalb</td>\n",
       "      <td>Gunshot, Taser</td>\n",
       "      <td>gun</td>\n",
       "      <td>other</td>\n",
       "      <td>foot</td>\n",
       "      <td>Suburban</td>\n",
       "      <td>8728.0</td>\n",
       "      <td>Violent crime</td>\n",
       "      <td>31/03/2021 0:00</td>\n",
       "      <td>McIntosh</td>\n",
       "      <td>-81.2646</td>\n",
       "      <td>31.5329</td>\n",
       "    </tr>\n",
       "    <tr>\n",
       "      <th>1</th>\n",
       "      <td>Willie Roy Allen</td>\n",
       "      <td>57</td>\n",
       "      <td>Male</td>\n",
       "      <td>Lithonia</td>\n",
       "      <td>GA</td>\n",
       "      <td>DeKalb</td>\n",
       "      <td>Gunshot, Taser</td>\n",
       "      <td>gun</td>\n",
       "      <td>other</td>\n",
       "      <td>foot</td>\n",
       "      <td>Suburban</td>\n",
       "      <td>8728.0</td>\n",
       "      <td>Violent crime</td>\n",
       "      <td>31/03/2021 0:00</td>\n",
       "      <td>Liberty</td>\n",
       "      <td>-81.2103</td>\n",
       "      <td>31.7093</td>\n",
       "    </tr>\n",
       "    <tr>\n",
       "      <th>2</th>\n",
       "      <td>Willie Roy Allen</td>\n",
       "      <td>57</td>\n",
       "      <td>Male</td>\n",
       "      <td>Lithonia</td>\n",
       "      <td>GA</td>\n",
       "      <td>DeKalb</td>\n",
       "      <td>Gunshot, Taser</td>\n",
       "      <td>gun</td>\n",
       "      <td>other</td>\n",
       "      <td>foot</td>\n",
       "      <td>Suburban</td>\n",
       "      <td>8728.0</td>\n",
       "      <td>Violent crime</td>\n",
       "      <td>31/03/2021 0:00</td>\n",
       "      <td>Wilkes</td>\n",
       "      <td>-82.7432</td>\n",
       "      <td>33.7820</td>\n",
       "    </tr>\n",
       "    <tr>\n",
       "      <th>3</th>\n",
       "      <td>Willie Roy Allen</td>\n",
       "      <td>57</td>\n",
       "      <td>Male</td>\n",
       "      <td>Lithonia</td>\n",
       "      <td>GA</td>\n",
       "      <td>DeKalb</td>\n",
       "      <td>Gunshot, Taser</td>\n",
       "      <td>gun</td>\n",
       "      <td>other</td>\n",
       "      <td>foot</td>\n",
       "      <td>Suburban</td>\n",
       "      <td>8728.0</td>\n",
       "      <td>Violent crime</td>\n",
       "      <td>31/03/2021 0:00</td>\n",
       "      <td>Wilcox</td>\n",
       "      <td>-83.4322</td>\n",
       "      <td>31.9734</td>\n",
       "    </tr>\n",
       "    <tr>\n",
       "      <th>4</th>\n",
       "      <td>Willie Roy Allen</td>\n",
       "      <td>57</td>\n",
       "      <td>Male</td>\n",
       "      <td>Lithonia</td>\n",
       "      <td>GA</td>\n",
       "      <td>DeKalb</td>\n",
       "      <td>Gunshot, Taser</td>\n",
       "      <td>gun</td>\n",
       "      <td>other</td>\n",
       "      <td>foot</td>\n",
       "      <td>Suburban</td>\n",
       "      <td>8728.0</td>\n",
       "      <td>Violent crime</td>\n",
       "      <td>31/03/2021 0:00</td>\n",
       "      <td>Whitfield</td>\n",
       "      <td>-84.9673</td>\n",
       "      <td>34.8056</td>\n",
       "    </tr>\n",
       "  </tbody>\n",
       "</table>\n",
       "</div>"
      ],
      "text/plain": [
       "      Victim's name Victim's age Victim's gender      City State  County  \\\n",
       "0  Willie Roy Allen           57            Male  Lithonia    GA  DeKalb   \n",
       "1  Willie Roy Allen           57            Male  Lithonia    GA  DeKalb   \n",
       "2  Willie Roy Allen           57            Male  Lithonia    GA  DeKalb   \n",
       "3  Willie Roy Allen           57            Male  Lithonia    GA  DeKalb   \n",
       "4  Willie Roy Allen           57            Male  Lithonia    GA  DeKalb   \n",
       "\n",
       "   Cause of death Alleged Weapon Alleged Threat Level  Fleeing Geography  \\\n",
       "0  Gunshot, Taser            gun                 other    foot  Suburban   \n",
       "1  Gunshot, Taser            gun                 other    foot  Suburban   \n",
       "2  Gunshot, Taser            gun                 other    foot  Suburban   \n",
       "3  Gunshot, Taser            gun                 other    foot  Suburban   \n",
       "4  Gunshot, Taser            gun                 other    foot  Suburban   \n",
       "\n",
       "   MPV ID Encounter Type (DRAFT)         datetime COUNTYNAME      LON      LAT  \n",
       "0  8728.0          Violent crime  31/03/2021 0:00   McIntosh -81.2646  31.5329  \n",
       "1  8728.0          Violent crime  31/03/2021 0:00    Liberty -81.2103  31.7093  \n",
       "2  8728.0          Violent crime  31/03/2021 0:00     Wilkes -82.7432  33.7820  \n",
       "3  8728.0          Violent crime  31/03/2021 0:00     Wilcox -83.4322  31.9734  \n",
       "4  8728.0          Violent crime  31/03/2021 0:00  Whitfield -84.9673  34.8056  "
      ]
     },
     "execution_count": 16,
     "metadata": {},
     "output_type": "execute_result"
    }
   ],
   "source": [
    "df_3.head()"
   ]
  },
  {
   "cell_type": "markdown",
   "id": "3fb2e83a",
   "metadata": {},
   "source": [
    "# Create a map "
   ]
  },
  {
   "cell_type": "code",
   "execution_count": 17,
   "id": "premium-velvet",
   "metadata": {},
   "outputs": [
    {
     "name": "stdout",
     "output_type": "stream",
     "text": [
      "User Guide: https://docs.kepler.gl/docs/keplergl-jupyter\n"
     ]
    }
   ],
   "source": [
    "# Set the map configuration\n",
    "map_3 = KeplerGl(height=800, data={\"\": df_3})"
   ]
  },
  {
   "cell_type": "code",
   "execution_count": 18,
   "id": "based-prize",
   "metadata": {
    "scrolled": false
   },
   "outputs": [
    {
     "data": {
      "application/vnd.jupyter.widget-view+json": {
       "model_id": "3cdcc7a3843a4cedaa3e62d47cbf2d3f",
       "version_major": 2,
       "version_minor": 0
      },
      "text/plain": [
       "KeplerGl(data={'data_1':            Victim's name Victim's age Victim's gender        City State  \\\n",
       "0       Wi…"
      ]
     },
     "metadata": {},
     "output_type": "display_data"
    }
   ],
   "source": [
    "map_3"
   ]
  },
  {
   "cell_type": "code",
   "execution_count": 21,
   "id": "d8db063e",
   "metadata": {},
   "outputs": [],
   "source": [
    "D3_config = map_3.config"
   ]
  },
  {
   "cell_type": "code",
   "execution_count": 23,
   "id": "8f21ac22",
   "metadata": {},
   "outputs": [],
   "source": [
    "# Save map_1 config to a file\n",
    "with open('hex_config_3D.py', 'w') as f:\n",
    "    f.write('config = {}'.format(map_3.config))"
   ]
  },
  {
   "cell_type": "code",
   "execution_count": 22,
   "id": "boolean-escape",
   "metadata": {},
   "outputs": [
    {
     "name": "stdout",
     "output_type": "stream",
     "text": [
      "Map saved to 3d_map.html!\n"
     ]
    }
   ],
   "source": [
    "map_3.save_to_html(data={'3D_temporal': df_3}, config= D3_config, file_name='3d_map.html')"
   ]
  },
  {
   "cell_type": "code",
   "execution_count": null,
   "id": "ca5a0a16",
   "metadata": {},
   "outputs": [],
   "source": []
  }
 ],
 "metadata": {
  "kernelspec": {
   "display_name": "final",
   "language": "python",
   "name": "final"
  },
  "language_info": {
   "codemirror_mode": {
    "name": "ipython",
    "version": 3
   },
   "file_extension": ".py",
   "mimetype": "text/x-python",
   "name": "python",
   "nbconvert_exporter": "python",
   "pygments_lexer": "ipython3",
   "version": "3.8.5"
  },
  "toc": {
   "base_numbering": 1,
   "nav_menu": {},
   "number_sections": true,
   "sideBar": true,
   "skip_h1_title": false,
   "title_cell": "Table of Contents",
   "title_sidebar": "Contents",
   "toc_cell": true,
   "toc_position": {
    "height": "calc(100% - 180px)",
    "left": "10px",
    "top": "150px",
    "width": "355.556px"
   },
   "toc_section_display": true,
   "toc_window_display": false
  },
  "varInspector": {
   "cols": {
    "lenName": 16,
    "lenType": 16,
    "lenVar": 40
   },
   "kernels_config": {
    "python": {
     "delete_cmd_postfix": "",
     "delete_cmd_prefix": "del ",
     "library": "var_list.py",
     "varRefreshCmd": "print(var_dic_list())"
    },
    "r": {
     "delete_cmd_postfix": ") ",
     "delete_cmd_prefix": "rm(",
     "library": "var_list.r",
     "varRefreshCmd": "cat(var_dic_list()) "
    }
   },
   "types_to_exclude": [
    "module",
    "function",
    "builtin_function_or_method",
    "instance",
    "_Feature"
   ],
   "window_display": false
  }
 },
 "nbformat": 4,
 "nbformat_minor": 5
}
