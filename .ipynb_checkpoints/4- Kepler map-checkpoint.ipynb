{
 "cells": [
  {
   "cell_type": "markdown",
   "id": "excess-hamburg",
   "metadata": {
    "toc": true
   },
   "source": [
    "<h1>Table of Contents<span class=\"tocSkip\"></span></h1>\n",
    "<div class=\"toc\"><ul class=\"toc-item\"><li><span><a href=\"#Libraries\" data-toc-modified-id=\"Libraries-1\"><span class=\"toc-item-num\">1&nbsp;&nbsp;</span>Libraries</a></span></li><li><span><a href=\"#Crimes-in-Nueva-York\" data-toc-modified-id=\"Crimes-in-Nueva-York-2\"><span class=\"toc-item-num\">2&nbsp;&nbsp;</span>Crimes in Nueva York</a></span><ul class=\"toc-item\"><li><span><a href=\"#Explore-null-data-in-the-dataset\" data-toc-modified-id=\"Explore-null-data-in-the-dataset-2.1\"><span class=\"toc-item-num\">2.1&nbsp;&nbsp;</span>Explore null data in the dataset</a></span></li><li><span><a href=\"#Time-to-map-the-dataset\" data-toc-modified-id=\"Time-to-map-the-dataset-2.2\"><span class=\"toc-item-num\">2.2&nbsp;&nbsp;</span>Time to map the dataset</a></span><ul class=\"toc-item\"><li><span><a href=\"#Configuration\" data-toc-modified-id=\"Configuration-2.2.1\"><span class=\"toc-item-num\">2.2.1&nbsp;&nbsp;</span>Configuration</a></span></li><li><span><a href=\"#Save-the-map\" data-toc-modified-id=\"Save-the-map-2.2.2\"><span class=\"toc-item-num\">2.2.2&nbsp;&nbsp;</span>Save the map</a></span></li></ul></li></ul></li><li><span><a href=\"#Mapa-temporal-COVID-Alemania\" data-toc-modified-id=\"Mapa-temporal-COVID-Alemania-3\"><span class=\"toc-item-num\">3&nbsp;&nbsp;</span>Mapa temporal COVID Alemania</a></span></li><li><span><a href=\"#Further-materials\" data-toc-modified-id=\"Further-materials-4\"><span class=\"toc-item-num\">4&nbsp;&nbsp;</span>Further materials</a></span></li></ul></div>"
   ]
  },
  {
   "attachments": {},
   "cell_type": "markdown",
   "id": "4134c488",
   "metadata": {},
   "source": [
    "![portada](https://miro.medium.com/max/7077/1*0l-WeqdtYRruoV_XxS-ZKg.png)"
   ]
  },
  {
   "cell_type": "markdown",
   "id": "important-exhaust",
   "metadata": {},
   "source": [
    "I chose to use data from the Northern California Earthquake Data Center [NCEDC](http://ncedc.org/) , an organization that has measured and made available all California earthquake records from 1967 to the present. "
   ]
  },
  {
   "cell_type": "markdown",
   "id": "matched-psychiatry",
   "metadata": {},
   "source": [
    "# Libraries "
   ]
  },
  {
   "cell_type": "code",
   "execution_count": 48,
   "id": "bearing-tokyo",
   "metadata": {
    "scrolled": true
   },
   "outputs": [],
   "source": [
    "import pandas as pd\n",
    "import geopandas as gpd\n",
    "from keplergl import KeplerGl\n",
    "from geopy.geocoders import Nominatim"
   ]
  },
  {
   "cell_type": "markdown",
   "id": "julian-entrance",
   "metadata": {},
   "source": [
    "# Crimes in Nueva York "
   ]
  },
  {
   "cell_type": "code",
   "execution_count": 49,
   "id": "natural-mambo",
   "metadata": {},
   "outputs": [],
   "source": [
    "df = pd.read_csv(\"Input/NYPD_Shoot_.csv\")"
   ]
  },
  {
   "cell_type": "code",
   "execution_count": 50,
   "id": "piano-senior",
   "metadata": {},
   "outputs": [
    {
     "data": {
      "text/plain": [
       "(1942, 19)"
      ]
     },
     "execution_count": 50,
     "metadata": {},
     "output_type": "execute_result"
    }
   ],
   "source": [
    "df.shape"
   ]
  },
  {
   "cell_type": "code",
   "execution_count": 51,
   "id": "boxed-break",
   "metadata": {},
   "outputs": [
    {
     "data": {
      "text/html": [
       "<div>\n",
       "<style scoped>\n",
       "    .dataframe tbody tr th:only-of-type {\n",
       "        vertical-align: middle;\n",
       "    }\n",
       "\n",
       "    .dataframe tbody tr th {\n",
       "        vertical-align: top;\n",
       "    }\n",
       "\n",
       "    .dataframe thead th {\n",
       "        text-align: right;\n",
       "    }\n",
       "</style>\n",
       "<table border=\"1\" class=\"dataframe\">\n",
       "  <thead>\n",
       "    <tr style=\"text-align: right;\">\n",
       "      <th></th>\n",
       "      <th>INCIDENT_KEY</th>\n",
       "      <th>OCCUR_DATE</th>\n",
       "      <th>OCCUR_TIME</th>\n",
       "      <th>BORO</th>\n",
       "      <th>PRECINCT</th>\n",
       "      <th>JURISDICTION_CODE</th>\n",
       "      <th>LOCATION_DESC</th>\n",
       "      <th>STATISTICAL_MURDER_FLAG</th>\n",
       "      <th>PERP_AGE_GROUP</th>\n",
       "      <th>PERP_SEX</th>\n",
       "      <th>PERP_RACE</th>\n",
       "      <th>VIC_AGE_GROUP</th>\n",
       "      <th>VIC_SEX</th>\n",
       "      <th>VIC_RACE</th>\n",
       "      <th>X_COORD_CD</th>\n",
       "      <th>Y_COORD_CD</th>\n",
       "      <th>Latitude</th>\n",
       "      <th>Longitude</th>\n",
       "      <th>New Georeferenced Column</th>\n",
       "    </tr>\n",
       "  </thead>\n",
       "  <tbody>\n",
       "    <tr>\n",
       "      <th>0</th>\n",
       "      <td>221467363</td>\n",
       "      <td>12/07/2020</td>\n",
       "      <td>05:50:00</td>\n",
       "      <td>BRONX</td>\n",
       "      <td>40</td>\n",
       "      <td>0</td>\n",
       "      <td>NaN</td>\n",
       "      <td>False</td>\n",
       "      <td>NaN</td>\n",
       "      <td>NaN</td>\n",
       "      <td>NaN</td>\n",
       "      <td>18-24</td>\n",
       "      <td>M</td>\n",
       "      <td>BLACK</td>\n",
       "      <td>1020183</td>\n",
       "      <td>239283</td>\n",
       "      <td>40.823387</td>\n",
       "      <td>-73.870170</td>\n",
       "      <td>POINT (-73.87017045 40.82338729100008)</td>\n",
       "    </tr>\n",
       "    <tr>\n",
       "      <th>1</th>\n",
       "      <td>213923358</td>\n",
       "      <td>06/06/2020</td>\n",
       "      <td>21:00:00</td>\n",
       "      <td>BRONX</td>\n",
       "      <td>47</td>\n",
       "      <td>0</td>\n",
       "      <td>NaN</td>\n",
       "      <td>False</td>\n",
       "      <td>NaN</td>\n",
       "      <td>NaN</td>\n",
       "      <td>NaN</td>\n",
       "      <td>18-24</td>\n",
       "      <td>M</td>\n",
       "      <td>BLACK</td>\n",
       "      <td>1009548</td>\n",
       "      <td>258693</td>\n",
       "      <td>40.876699</td>\n",
       "      <td>-73.908523</td>\n",
       "      <td>POINT (-73.90852293799998 40.87669883700005)</td>\n",
       "    </tr>\n",
       "    <tr>\n",
       "      <th>2</th>\n",
       "      <td>217218947</td>\n",
       "      <td>08/30/2020</td>\n",
       "      <td>01:39:00</td>\n",
       "      <td>BROOKLYN</td>\n",
       "      <td>73</td>\n",
       "      <td>0</td>\n",
       "      <td>NaN</td>\n",
       "      <td>False</td>\n",
       "      <td>NaN</td>\n",
       "      <td>NaN</td>\n",
       "      <td>NaN</td>\n",
       "      <td>45-64</td>\n",
       "      <td>F</td>\n",
       "      <td>BLACK</td>\n",
       "      <td>1025754</td>\n",
       "      <td>268697</td>\n",
       "      <td>40.904095</td>\n",
       "      <td>-73.849860</td>\n",
       "      <td>POINT (-73.84985952299998 40.90409529500005)</td>\n",
       "    </tr>\n",
       "    <tr>\n",
       "      <th>3</th>\n",
       "      <td>216209200</td>\n",
       "      <td>08/05/2020</td>\n",
       "      <td>20:01:00</td>\n",
       "      <td>QUEENS</td>\n",
       "      <td>104</td>\n",
       "      <td>0</td>\n",
       "      <td>PVT HOUSE</td>\n",
       "      <td>False</td>\n",
       "      <td>18-24</td>\n",
       "      <td>M</td>\n",
       "      <td>UNKNOWN</td>\n",
       "      <td>25-44</td>\n",
       "      <td>F</td>\n",
       "      <td>BLACK HISPANIC</td>\n",
       "      <td>1051162</td>\n",
       "      <td>155661</td>\n",
       "      <td>40.593685</td>\n",
       "      <td>-73.759070</td>\n",
       "      <td>POINT (-73.75907037999998 40.59368532700007)</td>\n",
       "    </tr>\n",
       "    <tr>\n",
       "      <th>4</th>\n",
       "      <td>221795938</td>\n",
       "      <td>12/13/2020</td>\n",
       "      <td>16:00:00</td>\n",
       "      <td>BROOKLYN</td>\n",
       "      <td>75</td>\n",
       "      <td>0</td>\n",
       "      <td>NaN</td>\n",
       "      <td>False</td>\n",
       "      <td>NaN</td>\n",
       "      <td>NaN</td>\n",
       "      <td>NaN</td>\n",
       "      <td>25-44</td>\n",
       "      <td>F</td>\n",
       "      <td>BLACK</td>\n",
       "      <td>1008427</td>\n",
       "      <td>183518</td>\n",
       "      <td>40.670366</td>\n",
       "      <td>-73.912847</td>\n",
       "      <td>POINT (-73.91284696199995 40.670366460000025)</td>\n",
       "    </tr>\n",
       "  </tbody>\n",
       "</table>\n",
       "</div>"
      ],
      "text/plain": [
       "   INCIDENT_KEY  OCCUR_DATE OCCUR_TIME      BORO  PRECINCT  JURISDICTION_CODE  \\\n",
       "0     221467363  12/07/2020   05:50:00     BRONX        40                  0   \n",
       "1     213923358  06/06/2020   21:00:00     BRONX        47                  0   \n",
       "2     217218947  08/30/2020   01:39:00  BROOKLYN        73                  0   \n",
       "3     216209200  08/05/2020   20:01:00    QUEENS       104                  0   \n",
       "4     221795938  12/13/2020   16:00:00  BROOKLYN        75                  0   \n",
       "\n",
       "  LOCATION_DESC  STATISTICAL_MURDER_FLAG PERP_AGE_GROUP PERP_SEX PERP_RACE  \\\n",
       "0           NaN                    False            NaN      NaN       NaN   \n",
       "1           NaN                    False            NaN      NaN       NaN   \n",
       "2           NaN                    False            NaN      NaN       NaN   \n",
       "3     PVT HOUSE                    False          18-24        M   UNKNOWN   \n",
       "4           NaN                    False            NaN      NaN       NaN   \n",
       "\n",
       "  VIC_AGE_GROUP VIC_SEX        VIC_RACE  X_COORD_CD  Y_COORD_CD   Latitude  \\\n",
       "0         18-24       M           BLACK     1020183      239283  40.823387   \n",
       "1         18-24       M           BLACK     1009548      258693  40.876699   \n",
       "2         45-64       F           BLACK     1025754      268697  40.904095   \n",
       "3         25-44       F  BLACK HISPANIC     1051162      155661  40.593685   \n",
       "4         25-44       F           BLACK     1008427      183518  40.670366   \n",
       "\n",
       "   Longitude                       New Georeferenced Column  \n",
       "0 -73.870170         POINT (-73.87017045 40.82338729100008)  \n",
       "1 -73.908523   POINT (-73.90852293799998 40.87669883700005)  \n",
       "2 -73.849860   POINT (-73.84985952299998 40.90409529500005)  \n",
       "3 -73.759070   POINT (-73.75907037999998 40.59368532700007)  \n",
       "4 -73.912847  POINT (-73.91284696199995 40.670366460000025)  "
      ]
     },
     "execution_count": 51,
     "metadata": {},
     "output_type": "execute_result"
    }
   ],
   "source": [
    "df.head()"
   ]
  },
  {
   "cell_type": "markdown",
   "id": "biblical-small",
   "metadata": {},
   "source": [
    "## Explore null data in the dataset"
   ]
  },
  {
   "cell_type": "code",
   "execution_count": 128,
   "id": "micro-brave",
   "metadata": {
    "scrolled": true
   },
   "outputs": [
    {
     "data": {
      "text/plain": [
       "INCIDENT_KEY    0\n",
       "OCCUR_DATE      0\n",
       "OCCUR_TIME      0\n",
       "BORO            0\n",
       "PRECINCT        0\n",
       "dtype: int64"
      ]
     },
     "execution_count": 128,
     "metadata": {},
     "output_type": "execute_result"
    }
   ],
   "source": [
    "df.isnull().sum()[:5]"
   ]
  },
  {
   "cell_type": "code",
   "execution_count": 127,
   "id": "prerequisite-bloom",
   "metadata": {},
   "outputs": [
    {
     "data": {
      "text/plain": [
       "INCIDENT_KEY     int64\n",
       "OCCUR_DATE      object\n",
       "OCCUR_TIME      object\n",
       "BORO            object\n",
       "PRECINCT         int64\n",
       "dtype: object"
      ]
     },
     "execution_count": 127,
     "metadata": {},
     "output_type": "execute_result"
    }
   ],
   "source": [
    "df.dtypes[:5]"
   ]
  },
  {
   "cell_type": "markdown",
   "id": "533515f2",
   "metadata": {},
   "source": [
    "## Time to map the dataset\n",
    "https://towardsdatascience.com/kepler-gl-jupyter-notebooks-geospatial-data-visualization-with-ubers-opensource-kepler-gl-b1c2423d066f"
   ]
  },
  {
   "cell_type": "markdown",
   "id": "aeedb33e",
   "metadata": {},
   "source": [
    "The usual Kepler.gl workflow is as follows:\n",
    "\n",
    "    1- Add data to the map  \n",
    "    2- Create data layers  \n",
    "    3- Add filters  \n",
    "    4- Customize your map settings  \n",
    "    5- Save your map as an image and export it as a html file\n"
   ]
  },
  {
   "cell_type": "code",
   "execution_count": 164,
   "id": "9e18f5b7",
   "metadata": {
    "scrolled": false
   },
   "outputs": [
    {
     "name": "stdout",
     "output_type": "stream",
     "text": [
      "User Guide: https://docs.kepler.gl/docs/keplergl-jupyter\n"
     ]
    },
    {
     "data": {
      "application/vnd.jupyter.widget-view+json": {
       "model_id": "76f40494060e4b0ca1ffa1505e8d1837",
       "version_major": 2,
       "version_minor": 0
      },
      "text/plain": [
       "KeplerGl(config={'version': 'v1', 'config': {'visState': {'filters': [], 'layers': [{'id': 'am25s24', 'type': …"
      ]
     },
     "metadata": {},
     "output_type": "display_data"
    }
   ],
   "source": [
    "#Create a basemap \n",
    "map_1= KeplerGl(height=700, weight = 500, data={'data_1': df})\n",
    "#show the map\n",
    "map_1"
   ]
  },
  {
   "cell_type": "markdown",
   "id": "f0ba8c2c",
   "metadata": {},
   "source": [
    "### Configuration\n",
    "Each map will have a configuration file in dictionary format. We can save this configuration and work with it later without having to touch the interface again."
   ]
  },
  {
   "cell_type": "code",
   "execution_count": 136,
   "id": "94c80ec0",
   "metadata": {},
   "outputs": [],
   "source": [
    "config = map_1.config"
   ]
  },
  {
   "cell_type": "code",
   "execution_count": 137,
   "id": "a6cc6b1d",
   "metadata": {
    "collapsed": true
   },
   "outputs": [
    {
     "data": {
      "text/plain": [
       "{'version': 'v1',\n",
       " 'config': {'visState': {'filters': [],\n",
       "   'layers': [{'id': 'am25s24',\n",
       "     'type': 'point',\n",
       "     'config': {'dataId': 'data_1',\n",
       "      'label': 'Point',\n",
       "      'color': [240, 237, 234],\n",
       "      'columns': {'lat': 'Latitude', 'lng': 'Longitude', 'altitude': None},\n",
       "      'isVisible': True,\n",
       "      'visConfig': {'radius': 1.5,\n",
       "       'fixedRadius': False,\n",
       "       'opacity': 0.8,\n",
       "       'outline': False,\n",
       "       'thickness': 2,\n",
       "       'strokeColor': None,\n",
       "       'colorRange': {'name': 'Global Warming',\n",
       "        'type': 'sequential',\n",
       "        'category': 'Uber',\n",
       "        'colors': ['#5A1846',\n",
       "         '#900C3F',\n",
       "         '#C70039',\n",
       "         '#E3611C',\n",
       "         '#F1920E',\n",
       "         '#FFC300']},\n",
       "       'strokeColorRange': {'name': 'Global Warming',\n",
       "        'type': 'sequential',\n",
       "        'category': 'Uber',\n",
       "        'colors': ['#5A1846',\n",
       "         '#900C3F',\n",
       "         '#C70039',\n",
       "         '#E3611C',\n",
       "         '#F1920E',\n",
       "         '#FFC300']},\n",
       "       'radiusRange': [0, 50],\n",
       "       'filled': True},\n",
       "      'hidden': False,\n",
       "      'textLabel': [{'field': None,\n",
       "        'color': [255, 255, 255],\n",
       "        'size': 18,\n",
       "        'offset': [0, 0],\n",
       "        'anchor': 'start',\n",
       "        'alignment': 'center'}]},\n",
       "     'visualChannels': {'colorField': None,\n",
       "      'colorScale': 'quantile',\n",
       "      'strokeColorField': None,\n",
       "      'strokeColorScale': 'quantile',\n",
       "      'sizeField': None,\n",
       "      'sizeScale': 'linear'}},\n",
       "    {'id': 'sbqxr',\n",
       "     'type': 'hexagon',\n",
       "     'config': {'dataId': 'data_1',\n",
       "      'label': 'data_1',\n",
       "      'color': [221, 178, 124],\n",
       "      'columns': {'lat': 'Latitude', 'lng': 'Longitude'},\n",
       "      'isVisible': True,\n",
       "      'visConfig': {'opacity': 0.8,\n",
       "       'worldUnitSize': 0.1,\n",
       "       'resolution': 8,\n",
       "       'colorRange': {'name': 'Global Warming',\n",
       "        'type': 'sequential',\n",
       "        'category': 'Uber',\n",
       "        'colors': ['#5A1846',\n",
       "         '#900C3F',\n",
       "         '#C70039',\n",
       "         '#E3611C',\n",
       "         '#F1920E',\n",
       "         '#FFC300']},\n",
       "       'coverage': 1,\n",
       "       'sizeRange': [0, 500],\n",
       "       'percentile': [0, 100],\n",
       "       'elevationPercentile': [0, 100],\n",
       "       'elevationScale': 17,\n",
       "       'colorAggregation': 'count',\n",
       "       'sizeAggregation': 'count',\n",
       "       'enable3d': True},\n",
       "      'hidden': False,\n",
       "      'textLabel': [{'field': None,\n",
       "        'color': [255, 255, 255],\n",
       "        'size': 18,\n",
       "        'offset': [0, 0],\n",
       "        'anchor': 'start',\n",
       "        'alignment': 'center'}]},\n",
       "     'visualChannels': {'colorField': None,\n",
       "      'colorScale': 'quantile',\n",
       "      'sizeField': None,\n",
       "      'sizeScale': 'linear'}}],\n",
       "   'interactionConfig': {'tooltip': {'fieldsToShow': {'data_1': [{'name': 'INCIDENT_KEY',\n",
       "        'format': None},\n",
       "       {'name': 'OCCUR_DATE', 'format': None},\n",
       "       {'name': 'OCCUR_TIME', 'format': None},\n",
       "       {'name': 'BORO', 'format': None},\n",
       "       {'name': 'PRECINCT', 'format': None}]},\n",
       "     'compareMode': False,\n",
       "     'compareType': 'absolute',\n",
       "     'enabled': True},\n",
       "    'brush': {'size': 0.5, 'enabled': False},\n",
       "    'geocoder': {'enabled': False},\n",
       "    'coordinate': {'enabled': False}},\n",
       "   'layerBlending': 'normal',\n",
       "   'splitMaps': [],\n",
       "   'animationConfig': {'currentTime': None, 'speed': 1}},\n",
       "  'mapState': {'bearing': 24,\n",
       "   'dragRotate': True,\n",
       "   'latitude': 40.74560444339724,\n",
       "   'longitude': -74.00127642938425,\n",
       "   'pitch': 50,\n",
       "   'zoom': 10.17073740750264,\n",
       "   'isSplit': False},\n",
       "  'mapStyle': {'styleType': 'dark',\n",
       "   'topLayerGroups': {},\n",
       "   'visibleLayerGroups': {'label': True,\n",
       "    'road': True,\n",
       "    'border': False,\n",
       "    'building': True,\n",
       "    'water': True,\n",
       "    'land': True,\n",
       "    '3d building': False},\n",
       "   'threeDBuildingColor': [9.665468314072013,\n",
       "    17.18305478057247,\n",
       "    31.1442867897876],\n",
       "   'mapStyles': {}}}}"
      ]
     },
     "execution_count": 137,
     "metadata": {},
     "output_type": "execute_result"
    }
   ],
   "source": [
    "config"
   ]
  },
  {
   "cell_type": "code",
   "execution_count": 139,
   "id": "d215ab89",
   "metadata": {},
   "outputs": [
    {
     "data": {
      "text/plain": [
       "dict_keys(['version', 'config'])"
      ]
     },
     "execution_count": 139,
     "metadata": {},
     "output_type": "execute_result"
    }
   ],
   "source": [
    "config.keys()"
   ]
  },
  {
   "cell_type": "code",
   "execution_count": 143,
   "id": "90856abe",
   "metadata": {},
   "outputs": [
    {
     "data": {
      "text/plain": [
       "dict_keys(['visState', 'mapState', 'mapStyle'])"
      ]
     },
     "execution_count": 143,
     "metadata": {},
     "output_type": "execute_result"
    }
   ],
   "source": [
    "config.get(\"config\").keys()"
   ]
  },
  {
   "cell_type": "code",
   "execution_count": 153,
   "id": "2aec7137",
   "metadata": {},
   "outputs": [
    {
     "data": {
      "text/plain": [
       "{'id': 'sbqxr',\n",
       " 'type': 'hexagon',\n",
       " 'config': {'dataId': 'data_1',\n",
       "  'label': 'data_1',\n",
       "  'color': [221, 178, 124],\n",
       "  'columns': {'lat': 'Latitude', 'lng': 'Longitude'},\n",
       "  'isVisible': True,\n",
       "  'visConfig': {'opacity': 0.8,\n",
       "   'worldUnitSize': 0.1,\n",
       "   'resolution': 8,\n",
       "   'colorRange': {'name': 'Global Warming',\n",
       "    'type': 'sequential',\n",
       "    'category': 'Uber',\n",
       "    'colors': ['#5A1846',\n",
       "     '#900C3F',\n",
       "     '#C70039',\n",
       "     '#E3611C',\n",
       "     '#F1920E',\n",
       "     '#FFC300']},\n",
       "   'coverage': 1,\n",
       "   'sizeRange': [0, 500],\n",
       "   'percentile': [0, 100],\n",
       "   'elevationPercentile': [0, 100],\n",
       "   'elevationScale': 17,\n",
       "   'colorAggregation': 'count',\n",
       "   'sizeAggregation': 'count',\n",
       "   'enable3d': True},\n",
       "  'hidden': False,\n",
       "  'textLabel': [{'field': None,\n",
       "    'color': [255, 255, 255],\n",
       "    'size': 18,\n",
       "    'offset': [0, 0],\n",
       "    'anchor': 'start',\n",
       "    'alignment': 'center'}]},\n",
       " 'visualChannels': {'colorField': None,\n",
       "  'colorScale': 'quantile',\n",
       "  'sizeField': None,\n",
       "  'sizeScale': 'linear'}}"
      ]
     },
     "execution_count": 153,
     "metadata": {},
     "output_type": "execute_result"
    }
   ],
   "source": [
    "config.get(\"config\").get(\"visState\").get(\"layers\")[1] #sacamos el diccionario con los parametros de visulización del mapa"
   ]
  },
  {
   "cell_type": "code",
   "execution_count": 154,
   "id": "979dbae2",
   "metadata": {},
   "outputs": [
    {
     "data": {
      "text/plain": [
       "{'bearing': 24,\n",
       " 'dragRotate': True,\n",
       " 'latitude': 40.74560444339724,\n",
       " 'longitude': -74.00127642938425,\n",
       " 'pitch': 50,\n",
       " 'zoom': 10.17073740750264,\n",
       " 'isSplit': False}"
      ]
     },
     "execution_count": 154,
     "metadata": {},
     "output_type": "execute_result"
    }
   ],
   "source": [
    "config.get(\"config\").get(\"mapState\")"
   ]
  },
  {
   "cell_type": "code",
   "execution_count": 155,
   "id": "7cd2aa4d",
   "metadata": {},
   "outputs": [
    {
     "data": {
      "text/plain": [
       "{'styleType': 'dark',\n",
       " 'topLayerGroups': {},\n",
       " 'visibleLayerGroups': {'label': True,\n",
       "  'road': True,\n",
       "  'border': False,\n",
       "  'building': True,\n",
       "  'water': True,\n",
       "  'land': True,\n",
       "  '3d building': False},\n",
       " 'threeDBuildingColor': [9.665468314072013,\n",
       "  17.18305478057247,\n",
       "  31.1442867897876],\n",
       " 'mapStyles': {}}"
      ]
     },
     "execution_count": 155,
     "metadata": {},
     "output_type": "execute_result"
    }
   ],
   "source": [
    "config.get(\"config\").get(\"mapStyle\")"
   ]
  },
  {
   "cell_type": "code",
   "execution_count": 156,
   "id": "436dc73a",
   "metadata": {},
   "outputs": [],
   "source": [
    "x = config.get(\"config\").get(\"mapStyle\")\n",
    "for k, v in x.items():\n",
    "    x[\"styleType\"] = \"light\"\n",
    "    "
   ]
  },
  {
   "cell_type": "code",
   "execution_count": 158,
   "id": "0576b22b",
   "metadata": {},
   "outputs": [
    {
     "data": {
      "text/plain": [
       "{'styleType': 'light',\n",
       " 'topLayerGroups': {},\n",
       " 'visibleLayerGroups': {'label': True,\n",
       "  'road': True,\n",
       "  'border': False,\n",
       "  'building': True,\n",
       "  'water': True,\n",
       "  'land': True,\n",
       "  '3d building': False},\n",
       " 'threeDBuildingColor': [9.665468314072013,\n",
       "  17.18305478057247,\n",
       "  31.1442867897876],\n",
       " 'mapStyles': {}}"
      ]
     },
     "execution_count": 158,
     "metadata": {},
     "output_type": "execute_result"
    }
   ],
   "source": [
    "config.get(\"config\").get(\"mapStyle\")"
   ]
  },
  {
   "cell_type": "code",
   "execution_count": 163,
   "id": "33b4b9c7",
   "metadata": {},
   "outputs": [],
   "source": [
    "# Save map_1 config to a file\n",
    "with open('hex_config.py', 'w') as f:\n",
    "    f.write('config = {}'.format(map_1.config))\n"
   ]
  },
  {
   "cell_type": "code",
   "execution_count": 159,
   "id": "88bc1c95",
   "metadata": {
    "scrolled": false
   },
   "outputs": [
    {
     "name": "stdout",
     "output_type": "stream",
     "text": [
      "User Guide: https://docs.kepler.gl/docs/keplergl-jupyter\n"
     ]
    },
    {
     "data": {
      "application/vnd.jupyter.widget-view+json": {
       "model_id": "ea358d7097e24ee1bb537f55e993a649",
       "version_major": 2,
       "version_minor": 0
      },
      "text/plain": [
       "KeplerGl(config={'version': 'v1', 'config': {'visState': {'filters': [], 'layers': [{'id': 'am25s24', 'type': …"
      ]
     },
     "metadata": {},
     "output_type": "display_data"
    }
   ],
   "source": [
    "map_2= KeplerGl(height=1000, data={'data_1': df}, config=config)\n",
    "map_2"
   ]
  },
  {
   "cell_type": "code",
   "execution_count": null,
   "id": "78c87bfe",
   "metadata": {},
   "outputs": [],
   "source": [
    "config.get(\"config\").get(\"mapStyle\")"
   ]
  },
  {
   "cell_type": "markdown",
   "id": "46e52b8b",
   "metadata": {},
   "source": [
    "### Save the map "
   ]
  },
  {
   "cell_type": "code",
   "execution_count": 162,
   "id": "5c499cd3",
   "metadata": {},
   "outputs": [
    {
     "name": "stdout",
     "output_type": "stream",
     "text": [
      "Map saved to crime_map.html!\n"
     ]
    }
   ],
   "source": [
    "map_1.save_to_html(file_name = \"crime_map.html\", read_only = True)"
   ]
  },
  {
   "cell_type": "code",
   "execution_count": null,
   "id": "362a8c1b",
   "metadata": {},
   "outputs": [],
   "source": []
  },
  {
   "cell_type": "code",
   "execution_count": null,
   "id": "b59b1c6d",
   "metadata": {},
   "outputs": [],
   "source": []
  },
  {
   "cell_type": "code",
   "execution_count": null,
   "id": "13e4bff2",
   "metadata": {},
   "outputs": [],
   "source": []
  },
  {
   "cell_type": "markdown",
   "id": "4ad11f9a",
   "metadata": {},
   "source": [
    "# Mapa temporal COVID Alemania \n",
    "https://towardsdatascience.com/4d-data-visualization-with-kepler-gl-b6bd6dd90451\n",
    "\n",
    "¿QUe vamos a hacer ahora? \n",
    "Poner un video con este link : https://mappingpoliceviolence.org/\n",
    "Mejor poner este: http://erikyan.com/police_interactions_resulting_in_death.html\n",
    "y luego hacer lo que leo en este articulo: https://towardsdatascience.com/an-interactive-3d-map-of-police-action-s-that-have-resulted-in-death-b9d7fbf81822 TOP TOP ESTE LE TENGO QUE PROBAR"
   ]
  },
  {
   "cell_type": "markdown",
   "id": "93798fd1",
   "metadata": {},
   "source": [
    "##### TO-DO\n",
    "\n",
    "1- Cambiar enunciados a ingles 📢"
   ]
  },
  {
   "cell_type": "code",
   "execution_count": null,
   "id": "b5e489d9",
   "metadata": {},
   "outputs": [],
   "source": []
  },
  {
   "cell_type": "code",
   "execution_count": 36,
   "id": "0d0e2bf2",
   "metadata": {},
   "outputs": [],
   "source": [
    "df_covid = pd.read_csv(\"Input/Alemania_COVID19.csv\")"
   ]
  },
  {
   "cell_type": "code",
   "execution_count": 37,
   "id": "bec5f958",
   "metadata": {},
   "outputs": [],
   "source": [
    "df_covid.drop([\"ObjectId\", \"IdBundesland\", \"Altersgruppe2\", \"Refdatum\", \"IstErkrankungsbeginn\", \"NeuGenesen\", \"AnzahlGenesen\"], inplace = True, axis = 1)"
   ]
  },
  {
   "cell_type": "code",
   "execution_count": 38,
   "id": "f0573913",
   "metadata": {},
   "outputs": [],
   "source": [
    "columns = [\"federal_state\", \"district\", \"age_group\", \"gender\", \"number_cases\", \"number_deadth\", \"date\", \"country_Id\", \"data_status\", \"new_cases\", \"new_death\"]"
   ]
  },
  {
   "cell_type": "code",
   "execution_count": 39,
   "id": "879a3f94",
   "metadata": {},
   "outputs": [],
   "source": [
    "df_covid.columns = columns"
   ]
  },
  {
   "cell_type": "code",
   "execution_count": 40,
   "id": "dd1ee476",
   "metadata": {},
   "outputs": [
    {
     "data": {
      "text/html": [
       "<div>\n",
       "<style scoped>\n",
       "    .dataframe tbody tr th:only-of-type {\n",
       "        vertical-align: middle;\n",
       "    }\n",
       "\n",
       "    .dataframe tbody tr th {\n",
       "        vertical-align: top;\n",
       "    }\n",
       "\n",
       "    .dataframe thead th {\n",
       "        text-align: right;\n",
       "    }\n",
       "</style>\n",
       "<table border=\"1\" class=\"dataframe\">\n",
       "  <thead>\n",
       "    <tr style=\"text-align: right;\">\n",
       "      <th></th>\n",
       "      <th>federal_state</th>\n",
       "      <th>district</th>\n",
       "      <th>age_group</th>\n",
       "      <th>gender</th>\n",
       "      <th>number_cases</th>\n",
       "      <th>number_deadth</th>\n",
       "      <th>date</th>\n",
       "      <th>country_Id</th>\n",
       "      <th>data_status</th>\n",
       "      <th>new_cases</th>\n",
       "      <th>new_death</th>\n",
       "    </tr>\n",
       "  </thead>\n",
       "  <tbody>\n",
       "    <tr>\n",
       "      <th>0</th>\n",
       "      <td>Schleswig-Holstein</td>\n",
       "      <td>SK Flensburg</td>\n",
       "      <td>A00-A04</td>\n",
       "      <td>M</td>\n",
       "      <td>1</td>\n",
       "      <td>0</td>\n",
       "      <td>2020/09/30 00:00:00+00</td>\n",
       "      <td>1001</td>\n",
       "      <td>04.04.2021, 00:00 Uhr</td>\n",
       "      <td>0</td>\n",
       "      <td>-9</td>\n",
       "    </tr>\n",
       "    <tr>\n",
       "      <th>1</th>\n",
       "      <td>Schleswig-Holstein</td>\n",
       "      <td>SK Flensburg</td>\n",
       "      <td>A00-A04</td>\n",
       "      <td>M</td>\n",
       "      <td>1</td>\n",
       "      <td>0</td>\n",
       "      <td>2020/10/29 00:00:00+00</td>\n",
       "      <td>1001</td>\n",
       "      <td>04.04.2021, 00:00 Uhr</td>\n",
       "      <td>0</td>\n",
       "      <td>-9</td>\n",
       "    </tr>\n",
       "    <tr>\n",
       "      <th>2</th>\n",
       "      <td>Schleswig-Holstein</td>\n",
       "      <td>SK Flensburg</td>\n",
       "      <td>A00-A04</td>\n",
       "      <td>M</td>\n",
       "      <td>1</td>\n",
       "      <td>0</td>\n",
       "      <td>2020/11/03 00:00:00+00</td>\n",
       "      <td>1001</td>\n",
       "      <td>04.04.2021, 00:00 Uhr</td>\n",
       "      <td>0</td>\n",
       "      <td>-9</td>\n",
       "    </tr>\n",
       "    <tr>\n",
       "      <th>3</th>\n",
       "      <td>Schleswig-Holstein</td>\n",
       "      <td>SK Flensburg</td>\n",
       "      <td>A00-A04</td>\n",
       "      <td>M</td>\n",
       "      <td>1</td>\n",
       "      <td>0</td>\n",
       "      <td>2020/11/20 00:00:00+00</td>\n",
       "      <td>1001</td>\n",
       "      <td>04.04.2021, 00:00 Uhr</td>\n",
       "      <td>0</td>\n",
       "      <td>-9</td>\n",
       "    </tr>\n",
       "    <tr>\n",
       "      <th>4</th>\n",
       "      <td>Schleswig-Holstein</td>\n",
       "      <td>SK Flensburg</td>\n",
       "      <td>A00-A04</td>\n",
       "      <td>M</td>\n",
       "      <td>1</td>\n",
       "      <td>0</td>\n",
       "      <td>2020/11/23 00:00:00+00</td>\n",
       "      <td>1001</td>\n",
       "      <td>04.04.2021, 00:00 Uhr</td>\n",
       "      <td>0</td>\n",
       "      <td>-9</td>\n",
       "    </tr>\n",
       "  </tbody>\n",
       "</table>\n",
       "</div>"
      ],
      "text/plain": [
       "        federal_state      district age_group gender  number_cases  \\\n",
       "0  Schleswig-Holstein  SK Flensburg   A00-A04      M             1   \n",
       "1  Schleswig-Holstein  SK Flensburg   A00-A04      M             1   \n",
       "2  Schleswig-Holstein  SK Flensburg   A00-A04      M             1   \n",
       "3  Schleswig-Holstein  SK Flensburg   A00-A04      M             1   \n",
       "4  Schleswig-Holstein  SK Flensburg   A00-A04      M             1   \n",
       "\n",
       "   number_deadth                    date  country_Id            data_status  \\\n",
       "0              0  2020/09/30 00:00:00+00        1001  04.04.2021, 00:00 Uhr   \n",
       "1              0  2020/10/29 00:00:00+00        1001  04.04.2021, 00:00 Uhr   \n",
       "2              0  2020/11/03 00:00:00+00        1001  04.04.2021, 00:00 Uhr   \n",
       "3              0  2020/11/20 00:00:00+00        1001  04.04.2021, 00:00 Uhr   \n",
       "4              0  2020/11/23 00:00:00+00        1001  04.04.2021, 00:00 Uhr   \n",
       "\n",
       "   new_cases  new_death  \n",
       "0          0         -9  \n",
       "1          0         -9  \n",
       "2          0         -9  \n",
       "3          0         -9  \n",
       "4          0         -9  "
      ]
     },
     "execution_count": 40,
     "metadata": {},
     "output_type": "execute_result"
    }
   ],
   "source": [
    "df_covid.head()"
   ]
  },
  {
   "cell_type": "code",
   "execution_count": 41,
   "id": "2c43e769",
   "metadata": {},
   "outputs": [
    {
     "data": {
      "text/plain": [
       "array(['Schleswig-Holstein', 'Hamburg', 'Niedersachsen', 'Bremen',\n",
       "       'Nordrhein-Westfalen', 'Hessen', 'Rheinland-Pfalz',\n",
       "       'Baden-Württemberg', 'Bayern', 'Saarland', 'Berlin', 'Brandenburg',\n",
       "       'Mecklenburg-Vorpommern', 'Sachsen', 'Sachsen-Anhalt', 'Thüringen'],\n",
       "      dtype=object)"
      ]
     },
     "execution_count": 41,
     "metadata": {},
     "output_type": "execute_result"
    }
   ],
   "source": [
    "df_covid[\"federal_state\"].unique()"
   ]
  },
  {
   "cell_type": "code",
   "execution_count": 42,
   "id": "02ec1e2a",
   "metadata": {},
   "outputs": [],
   "source": [
    "def get_coord(x):\n",
    "    geolocator = Nominatim(user_agent=\"myGeocoder\", timeout=10)\n",
    "    location = geolocator.geocode(x)\n",
    "    data = location.raw\n",
    "\n",
    "    try:\n",
    "        y = data.get(\"lat\")\n",
    "        z = data.get(\"lon\")\n",
    "        return [y, z]\n",
    "    \n",
    "    except: \n",
    "        return \"unknown\"\n",
    "    "
   ]
  },
  {
   "cell_type": "code",
   "execution_count": 45,
   "id": "90e6adde",
   "metadata": {},
   "outputs": [
    {
     "data": {
      "text/html": [
       "<div>\n",
       "<style scoped>\n",
       "    .dataframe tbody tr th:only-of-type {\n",
       "        vertical-align: middle;\n",
       "    }\n",
       "\n",
       "    .dataframe tbody tr th {\n",
       "        vertical-align: top;\n",
       "    }\n",
       "\n",
       "    .dataframe thead th {\n",
       "        text-align: right;\n",
       "    }\n",
       "</style>\n",
       "<table border=\"1\" class=\"dataframe\">\n",
       "  <thead>\n",
       "    <tr style=\"text-align: right;\">\n",
       "      <th></th>\n",
       "      <th>federal_state</th>\n",
       "      <th>district</th>\n",
       "      <th>age_group</th>\n",
       "      <th>gender</th>\n",
       "      <th>number_cases</th>\n",
       "      <th>number_deadth</th>\n",
       "      <th>date</th>\n",
       "      <th>country_Id</th>\n",
       "      <th>data_status</th>\n",
       "      <th>new_cases</th>\n",
       "      <th>new_death</th>\n",
       "    </tr>\n",
       "  </thead>\n",
       "  <tbody>\n",
       "    <tr>\n",
       "      <th>100001</th>\n",
       "      <td>Niedersachsen</td>\n",
       "      <td>LK Hameln-Pyrmont</td>\n",
       "      <td>A60-A79</td>\n",
       "      <td>W</td>\n",
       "      <td>1</td>\n",
       "      <td>0</td>\n",
       "      <td>2021/01/02 00:00:00+00</td>\n",
       "      <td>3252</td>\n",
       "      <td>04.04.2021, 00:00 Uhr</td>\n",
       "      <td>0</td>\n",
       "      <td>-9</td>\n",
       "    </tr>\n",
       "    <tr>\n",
       "      <th>100002</th>\n",
       "      <td>Niedersachsen</td>\n",
       "      <td>LK Hameln-Pyrmont</td>\n",
       "      <td>A60-A79</td>\n",
       "      <td>W</td>\n",
       "      <td>1</td>\n",
       "      <td>0</td>\n",
       "      <td>2021/01/03 00:00:00+00</td>\n",
       "      <td>3252</td>\n",
       "      <td>04.04.2021, 00:00 Uhr</td>\n",
       "      <td>0</td>\n",
       "      <td>-9</td>\n",
       "    </tr>\n",
       "    <tr>\n",
       "      <th>100003</th>\n",
       "      <td>Niedersachsen</td>\n",
       "      <td>LK Hameln-Pyrmont</td>\n",
       "      <td>A60-A79</td>\n",
       "      <td>W</td>\n",
       "      <td>2</td>\n",
       "      <td>0</td>\n",
       "      <td>2021/01/05 00:00:00+00</td>\n",
       "      <td>3252</td>\n",
       "      <td>04.04.2021, 00:00 Uhr</td>\n",
       "      <td>0</td>\n",
       "      <td>-9</td>\n",
       "    </tr>\n",
       "    <tr>\n",
       "      <th>100004</th>\n",
       "      <td>Niedersachsen</td>\n",
       "      <td>LK Hameln-Pyrmont</td>\n",
       "      <td>A60-A79</td>\n",
       "      <td>W</td>\n",
       "      <td>2</td>\n",
       "      <td>0</td>\n",
       "      <td>2021/01/05 00:00:00+00</td>\n",
       "      <td>3252</td>\n",
       "      <td>04.04.2021, 00:00 Uhr</td>\n",
       "      <td>0</td>\n",
       "      <td>-9</td>\n",
       "    </tr>\n",
       "    <tr>\n",
       "      <th>100005</th>\n",
       "      <td>Niedersachsen</td>\n",
       "      <td>LK Hameln-Pyrmont</td>\n",
       "      <td>A60-A79</td>\n",
       "      <td>W</td>\n",
       "      <td>1</td>\n",
       "      <td>0</td>\n",
       "      <td>2021/01/06 00:00:00+00</td>\n",
       "      <td>3252</td>\n",
       "      <td>04.04.2021, 00:00 Uhr</td>\n",
       "      <td>0</td>\n",
       "      <td>-9</td>\n",
       "    </tr>\n",
       "  </tbody>\n",
       "</table>\n",
       "</div>"
      ],
      "text/plain": [
       "        federal_state           district age_group gender  number_cases  \\\n",
       "100001  Niedersachsen  LK Hameln-Pyrmont   A60-A79      W             1   \n",
       "100002  Niedersachsen  LK Hameln-Pyrmont   A60-A79      W             1   \n",
       "100003  Niedersachsen  LK Hameln-Pyrmont   A60-A79      W             2   \n",
       "100004  Niedersachsen  LK Hameln-Pyrmont   A60-A79      W             2   \n",
       "100005  Niedersachsen  LK Hameln-Pyrmont   A60-A79      W             1   \n",
       "\n",
       "        number_deadth                    date  country_Id  \\\n",
       "100001              0  2021/01/02 00:00:00+00        3252   \n",
       "100002              0  2021/01/03 00:00:00+00        3252   \n",
       "100003              0  2021/01/05 00:00:00+00        3252   \n",
       "100004              0  2021/01/05 00:00:00+00        3252   \n",
       "100005              0  2021/01/06 00:00:00+00        3252   \n",
       "\n",
       "                  data_status  new_cases  new_death  \n",
       "100001  04.04.2021, 00:00 Uhr          0         -9  \n",
       "100002  04.04.2021, 00:00 Uhr          0         -9  \n",
       "100003  04.04.2021, 00:00 Uhr          0         -9  \n",
       "100004  04.04.2021, 00:00 Uhr          0         -9  \n",
       "100005  04.04.2021, 00:00 Uhr          0         -9  "
      ]
     },
     "execution_count": 45,
     "metadata": {},
     "output_type": "execute_result"
    }
   ],
   "source": [
    "df3.head()"
   ]
  },
  {
   "cell_type": "code",
   "execution_count": 19,
   "id": "e8e76078",
   "metadata": {},
   "outputs": [
    {
     "data": {
      "text/html": [
       "<div>\n",
       "<style scoped>\n",
       "    .dataframe tbody tr th:only-of-type {\n",
       "        vertical-align: middle;\n",
       "    }\n",
       "\n",
       "    .dataframe tbody tr th {\n",
       "        vertical-align: top;\n",
       "    }\n",
       "\n",
       "    .dataframe thead th {\n",
       "        text-align: right;\n",
       "    }\n",
       "</style>\n",
       "<table border=\"1\" class=\"dataframe\">\n",
       "  <thead>\n",
       "    <tr style=\"text-align: right;\">\n",
       "      <th></th>\n",
       "      <th>federal_state</th>\n",
       "      <th>district</th>\n",
       "      <th>age_group</th>\n",
       "      <th>gender</th>\n",
       "      <th>number_cases</th>\n",
       "      <th>number_deadth</th>\n",
       "      <th>date</th>\n",
       "      <th>country_Id</th>\n",
       "      <th>data_status</th>\n",
       "      <th>new_cases</th>\n",
       "      <th>new_death</th>\n",
       "      <th>lat_long</th>\n",
       "    </tr>\n",
       "  </thead>\n",
       "  <tbody>\n",
       "  </tbody>\n",
       "</table>\n",
       "</div>"
      ],
      "text/plain": [
       "Empty DataFrame\n",
       "Columns: [federal_state, district, age_group, gender, number_cases, number_deadth, date, country_Id, data_status, new_cases, new_death, lat_long]\n",
       "Index: []"
      ]
     },
     "execution_count": 19,
     "metadata": {},
     "output_type": "execute_result"
    }
   ],
   "source": [
    "df3.head()"
   ]
  },
  {
   "cell_type": "code",
   "execution_count": 10,
   "id": "34f7f3c5",
   "metadata": {
    "scrolled": true
   },
   "outputs": [],
   "source": [
    "df_covid[\"lat_long\"] = df_covid[\"district\"].apply(get_coord)"
   ]
  },
  {
   "cell_type": "code",
   "execution_count": 11,
   "id": "e5c68ded",
   "metadata": {
    "scrolled": true
   },
   "outputs": [
    {
     "data": {
      "text/html": [
       "<div>\n",
       "<style scoped>\n",
       "    .dataframe tbody tr th:only-of-type {\n",
       "        vertical-align: middle;\n",
       "    }\n",
       "\n",
       "    .dataframe tbody tr th {\n",
       "        vertical-align: top;\n",
       "    }\n",
       "\n",
       "    .dataframe thead th {\n",
       "        text-align: right;\n",
       "    }\n",
       "</style>\n",
       "<table border=\"1\" class=\"dataframe\">\n",
       "  <thead>\n",
       "    <tr style=\"text-align: right;\">\n",
       "      <th></th>\n",
       "      <th>federal_state</th>\n",
       "      <th>district</th>\n",
       "      <th>age_group</th>\n",
       "      <th>gender</th>\n",
       "      <th>number_cases</th>\n",
       "      <th>number_deadth</th>\n",
       "      <th>date</th>\n",
       "      <th>country_Id</th>\n",
       "      <th>data_status</th>\n",
       "      <th>new_cases</th>\n",
       "      <th>new_death</th>\n",
       "      <th>lat_long</th>\n",
       "    </tr>\n",
       "  </thead>\n",
       "  <tbody>\n",
       "    <tr>\n",
       "      <th>0</th>\n",
       "      <td>Schleswig-Holstein</td>\n",
       "      <td>SK Flensburg</td>\n",
       "      <td>A00-A04</td>\n",
       "      <td>M</td>\n",
       "      <td>1</td>\n",
       "      <td>0</td>\n",
       "      <td>2020/09/30 00:00:00+00</td>\n",
       "      <td>1001</td>\n",
       "      <td>04.04.2021, 00:00 Uhr</td>\n",
       "      <td>0</td>\n",
       "      <td>-9</td>\n",
       "      <td>[54.7833021, 9.4333264]</td>\n",
       "    </tr>\n",
       "    <tr>\n",
       "      <th>1</th>\n",
       "      <td>Schleswig-Holstein</td>\n",
       "      <td>SK Flensburg</td>\n",
       "      <td>A00-A04</td>\n",
       "      <td>M</td>\n",
       "      <td>1</td>\n",
       "      <td>0</td>\n",
       "      <td>2020/10/29 00:00:00+00</td>\n",
       "      <td>1001</td>\n",
       "      <td>04.04.2021, 00:00 Uhr</td>\n",
       "      <td>0</td>\n",
       "      <td>-9</td>\n",
       "      <td>[54.7833021, 9.4333264]</td>\n",
       "    </tr>\n",
       "    <tr>\n",
       "      <th>2</th>\n",
       "      <td>Schleswig-Holstein</td>\n",
       "      <td>SK Flensburg</td>\n",
       "      <td>A00-A04</td>\n",
       "      <td>M</td>\n",
       "      <td>1</td>\n",
       "      <td>0</td>\n",
       "      <td>2020/11/03 00:00:00+00</td>\n",
       "      <td>1001</td>\n",
       "      <td>04.04.2021, 00:00 Uhr</td>\n",
       "      <td>0</td>\n",
       "      <td>-9</td>\n",
       "      <td>[54.7833021, 9.4333264]</td>\n",
       "    </tr>\n",
       "    <tr>\n",
       "      <th>3</th>\n",
       "      <td>Schleswig-Holstein</td>\n",
       "      <td>SK Flensburg</td>\n",
       "      <td>A00-A04</td>\n",
       "      <td>M</td>\n",
       "      <td>1</td>\n",
       "      <td>0</td>\n",
       "      <td>2020/11/20 00:00:00+00</td>\n",
       "      <td>1001</td>\n",
       "      <td>04.04.2021, 00:00 Uhr</td>\n",
       "      <td>0</td>\n",
       "      <td>-9</td>\n",
       "      <td>[54.7833021, 9.4333264]</td>\n",
       "    </tr>\n",
       "    <tr>\n",
       "      <th>4</th>\n",
       "      <td>Schleswig-Holstein</td>\n",
       "      <td>SK Flensburg</td>\n",
       "      <td>A00-A04</td>\n",
       "      <td>M</td>\n",
       "      <td>1</td>\n",
       "      <td>0</td>\n",
       "      <td>2020/11/23 00:00:00+00</td>\n",
       "      <td>1001</td>\n",
       "      <td>04.04.2021, 00:00 Uhr</td>\n",
       "      <td>0</td>\n",
       "      <td>-9</td>\n",
       "      <td>[54.7833021, 9.4333264]</td>\n",
       "    </tr>\n",
       "  </tbody>\n",
       "</table>\n",
       "</div>"
      ],
      "text/plain": [
       "        federal_state      district age_group gender  number_cases  \\\n",
       "0  Schleswig-Holstein  SK Flensburg   A00-A04      M             1   \n",
       "1  Schleswig-Holstein  SK Flensburg   A00-A04      M             1   \n",
       "2  Schleswig-Holstein  SK Flensburg   A00-A04      M             1   \n",
       "3  Schleswig-Holstein  SK Flensburg   A00-A04      M             1   \n",
       "4  Schleswig-Holstein  SK Flensburg   A00-A04      M             1   \n",
       "\n",
       "   number_deadth                    date  country_Id            data_status  \\\n",
       "0              0  2020/09/30 00:00:00+00        1001  04.04.2021, 00:00 Uhr   \n",
       "1              0  2020/10/29 00:00:00+00        1001  04.04.2021, 00:00 Uhr   \n",
       "2              0  2020/11/03 00:00:00+00        1001  04.04.2021, 00:00 Uhr   \n",
       "3              0  2020/11/20 00:00:00+00        1001  04.04.2021, 00:00 Uhr   \n",
       "4              0  2020/11/23 00:00:00+00        1001  04.04.2021, 00:00 Uhr   \n",
       "\n",
       "   new_cases  new_death                 lat_long  \n",
       "0          0         -9  [54.7833021, 9.4333264]  \n",
       "1          0         -9  [54.7833021, 9.4333264]  \n",
       "2          0         -9  [54.7833021, 9.4333264]  \n",
       "3          0         -9  [54.7833021, 9.4333264]  \n",
       "4          0         -9  [54.7833021, 9.4333264]  "
      ]
     },
     "execution_count": 11,
     "metadata": {},
     "output_type": "execute_result"
    }
   ],
   "source": [
    "df_covid.head()"
   ]
  },
  {
   "cell_type": "code",
   "execution_count": 12,
   "id": "d76e96f2",
   "metadata": {},
   "outputs": [
    {
     "name": "stdout",
     "output_type": "stream",
     "text": [
      "User Guide: https://docs.kepler.gl/docs/keplergl-jupyter\n"
     ]
    }
   ],
   "source": [
    "map_2 = KeplerGl(height=600, width=800)\n",
    "map_2.add_data(data=df_covid, name='covid')"
   ]
  },
  {
   "cell_type": "code",
   "execution_count": 13,
   "id": "13912e04",
   "metadata": {
    "scrolled": true
   },
   "outputs": [
    {
     "data": {
      "application/vnd.jupyter.widget-view+json": {
       "model_id": "802570dab0d44d2a9930ffec301acb52",
       "version_major": 2,
       "version_minor": 0
      },
      "text/plain": [
       "KeplerGl(data={'covid': {'index': [0, 1, 2, 3, 4, 5, 6, 7, 8, 9, 10, 11, 12, 13, 14, 15, 16, 17, 18, 19, 20, 2…"
      ]
     },
     "metadata": {},
     "output_type": "display_data"
    }
   ],
   "source": [
    "map_2"
   ]
  },
  {
   "cell_type": "markdown",
   "id": "63359646",
   "metadata": {},
   "source": [
    "# Further materials"
   ]
  },
  {
   "cell_type": "markdown",
   "id": "4af895ae",
   "metadata": {},
   "source": [
    "https://leadr-msu.github.io/kepler-gl/  \n",
    "https://github.com/heshan0131/kepler.gl"
   ]
  },
  {
   "cell_type": "code",
   "execution_count": null,
   "id": "2c92ad0b",
   "metadata": {},
   "outputs": [],
   "source": []
  }
 ],
 "metadata": {
  "kernelspec": {
   "display_name": "final",
   "language": "python",
   "name": "final"
  },
  "language_info": {
   "codemirror_mode": {
    "name": "ipython",
    "version": 3
   },
   "file_extension": ".py",
   "mimetype": "text/x-python",
   "name": "python",
   "nbconvert_exporter": "python",
   "pygments_lexer": "ipython3",
   "version": "3.8.5"
  },
  "toc": {
   "base_numbering": 1,
   "nav_menu": {},
   "number_sections": true,
   "sideBar": true,
   "skip_h1_title": false,
   "title_cell": "Table of Contents",
   "title_sidebar": "Contents",
   "toc_cell": true,
   "toc_position": {},
   "toc_section_display": true,
   "toc_window_display": false
  },
  "varInspector": {
   "cols": {
    "lenName": 16,
    "lenType": 16,
    "lenVar": 40
   },
   "kernels_config": {
    "python": {
     "delete_cmd_postfix": "",
     "delete_cmd_prefix": "del ",
     "library": "var_list.py",
     "varRefreshCmd": "print(var_dic_list())"
    },
    "r": {
     "delete_cmd_postfix": ") ",
     "delete_cmd_prefix": "rm(",
     "library": "var_list.r",
     "varRefreshCmd": "cat(var_dic_list()) "
    }
   },
   "position": {
    "height": "716px",
    "left": "1550px",
    "right": "20px",
    "top": "120px",
    "width": "350px"
   },
   "types_to_exclude": [
    "module",
    "function",
    "builtin_function_or_method",
    "instance",
    "_Feature"
   ],
   "window_display": false
  }
 },
 "nbformat": 4,
 "nbformat_minor": 5
}
