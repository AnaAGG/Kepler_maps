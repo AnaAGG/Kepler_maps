{
 "cells": [
  {
   "cell_type": "markdown",
   "id": "dc08a1e2",
   "metadata": {
    "toc": true
   },
   "source": [
    "<h1>Table of Contents<span class=\"tocSkip\"></span></h1>\n",
    "<div class=\"toc\"><ul class=\"toc-item\"><li><span><a href=\"#Libraries\" data-toc-modified-id=\"Libraries-1\"><span class=\"toc-item-num\">1&nbsp;&nbsp;</span>Libraries</a></span></li><li><span><a href=\"#Data\" data-toc-modified-id=\"Data-2\"><span class=\"toc-item-num\">2&nbsp;&nbsp;</span>Data</a></span><ul class=\"toc-item\"><li><span><a href=\"#To-perform-this-map-we-need:\" data-toc-modified-id=\"To-perform-this-map-we-need:-2.1\"><span class=\"toc-item-num\">2.1&nbsp;&nbsp;</span>To perform this map we need:</a></span></li><li><span><a href=\"#Merge-the-two-datasets\" data-toc-modified-id=\"Merge-the-two-datasets-2.2\"><span class=\"toc-item-num\">2.2&nbsp;&nbsp;</span>Merge the two datasets</a></span></li></ul></li><li><span><a href=\"#Create-a-map\" data-toc-modified-id=\"Create-a-map-3\"><span class=\"toc-item-num\">3&nbsp;&nbsp;</span>Create a map</a></span></li></ul></div>"
   ]
  },
  {
   "cell_type": "markdown",
   "id": "certain-royalty",
   "metadata": {},
   "source": [
    "![image](https://miro.medium.com/max/600/1*XLqDpdW6SC_MOOlx007N3w.gif)"
   ]
  },
  {
   "cell_type": "markdown",
   "id": "2b2b9cf9",
   "metadata": {},
   "source": [
    "# Libraries "
   ]
  },
  {
   "cell_type": "code",
   "execution_count": 2,
   "id": "efficient-dancing",
   "metadata": {
    "scrolled": true
   },
   "outputs": [
    {
     "name": "stderr",
     "output_type": "stream",
     "text": [
      "/usr/local/Caskroom/miniconda/base/envs/kepler/lib/python3.8/site-packages/geopandas/_compat.py:106: UserWarning: The Shapely GEOS version (3.8.0-CAPI-1.13.1 ) is incompatible with the GEOS version PyGEOS was compiled with (3.9.1-CAPI-1.14.2). Conversions between both will be slow.\n",
      "  warnings.warn(\n"
     ]
    }
   ],
   "source": [
    "import pandas as pd\n",
    "import geopandas as gpd\n",
    "from keplergl import KeplerGl"
   ]
  },
  {
   "cell_type": "markdown",
   "id": "704eed12",
   "metadata": {},
   "source": [
    "# Data "
   ]
  },
  {
   "cell_type": "markdown",
   "id": "6d166322",
   "metadata": {},
   "source": [
    "## To perform this map we need:\n",
    "\n",
    "Your dataset will need to include three variables:\n",
    "- a `datetime` variable (to enable time series functionality)\n",
    "- a `latitude` variable (from the polygon centroid for each county)\n",
    "- a `longitude` variable (from the polygon centroid for each county)"
   ]
  },
  {
   "cell_type": "markdown",
   "id": "ef8e3c59",
   "metadata": {},
   "source": [
    "The police interaction dataset I used (see dataset source/validity section) includes the street address, city, state, zip code, and county information. We’ll map the data by state counties because we can use the National Weather Service’s GIS shape files to extract each county’s central longitude and latitude using the centroid of each county’s respective geospatial shape."
   ]
  },
  {
   "cell_type": "code",
   "execution_count": null,
   "id": "31e97878",
   "metadata": {},
   "outputs": [],
   "source": [
    "df = pd.read_csv(\"../Input/MPV_2.csv\", sep = \";\")\n",
    "df.head()"
   ]
  },
  {
   "cell_type": "code",
   "execution_count": null,
   "id": "exciting-bandwidth",
   "metadata": {
    "scrolled": true
   },
   "outputs": [],
   "source": [
    "# We add to time info\n"
   ]
  },
  {
   "cell_type": "code",
   "execution_count": 3,
   "id": "pacific-fraud",
   "metadata": {
    "scrolled": true
   },
   "outputs": [],
   "source": [
    "# But... in this dataset we don't have lat long information. We use a shapefile\n",
    "#file add this info in our dataset\n",
    "shapefile_data = gpd.read_file(\"../Input/c_10nv20.shp\")"
   ]
  },
  {
   "cell_type": "code",
   "execution_count": 4,
   "id": "introductory-lafayette",
   "metadata": {},
   "outputs": [
    {
     "data": {
      "text/html": [
       "<div>\n",
       "<style scoped>\n",
       "    .dataframe tbody tr th:only-of-type {\n",
       "        vertical-align: middle;\n",
       "    }\n",
       "\n",
       "    .dataframe tbody tr th {\n",
       "        vertical-align: top;\n",
       "    }\n",
       "\n",
       "    .dataframe thead th {\n",
       "        text-align: right;\n",
       "    }\n",
       "</style>\n",
       "<table border=\"1\" class=\"dataframe\">\n",
       "  <thead>\n",
       "    <tr style=\"text-align: right;\">\n",
       "      <th></th>\n",
       "      <th>STATE</th>\n",
       "      <th>CWA</th>\n",
       "      <th>COUNTYNAME</th>\n",
       "      <th>FIPS</th>\n",
       "      <th>TIME_ZONE</th>\n",
       "      <th>FE_AREA</th>\n",
       "      <th>LON</th>\n",
       "      <th>LAT</th>\n",
       "      <th>geometry</th>\n",
       "    </tr>\n",
       "  </thead>\n",
       "  <tbody>\n",
       "    <tr>\n",
       "      <th>0</th>\n",
       "      <td>ME</td>\n",
       "      <td>CAR</td>\n",
       "      <td>Washington</td>\n",
       "      <td>23029</td>\n",
       "      <td>E</td>\n",
       "      <td>se</td>\n",
       "      <td>-67.6361</td>\n",
       "      <td>45.0363</td>\n",
       "      <td>MULTIPOLYGON (((-67.93539 44.40382, -67.93643 ...</td>\n",
       "    </tr>\n",
       "    <tr>\n",
       "      <th>1</th>\n",
       "      <td>GA</td>\n",
       "      <td>CHS</td>\n",
       "      <td>McIntosh</td>\n",
       "      <td>13191</td>\n",
       "      <td>E</td>\n",
       "      <td>se</td>\n",
       "      <td>-81.2646</td>\n",
       "      <td>31.5329</td>\n",
       "      <td>MULTIPOLYGON (((-81.46814 31.33980, -81.46747 ...</td>\n",
       "    </tr>\n",
       "    <tr>\n",
       "      <th>2</th>\n",
       "      <td>GA</td>\n",
       "      <td>CHS</td>\n",
       "      <td>Liberty</td>\n",
       "      <td>13179</td>\n",
       "      <td>E</td>\n",
       "      <td>se</td>\n",
       "      <td>-81.2103</td>\n",
       "      <td>31.7093</td>\n",
       "      <td>POLYGON ((-81.30807 31.79454, -81.30546 31.791...</td>\n",
       "    </tr>\n",
       "    <tr>\n",
       "      <th>3</th>\n",
       "      <td>AS</td>\n",
       "      <td>PPG</td>\n",
       "      <td>Swains Island</td>\n",
       "      <td>60040</td>\n",
       "      <td>S</td>\n",
       "      <td>None</td>\n",
       "      <td>-171.0459</td>\n",
       "      <td>-11.0843</td>\n",
       "      <td>POLYGON ((-171.04049 -11.08245, -171.03940 -11...</td>\n",
       "    </tr>\n",
       "    <tr>\n",
       "      <th>4</th>\n",
       "      <td>AS</td>\n",
       "      <td>PPG</td>\n",
       "      <td>Manu'a</td>\n",
       "      <td>60020</td>\n",
       "      <td>S</td>\n",
       "      <td>None</td>\n",
       "      <td>-169.5060</td>\n",
       "      <td>-14.2219</td>\n",
       "      <td>MULTIPOLYGON (((-169.42766 -14.21181, -169.427...</td>\n",
       "    </tr>\n",
       "    <tr>\n",
       "      <th>...</th>\n",
       "      <td>...</td>\n",
       "      <td>...</td>\n",
       "      <td>...</td>\n",
       "      <td>...</td>\n",
       "      <td>...</td>\n",
       "      <td>...</td>\n",
       "      <td>...</td>\n",
       "      <td>...</td>\n",
       "      <td>...</td>\n",
       "    </tr>\n",
       "    <tr>\n",
       "      <th>3318</th>\n",
       "      <td>VA</td>\n",
       "      <td>AKQ</td>\n",
       "      <td>York</td>\n",
       "      <td>51199</td>\n",
       "      <td>E</td>\n",
       "      <td>se</td>\n",
       "      <td>-76.5637</td>\n",
       "      <td>37.2371</td>\n",
       "      <td>POLYGON ((-76.71140 37.36571, -76.70710 37.365...</td>\n",
       "    </tr>\n",
       "    <tr>\n",
       "      <th>3319</th>\n",
       "      <td>TX</td>\n",
       "      <td>BRO</td>\n",
       "      <td>Kenedy</td>\n",
       "      <td>48261</td>\n",
       "      <td>C</td>\n",
       "      <td>ds</td>\n",
       "      <td>-97.7174</td>\n",
       "      <td>26.9281</td>\n",
       "      <td>MULTIPOLYGON (((-97.31581 26.60280, -97.31620 ...</td>\n",
       "    </tr>\n",
       "    <tr>\n",
       "      <th>3320</th>\n",
       "      <td>TX</td>\n",
       "      <td>BRO</td>\n",
       "      <td>Willacy</td>\n",
       "      <td>48489</td>\n",
       "      <td>C</td>\n",
       "      <td>ds</td>\n",
       "      <td>-97.6732</td>\n",
       "      <td>26.4706</td>\n",
       "      <td>MULTIPOLYGON (((-97.44247 26.37530, -97.44263 ...</td>\n",
       "    </tr>\n",
       "    <tr>\n",
       "      <th>3321</th>\n",
       "      <td>MI</td>\n",
       "      <td>APX</td>\n",
       "      <td>Chippewa</td>\n",
       "      <td>26033</td>\n",
       "      <td>E</td>\n",
       "      <td>ee</td>\n",
       "      <td>-84.5921</td>\n",
       "      <td>46.3031</td>\n",
       "      <td>MULTIPOLYGON (((-83.56822 45.92122, -83.56780 ...</td>\n",
       "    </tr>\n",
       "    <tr>\n",
       "      <th>3322</th>\n",
       "      <td>OR</td>\n",
       "      <td>MFR</td>\n",
       "      <td>Curry</td>\n",
       "      <td>41015</td>\n",
       "      <td>P</td>\n",
       "      <td>sw</td>\n",
       "      <td>-124.1567</td>\n",
       "      <td>42.4578</td>\n",
       "      <td>MULTIPOLYGON (((-124.47923 42.95568, -124.4762...</td>\n",
       "    </tr>\n",
       "  </tbody>\n",
       "</table>\n",
       "<p>3323 rows × 9 columns</p>\n",
       "</div>"
      ],
      "text/plain": [
       "     STATE  CWA     COUNTYNAME   FIPS TIME_ZONE FE_AREA       LON      LAT  \\\n",
       "0       ME  CAR     Washington  23029         E      se  -67.6361  45.0363   \n",
       "1       GA  CHS       McIntosh  13191         E      se  -81.2646  31.5329   \n",
       "2       GA  CHS        Liberty  13179         E      se  -81.2103  31.7093   \n",
       "3       AS  PPG  Swains Island  60040         S    None -171.0459 -11.0843   \n",
       "4       AS  PPG         Manu'a  60020         S    None -169.5060 -14.2219   \n",
       "...    ...  ...            ...    ...       ...     ...       ...      ...   \n",
       "3318    VA  AKQ           York  51199         E      se  -76.5637  37.2371   \n",
       "3319    TX  BRO         Kenedy  48261         C      ds  -97.7174  26.9281   \n",
       "3320    TX  BRO        Willacy  48489         C      ds  -97.6732  26.4706   \n",
       "3321    MI  APX       Chippewa  26033         E      ee  -84.5921  46.3031   \n",
       "3322    OR  MFR          Curry  41015         P      sw -124.1567  42.4578   \n",
       "\n",
       "                                               geometry  \n",
       "0     MULTIPOLYGON (((-67.93539 44.40382, -67.93643 ...  \n",
       "1     MULTIPOLYGON (((-81.46814 31.33980, -81.46747 ...  \n",
       "2     POLYGON ((-81.30807 31.79454, -81.30546 31.791...  \n",
       "3     POLYGON ((-171.04049 -11.08245, -171.03940 -11...  \n",
       "4     MULTIPOLYGON (((-169.42766 -14.21181, -169.427...  \n",
       "...                                                 ...  \n",
       "3318  POLYGON ((-76.71140 37.36571, -76.70710 37.365...  \n",
       "3319  MULTIPOLYGON (((-97.31581 26.60280, -97.31620 ...  \n",
       "3320  MULTIPOLYGON (((-97.44247 26.37530, -97.44263 ...  \n",
       "3321  MULTIPOLYGON (((-83.56822 45.92122, -83.56780 ...  \n",
       "3322  MULTIPOLYGON (((-124.47923 42.95568, -124.4762...  \n",
       "\n",
       "[3323 rows x 9 columns]"
      ]
     },
     "execution_count": 4,
     "metadata": {},
     "output_type": "execute_result"
    }
   ],
   "source": [
    "shapefile_data"
   ]
  },
  {
   "cell_type": "markdown",
   "id": "d14eb876",
   "metadata": {},
   "source": [
    "## Merge the two datasets "
   ]
  },
  {
   "cell_type": "markdown",
   "id": "b218fc20",
   "metadata": {},
   "source": [
    "Once you’ve extracted the longitude and latitudes, we simply merge the coordinate dictionary with the dataset using state and county variables (which should be present in both datasets). In this case, we’ll merge the data using State abbreviations and County names:"
   ]
  },
  {
   "cell_type": "code",
   "execution_count": null,
   "id": "lesser-warren",
   "metadata": {},
   "outputs": [],
   "source": [
    "#Now we are going to merge the two datasets by the column STATE. \n"
   ]
  },
  {
   "cell_type": "code",
   "execution_count": null,
   "id": "serious-fraction",
   "metadata": {},
   "outputs": [],
   "source": [
    "# remove some columns that we don`t need to the analysis. \n",
    "df_2.drop([\"Victim's race\", \"Street Address of Incident\", \"Date of Incident (month/day/year)\", \"geometry\", \"Zipcode\", \"CWA\", \"Symptoms of mental illness?\", \"Armed/Unarmed Status\",\"FIPS\", \"TIME_ZONE\", \"FE_AREA\" ], axis = 1, inplace = True)"
   ]
  },
  {
   "cell_type": "code",
   "execution_count": null,
   "id": "amino-imagination",
   "metadata": {},
   "outputs": [],
   "source": [
    "# There are some null values that we are not interested in, so we are going to eliminate them \n"
   ]
  },
  {
   "cell_type": "code",
   "execution_count": null,
   "id": "dietary-dancing",
   "metadata": {},
   "outputs": [],
   "source": [
    "# Also, we remove the duplicate data\n"
   ]
  },
  {
   "cell_type": "code",
   "execution_count": null,
   "id": "acoustic-release",
   "metadata": {
    "scrolled": true
   },
   "outputs": [],
   "source": []
  },
  {
   "cell_type": "markdown",
   "id": "3fb2e83a",
   "metadata": {},
   "source": [
    "# Create a map "
   ]
  },
  {
   "cell_type": "code",
   "execution_count": null,
   "id": "premium-velvet",
   "metadata": {},
   "outputs": [],
   "source": [
    "# Set the map configuration\n"
   ]
  },
  {
   "cell_type": "code",
   "execution_count": null,
   "id": "based-prize",
   "metadata": {
    "scrolled": false
   },
   "outputs": [],
   "source": [
    "#View the map\n",
    "map_3"
   ]
  },
  {
   "cell_type": "code",
   "execution_count": null,
   "id": "d8db063e",
   "metadata": {},
   "outputs": [],
   "source": []
  },
  {
   "cell_type": "code",
   "execution_count": null,
   "id": "8f21ac22",
   "metadata": {},
   "outputs": [],
   "source": [
    "# Save map_1 config to a file\n"
   ]
  },
  {
   "cell_type": "code",
   "execution_count": null,
   "id": "boolean-escape",
   "metadata": {},
   "outputs": [],
   "source": [
    "#save the map\n"
   ]
  },
  {
   "cell_type": "code",
   "execution_count": null,
   "id": "ca5a0a16",
   "metadata": {},
   "outputs": [],
   "source": []
  }
 ],
 "metadata": {
  "kernelspec": {
   "display_name": "kernel",
   "language": "python",
   "name": "kernel"
  },
  "language_info": {
   "codemirror_mode": {
    "name": "ipython",
    "version": 3
   },
   "file_extension": ".py",
   "mimetype": "text/x-python",
   "name": "python",
   "nbconvert_exporter": "python",
   "pygments_lexer": "ipython3",
   "version": "3.8.5"
  },
  "toc": {
   "base_numbering": 1,
   "nav_menu": {},
   "number_sections": true,
   "sideBar": true,
   "skip_h1_title": false,
   "title_cell": "Table of Contents",
   "title_sidebar": "Contents",
   "toc_cell": true,
   "toc_position": {
    "height": "calc(100% - 180px)",
    "left": "10px",
    "top": "150px",
    "width": "355.556px"
   },
   "toc_section_display": true,
   "toc_window_display": false
  },
  "varInspector": {
   "cols": {
    "lenName": 16,
    "lenType": 16,
    "lenVar": 40
   },
   "kernels_config": {
    "python": {
     "delete_cmd_postfix": "",
     "delete_cmd_prefix": "del ",
     "library": "var_list.py",
     "varRefreshCmd": "print(var_dic_list())"
    },
    "r": {
     "delete_cmd_postfix": ") ",
     "delete_cmd_prefix": "rm(",
     "library": "var_list.r",
     "varRefreshCmd": "cat(var_dic_list()) "
    }
   },
   "types_to_exclude": [
    "module",
    "function",
    "builtin_function_or_method",
    "instance",
    "_Feature"
   ],
   "window_display": false
  }
 },
 "nbformat": 4,
 "nbformat_minor": 5
}
