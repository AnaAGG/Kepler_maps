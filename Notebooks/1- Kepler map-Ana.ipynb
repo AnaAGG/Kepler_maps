{
 "cells": [
  {
   "cell_type": "markdown",
   "id": "excess-hamburg",
   "metadata": {
    "toc": true
   },
   "source": [
    "<h1>Table of Contents<span class=\"tocSkip\"></span></h1>\n",
    "<div class=\"toc\"><ul class=\"toc-item\"><li><span><a href=\"#Libraries\" data-toc-modified-id=\"Libraries-1\"><span class=\"toc-item-num\">1&nbsp;&nbsp;</span>Libraries</a></span></li><li><span><a href=\"#Crimes-in-Nueva-York\" data-toc-modified-id=\"Crimes-in-Nueva-York-2\"><span class=\"toc-item-num\">2&nbsp;&nbsp;</span>Crimes in Nueva York</a></span><ul class=\"toc-item\"><li><span><a href=\"#Explore-null-data-in-the-dataset\" data-toc-modified-id=\"Explore-null-data-in-the-dataset-2.1\"><span class=\"toc-item-num\">2.1&nbsp;&nbsp;</span>Explore null data in the dataset</a></span></li><li><span><a href=\"#Time-to-map-the-dataset\" data-toc-modified-id=\"Time-to-map-the-dataset-2.2\"><span class=\"toc-item-num\">2.2&nbsp;&nbsp;</span>Time to map the dataset</a></span><ul class=\"toc-item\"><li><span><a href=\"#Configuration\" data-toc-modified-id=\"Configuration-2.2.1\"><span class=\"toc-item-num\">2.2.1&nbsp;&nbsp;</span>Configuration</a></span></li><li><span><a href=\"#Save-the-configuration-in-.py-file\" data-toc-modified-id=\"Save-the-configuration-in-.py-file-2.2.2\"><span class=\"toc-item-num\">2.2.2&nbsp;&nbsp;</span>Save the configuration in .py file</a></span></li><li><span><a href=\"#Save-the-map\" data-toc-modified-id=\"Save-the-map-2.2.3\"><span class=\"toc-item-num\">2.2.3&nbsp;&nbsp;</span>Save the map</a></span></li></ul></li></ul></li><li><span><a href=\"#Time-series-in-Kepler\" data-toc-modified-id=\"Time-series-in-Kepler-3\"><span class=\"toc-item-num\">3&nbsp;&nbsp;</span>Time series in Kepler</a></span></li><li><span><a href=\"#Uk-movements\" data-toc-modified-id=\"Uk-movements-4\"><span class=\"toc-item-num\">4&nbsp;&nbsp;</span>Uk movements</a></span></li><li><span><a href=\"#Further-materials\" data-toc-modified-id=\"Further-materials-5\"><span class=\"toc-item-num\">5&nbsp;&nbsp;</span>Further materials</a></span></li></ul></div>"
   ]
  },
  {
   "cell_type": "markdown",
   "id": "4134c488",
   "metadata": {},
   "source": [
    "![portada](https://miro.medium.com/max/7077/1*0l-WeqdtYRruoV_XxS-ZKg.png)"
   ]
  },
  {
   "cell_type": "markdown",
   "id": "matched-psychiatry",
   "metadata": {},
   "source": [
    "# Libraries "
   ]
  },
  {
   "cell_type": "code",
   "execution_count": 1,
   "id": "bearing-tokyo",
   "metadata": {
    "scrolled": true
   },
   "outputs": [
    {
     "name": "stderr",
     "output_type": "stream",
     "text": [
      "/home/anagarcia/anaconda3/envs/final/lib/python3.8/site-packages/geopandas/_compat.py:106: UserWarning: The Shapely GEOS version (3.8.0-CAPI-1.13.1 ) is incompatible with the GEOS version PyGEOS was compiled with (3.9.0-CAPI-1.16.2). Conversions between both will be slow.\n",
      "  warnings.warn(\n"
     ]
    }
   ],
   "source": [
    "import pandas as pd\n",
    "import geopandas as gpd\n",
    "from keplergl import KeplerGl"
   ]
  },
  {
   "cell_type": "markdown",
   "id": "julian-entrance",
   "metadata": {},
   "source": [
    "# Crimes in Nueva York "
   ]
  },
  {
   "cell_type": "code",
   "execution_count": 2,
   "id": "natural-mambo",
   "metadata": {},
   "outputs": [],
   "source": [
    "df = pd.read_csv(\"../Input/NYPD_Shoot_.csv\")"
   ]
  },
  {
   "cell_type": "code",
   "execution_count": 3,
   "id": "boxed-break",
   "metadata": {},
   "outputs": [
    {
     "data": {
      "text/html": [
       "<div>\n",
       "<style scoped>\n",
       "    .dataframe tbody tr th:only-of-type {\n",
       "        vertical-align: middle;\n",
       "    }\n",
       "\n",
       "    .dataframe tbody tr th {\n",
       "        vertical-align: top;\n",
       "    }\n",
       "\n",
       "    .dataframe thead th {\n",
       "        text-align: right;\n",
       "    }\n",
       "</style>\n",
       "<table border=\"1\" class=\"dataframe\">\n",
       "  <thead>\n",
       "    <tr style=\"text-align: right;\">\n",
       "      <th></th>\n",
       "      <th>INCIDENT_KEY</th>\n",
       "      <th>OCCUR_DATE</th>\n",
       "      <th>OCCUR_TIME</th>\n",
       "      <th>BORO</th>\n",
       "      <th>PRECINCT</th>\n",
       "      <th>JURISDICTION_CODE</th>\n",
       "      <th>LOCATION_DESC</th>\n",
       "      <th>STATISTICAL_MURDER_FLAG</th>\n",
       "      <th>PERP_AGE_GROUP</th>\n",
       "      <th>PERP_SEX</th>\n",
       "      <th>PERP_RACE</th>\n",
       "      <th>VIC_AGE_GROUP</th>\n",
       "      <th>VIC_SEX</th>\n",
       "      <th>VIC_RACE</th>\n",
       "      <th>X_COORD_CD</th>\n",
       "      <th>Y_COORD_CD</th>\n",
       "      <th>Latitude</th>\n",
       "      <th>Longitude</th>\n",
       "      <th>New Georeferenced Column</th>\n",
       "    </tr>\n",
       "  </thead>\n",
       "  <tbody>\n",
       "    <tr>\n",
       "      <th>0</th>\n",
       "      <td>221467363</td>\n",
       "      <td>12/07/2020</td>\n",
       "      <td>05:50:00</td>\n",
       "      <td>BRONX</td>\n",
       "      <td>40</td>\n",
       "      <td>0</td>\n",
       "      <td>NaN</td>\n",
       "      <td>False</td>\n",
       "      <td>NaN</td>\n",
       "      <td>NaN</td>\n",
       "      <td>NaN</td>\n",
       "      <td>18-24</td>\n",
       "      <td>M</td>\n",
       "      <td>BLACK</td>\n",
       "      <td>1020183</td>\n",
       "      <td>239283</td>\n",
       "      <td>40.823387</td>\n",
       "      <td>-73.870170</td>\n",
       "      <td>POINT (-73.87017045 40.82338729100008)</td>\n",
       "    </tr>\n",
       "    <tr>\n",
       "      <th>1</th>\n",
       "      <td>213923358</td>\n",
       "      <td>06/06/2020</td>\n",
       "      <td>21:00:00</td>\n",
       "      <td>BRONX</td>\n",
       "      <td>47</td>\n",
       "      <td>0</td>\n",
       "      <td>NaN</td>\n",
       "      <td>False</td>\n",
       "      <td>NaN</td>\n",
       "      <td>NaN</td>\n",
       "      <td>NaN</td>\n",
       "      <td>18-24</td>\n",
       "      <td>M</td>\n",
       "      <td>BLACK</td>\n",
       "      <td>1009548</td>\n",
       "      <td>258693</td>\n",
       "      <td>40.876699</td>\n",
       "      <td>-73.908523</td>\n",
       "      <td>POINT (-73.90852293799998 40.87669883700005)</td>\n",
       "    </tr>\n",
       "    <tr>\n",
       "      <th>2</th>\n",
       "      <td>217218947</td>\n",
       "      <td>08/30/2020</td>\n",
       "      <td>01:39:00</td>\n",
       "      <td>BROOKLYN</td>\n",
       "      <td>73</td>\n",
       "      <td>0</td>\n",
       "      <td>NaN</td>\n",
       "      <td>False</td>\n",
       "      <td>NaN</td>\n",
       "      <td>NaN</td>\n",
       "      <td>NaN</td>\n",
       "      <td>45-64</td>\n",
       "      <td>F</td>\n",
       "      <td>BLACK</td>\n",
       "      <td>1025754</td>\n",
       "      <td>268697</td>\n",
       "      <td>40.904095</td>\n",
       "      <td>-73.849860</td>\n",
       "      <td>POINT (-73.84985952299998 40.90409529500005)</td>\n",
       "    </tr>\n",
       "    <tr>\n",
       "      <th>3</th>\n",
       "      <td>216209200</td>\n",
       "      <td>08/05/2020</td>\n",
       "      <td>20:01:00</td>\n",
       "      <td>QUEENS</td>\n",
       "      <td>104</td>\n",
       "      <td>0</td>\n",
       "      <td>PVT HOUSE</td>\n",
       "      <td>False</td>\n",
       "      <td>18-24</td>\n",
       "      <td>M</td>\n",
       "      <td>UNKNOWN</td>\n",
       "      <td>25-44</td>\n",
       "      <td>F</td>\n",
       "      <td>BLACK HISPANIC</td>\n",
       "      <td>1051162</td>\n",
       "      <td>155661</td>\n",
       "      <td>40.593685</td>\n",
       "      <td>-73.759070</td>\n",
       "      <td>POINT (-73.75907037999998 40.59368532700007)</td>\n",
       "    </tr>\n",
       "    <tr>\n",
       "      <th>4</th>\n",
       "      <td>221795938</td>\n",
       "      <td>12/13/2020</td>\n",
       "      <td>16:00:00</td>\n",
       "      <td>BROOKLYN</td>\n",
       "      <td>75</td>\n",
       "      <td>0</td>\n",
       "      <td>NaN</td>\n",
       "      <td>False</td>\n",
       "      <td>NaN</td>\n",
       "      <td>NaN</td>\n",
       "      <td>NaN</td>\n",
       "      <td>25-44</td>\n",
       "      <td>F</td>\n",
       "      <td>BLACK</td>\n",
       "      <td>1008427</td>\n",
       "      <td>183518</td>\n",
       "      <td>40.670366</td>\n",
       "      <td>-73.912847</td>\n",
       "      <td>POINT (-73.91284696199995 40.670366460000025)</td>\n",
       "    </tr>\n",
       "  </tbody>\n",
       "</table>\n",
       "</div>"
      ],
      "text/plain": [
       "   INCIDENT_KEY  OCCUR_DATE OCCUR_TIME      BORO  PRECINCT  JURISDICTION_CODE  \\\n",
       "0     221467363  12/07/2020   05:50:00     BRONX        40                  0   \n",
       "1     213923358  06/06/2020   21:00:00     BRONX        47                  0   \n",
       "2     217218947  08/30/2020   01:39:00  BROOKLYN        73                  0   \n",
       "3     216209200  08/05/2020   20:01:00    QUEENS       104                  0   \n",
       "4     221795938  12/13/2020   16:00:00  BROOKLYN        75                  0   \n",
       "\n",
       "  LOCATION_DESC  STATISTICAL_MURDER_FLAG PERP_AGE_GROUP PERP_SEX PERP_RACE  \\\n",
       "0           NaN                    False            NaN      NaN       NaN   \n",
       "1           NaN                    False            NaN      NaN       NaN   \n",
       "2           NaN                    False            NaN      NaN       NaN   \n",
       "3     PVT HOUSE                    False          18-24        M   UNKNOWN   \n",
       "4           NaN                    False            NaN      NaN       NaN   \n",
       "\n",
       "  VIC_AGE_GROUP VIC_SEX        VIC_RACE  X_COORD_CD  Y_COORD_CD   Latitude  \\\n",
       "0         18-24       M           BLACK     1020183      239283  40.823387   \n",
       "1         18-24       M           BLACK     1009548      258693  40.876699   \n",
       "2         45-64       F           BLACK     1025754      268697  40.904095   \n",
       "3         25-44       F  BLACK HISPANIC     1051162      155661  40.593685   \n",
       "4         25-44       F           BLACK     1008427      183518  40.670366   \n",
       "\n",
       "   Longitude                       New Georeferenced Column  \n",
       "0 -73.870170         POINT (-73.87017045 40.82338729100008)  \n",
       "1 -73.908523   POINT (-73.90852293799998 40.87669883700005)  \n",
       "2 -73.849860   POINT (-73.84985952299998 40.90409529500005)  \n",
       "3 -73.759070   POINT (-73.75907037999998 40.59368532700007)  \n",
       "4 -73.912847  POINT (-73.91284696199995 40.670366460000025)  "
      ]
     },
     "execution_count": 3,
     "metadata": {},
     "output_type": "execute_result"
    }
   ],
   "source": [
    "df.head()"
   ]
  },
  {
   "cell_type": "markdown",
   "id": "biblical-small",
   "metadata": {},
   "source": [
    "## Explore null data in the dataset"
   ]
  },
  {
   "cell_type": "code",
   "execution_count": 4,
   "id": "prerequisite-bloom",
   "metadata": {},
   "outputs": [
    {
     "data": {
      "text/plain": [
       "INCIDENT_KEY                  int64\n",
       "OCCUR_DATE                   object\n",
       "OCCUR_TIME                   object\n",
       "BORO                         object\n",
       "PRECINCT                      int64\n",
       "JURISDICTION_CODE             int64\n",
       "LOCATION_DESC                object\n",
       "STATISTICAL_MURDER_FLAG        bool\n",
       "PERP_AGE_GROUP               object\n",
       "PERP_SEX                     object\n",
       "PERP_RACE                    object\n",
       "VIC_AGE_GROUP                object\n",
       "VIC_SEX                      object\n",
       "VIC_RACE                     object\n",
       "X_COORD_CD                    int64\n",
       "Y_COORD_CD                    int64\n",
       "Latitude                    float64\n",
       "Longitude                   float64\n",
       "New Georeferenced Column     object\n",
       "dtype: object"
      ]
     },
     "execution_count": 4,
     "metadata": {},
     "output_type": "execute_result"
    }
   ],
   "source": [
    "df.dtypes"
   ]
  },
  {
   "cell_type": "markdown",
   "id": "533515f2",
   "metadata": {},
   "source": [
    "## Time to map the dataset"
   ]
  },
  {
   "cell_type": "markdown",
   "id": "aeedb33e",
   "metadata": {},
   "source": [
    "The usual Kepler.gl workflow is as follows:\n",
    "\n",
    "    1- Add data to the map  \n",
    "    2- Create data layers  \n",
    "    3- Add filters  \n",
    "    4- Customize your map settings  \n",
    "    5- Save your map as an image and export it as a html file\n"
   ]
  },
  {
   "cell_type": "code",
   "execution_count": 12,
   "id": "9e18f5b7",
   "metadata": {
    "scrolled": false
   },
   "outputs": [
    {
     "name": "stdout",
     "output_type": "stream",
     "text": [
      "User Guide: https://docs.kepler.gl/docs/keplergl-jupyter\n"
     ]
    },
    {
     "data": {
      "application/vnd.jupyter.widget-view+json": {
       "model_id": "b68022b77aed4cbdac5153f78544edb4",
       "version_major": 2,
       "version_minor": 0
      },
      "text/plain": [
       "KeplerGl(data={'crimes':       INCIDENT_KEY  OCCUR_DATE OCCUR_TIME      BORO  PRECINCT  \\\n",
       "0        221467363  …"
      ]
     },
     "metadata": {},
     "output_type": "display_data"
    }
   ],
   "source": [
    "#Create a basemap \n",
    "map_1= KeplerGl(height=700, weight = 500, data={'crimes': df})\n",
    "#show the map\n",
    "map_1"
   ]
  },
  {
   "cell_type": "markdown",
   "id": "4497b3fe",
   "metadata": {},
   "source": [
    "### Configuration\n",
    "Each map will have a configuration file in dictionary format. We can save this configuration and work with it later without having to touch the interface again."
   ]
  },
  {
   "cell_type": "code",
   "execution_count": 7,
   "id": "94c80ec0",
   "metadata": {},
   "outputs": [],
   "source": [
    "# we can store the config file in a variable to modify the map configuration latter. \n",
    "config = map_1.config"
   ]
  },
  {
   "cell_type": "code",
   "execution_count": 8,
   "id": "98f82655",
   "metadata": {},
   "outputs": [
    {
     "data": {
      "text/plain": [
       "{'version': 'v1',\n",
       " 'config': {'visState': {'filters': [],\n",
       "   'layers': [{'id': 'm3isu2m',\n",
       "     'type': 'hexagon',\n",
       "     'config': {'dataId': 'crimes',\n",
       "      'label': 'crimes',\n",
       "      'color': [30, 150, 190],\n",
       "      'columns': {'lat': 'Latitude', 'lng': 'Longitude'},\n",
       "      'isVisible': True,\n",
       "      'visConfig': {'opacity': 0.8,\n",
       "       'worldUnitSize': 0.1,\n",
       "       'resolution': 8,\n",
       "       'colorRange': {'name': 'Global Warming',\n",
       "        'type': 'sequential',\n",
       "        'category': 'Uber',\n",
       "        'colors': ['#5A1846',\n",
       "         '#900C3F',\n",
       "         '#C70039',\n",
       "         '#E3611C',\n",
       "         '#F1920E',\n",
       "         '#FFC300']},\n",
       "       'coverage': 1,\n",
       "       'sizeRange': [0, 500],\n",
       "       'percentile': [0, 100],\n",
       "       'elevationPercentile': [0, 100],\n",
       "       'elevationScale': 9.3,\n",
       "       'colorAggregation': 'count',\n",
       "       'sizeAggregation': 'count',\n",
       "       'enable3d': True},\n",
       "      'hidden': False,\n",
       "      'textLabel': [{'field': None,\n",
       "        'color': [255, 255, 255],\n",
       "        'size': 18,\n",
       "        'offset': [0, 0],\n",
       "        'anchor': 'start',\n",
       "        'alignment': 'center'}]},\n",
       "     'visualChannels': {'colorField': None,\n",
       "      'colorScale': 'quantile',\n",
       "      'sizeField': None,\n",
       "      'sizeScale': 'linear'}}],\n",
       "   'interactionConfig': {'tooltip': {'fieldsToShow': {'crimes': [{'name': 'INCIDENT_KEY',\n",
       "        'format': None},\n",
       "       {'name': 'OCCUR_DATE', 'format': None},\n",
       "       {'name': 'OCCUR_TIME', 'format': None},\n",
       "       {'name': 'BORO', 'format': None},\n",
       "       {'name': 'PRECINCT', 'format': None}]},\n",
       "     'compareMode': False,\n",
       "     'compareType': 'absolute',\n",
       "     'enabled': True},\n",
       "    'brush': {'size': 0.5, 'enabled': False},\n",
       "    'geocoder': {'enabled': False},\n",
       "    'coordinate': {'enabled': False}},\n",
       "   'layerBlending': 'normal',\n",
       "   'splitMaps': [],\n",
       "   'animationConfig': {'currentTime': None, 'speed': 1}},\n",
       "  'mapState': {'bearing': 24,\n",
       "   'dragRotate': True,\n",
       "   'latitude': 40.739124697500046,\n",
       "   'longitude': -73.95165109399997,\n",
       "   'pitch': 50,\n",
       "   'zoom': 10,\n",
       "   'isSplit': False},\n",
       "  'mapStyle': {'styleType': 'dark',\n",
       "   'topLayerGroups': {},\n",
       "   'visibleLayerGroups': {'label': True,\n",
       "    'road': True,\n",
       "    'border': False,\n",
       "    'building': True,\n",
       "    'water': True,\n",
       "    'land': True,\n",
       "    '3d building': False},\n",
       "   'threeDBuildingColor': [9.665468314072013,\n",
       "    17.18305478057247,\n",
       "    31.1442867897876],\n",
       "   'mapStyles': {}}}}"
      ]
     },
     "execution_count": 8,
     "metadata": {},
     "output_type": "execute_result"
    }
   ],
   "source": [
    "config"
   ]
  },
  {
   "cell_type": "code",
   "execution_count": 9,
   "id": "ba6ff3ab",
   "metadata": {},
   "outputs": [
    {
     "data": {
      "text/plain": [
       "dict_keys(['version', 'config'])"
      ]
     },
     "execution_count": 9,
     "metadata": {},
     "output_type": "execute_result"
    }
   ],
   "source": [
    "config.keys()"
   ]
  },
  {
   "cell_type": "code",
   "execution_count": 10,
   "id": "bf529f3b",
   "metadata": {},
   "outputs": [
    {
     "data": {
      "text/plain": [
       "dict_keys(['visState', 'mapState', 'mapStyle'])"
      ]
     },
     "execution_count": 10,
     "metadata": {},
     "output_type": "execute_result"
    }
   ],
   "source": [
    "config.get(\"config\").keys()"
   ]
  },
  {
   "cell_type": "code",
   "execution_count": 10,
   "id": "23fea2da",
   "metadata": {
    "collapsed": true
   },
   "outputs": [
    {
     "data": {
      "text/plain": [
       "{'id': '15zazc1',\n",
       " 'type': 'hexagon',\n",
       " 'config': {'dataId': 'crimes',\n",
       "  'label': 'crimes',\n",
       "  'color': [77, 193, 156],\n",
       "  'columns': {'lat': 'Latitude', 'lng': 'Longitude'},\n",
       "  'isVisible': True,\n",
       "  'visConfig': {'opacity': 0.8,\n",
       "   'worldUnitSize': 0.1,\n",
       "   'resolution': 8,\n",
       "   'colorRange': {'name': 'Global Warming',\n",
       "    'type': 'sequential',\n",
       "    'category': 'Uber',\n",
       "    'colors': ['#5A1846',\n",
       "     '#900C3F',\n",
       "     '#C70039',\n",
       "     '#E3611C',\n",
       "     '#F1920E',\n",
       "     '#FFC300']},\n",
       "   'coverage': 1,\n",
       "   'sizeRange': [0, 500],\n",
       "   'percentile': [0, 100],\n",
       "   'elevationPercentile': [0, 100],\n",
       "   'elevationScale': 15.4,\n",
       "   'colorAggregation': 'count',\n",
       "   'sizeAggregation': 'count',\n",
       "   'enable3d': True},\n",
       "  'hidden': False,\n",
       "  'textLabel': [{'field': None,\n",
       "    'color': [255, 255, 255],\n",
       "    'size': 18,\n",
       "    'offset': [0, 0],\n",
       "    'anchor': 'start',\n",
       "    'alignment': 'center'}]},\n",
       " 'visualChannels': {'colorField': None,\n",
       "  'colorScale': 'quantile',\n",
       "  'sizeField': None,\n",
       "  'sizeScale': 'linear'}}"
      ]
     },
     "execution_count": 10,
     "metadata": {},
     "output_type": "execute_result"
    }
   ],
   "source": [
    "config.get(\"config\").get(\"visState\").get(\"layers\")[1] #sacamos el diccionario con los parametros de visulización del mapa"
   ]
  },
  {
   "cell_type": "code",
   "execution_count": null,
   "id": "d26a60ac",
   "metadata": {},
   "outputs": [],
   "source": [
    "config.get(\"config\").get(\"mapState\")"
   ]
  },
  {
   "cell_type": "code",
   "execution_count": null,
   "id": "4f720ec1",
   "metadata": {},
   "outputs": [],
   "source": [
    "config.get(\"config\").get(\"mapStyle\")"
   ]
  },
  {
   "cell_type": "code",
   "execution_count": null,
   "id": "94a148a4",
   "metadata": {},
   "outputs": [],
   "source": [
    "config"
   ]
  },
  {
   "cell_type": "markdown",
   "id": "82d203aa",
   "metadata": {},
   "source": [
    "### Save the configuration in .py file"
   ]
  },
  {
   "cell_type": "code",
   "execution_count": 13,
   "id": "0ce0faad",
   "metadata": {},
   "outputs": [],
   "source": [
    "# Save map_1 config to a file\n",
    "with open('hex_config.py', 'w') as f:\n",
    "    f.write('config = {}'.format(map_1.config))\n"
   ]
  },
  {
   "cell_type": "code",
   "execution_count": null,
   "id": "8e5879ef",
   "metadata": {
    "scrolled": false
   },
   "outputs": [],
   "source": [
    "map_2= KeplerGl(height=700, data={'data_1': df}, config=config)\n",
    "map_2"
   ]
  },
  {
   "cell_type": "markdown",
   "id": "af7fb4ee",
   "metadata": {},
   "source": [
    "### Save the map "
   ]
  },
  {
   "cell_type": "code",
   "execution_count": null,
   "id": "46787809",
   "metadata": {},
   "outputs": [],
   "source": [
    "map_1.save_to_html(file_name = \"crime_map.html\", read_only = True)"
   ]
  },
  {
   "cell_type": "markdown",
   "id": "e7488849",
   "metadata": {},
   "source": [
    "# Time series in Kepler"
   ]
  },
  {
   "cell_type": "markdown",
   "id": "54f2562d",
   "metadata": {},
   "source": [
    "Besides geospatial data, Kepler.gl’s can handle **spatiotemporal** data and add time playbacks to visualize data evolution over time. This is enabled by the “filters” concept in Kepler.gl. "
   ]
  },
  {
   "cell_type": "markdown",
   "id": "877dc9a0",
   "metadata": {},
   "source": [
    "For this example we are going to use a database of taxi movements in New York. The objective is to represent all the taxi movements in this city throughout the day. You can download the dateset [here](https://www1.nyc.gov/site/tlc/about/tlc-trip-record-data.page)"
   ]
  },
  {
   "cell_type": "code",
   "execution_count": null,
   "id": "104b7453",
   "metadata": {},
   "outputs": [],
   "source": [
    "df_1 = pd.read_csv(\"../Input/nytrips.csv\")\n",
    "df_1.head()"
   ]
  },
  {
   "cell_type": "markdown",
   "id": "2c5d75aa",
   "metadata": {},
   "source": [
    "##### To add data to the map, also we can use the add_data method. \n",
    "   > **1-** Load a basemap with the `height` and `width` parameters \n",
    "    \n",
    "   > **2-** Use the `add_data` method. In this method we need to specify:  \n",
    "        - data ==> the target dataframe  \n",
    "        - name ==> the map's name  \n"
   ]
  },
  {
   "cell_type": "code",
   "execution_count": null,
   "id": "b9efc66d",
   "metadata": {},
   "outputs": [],
   "source": [
    "map_3 = KeplerGl(height=600, width=800)\n",
    "map_3.add_data(data=df_1, name='trips' )"
   ]
  },
  {
   "cell_type": "code",
   "execution_count": null,
   "id": "54a41126",
   "metadata": {
    "scrolled": true
   },
   "outputs": [],
   "source": [
    "map_3"
   ]
  },
  {
   "cell_type": "markdown",
   "id": "4ad11f9a",
   "metadata": {},
   "source": [
    "# Uk movements\n",
    "\n",
    "In this example we will see the commute patterns in th UK. A origin destination map using 3D **arcs** to show commute patterns of Emgland and Wales residence. \n",
    "\n",
    "Also,  we will see how to use the brush parameter. With this parameter we will establish a radius that will act as a filter. Placing the mouse over a point will only return the data that is within the radius that we have specified."
   ]
  },
  {
   "cell_type": "code",
   "execution_count": null,
   "id": "0d0e2bf2",
   "metadata": {},
   "outputs": [],
   "source": [
    "df_2= pd.read_csv(\"../Input/uk_mov.csv\")\n",
    "df_2.head()"
   ]
  },
  {
   "cell_type": "code",
   "execution_count": null,
   "id": "d76e96f2",
   "metadata": {},
   "outputs": [],
   "source": [
    "map_2 = KeplerGl(height=600, width=800)\n",
    "map_2.add_data(data=df_2, name='uk')"
   ]
  },
  {
   "cell_type": "code",
   "execution_count": null,
   "id": "13912e04",
   "metadata": {
    "scrolled": false
   },
   "outputs": [],
   "source": [
    "map_2"
   ]
  },
  {
   "cell_type": "code",
   "execution_count": null,
   "id": "fe89f168",
   "metadata": {},
   "outputs": [],
   "source": [
    "# Save map_2 config to a file\n",
    "with open('taxi_config.py', 'w') as f:\n",
    "    f.write('config = {}'.format(map_2.config))\n"
   ]
  },
  {
   "cell_type": "code",
   "execution_count": null,
   "id": "c1f569ce",
   "metadata": {},
   "outputs": [],
   "source": [
    "taxi_config = map_2.config\n",
    "taxi_config.keys()"
   ]
  },
  {
   "cell_type": "code",
   "execution_count": null,
   "id": "15e43cd4",
   "metadata": {},
   "outputs": [],
   "source": [
    "map_2.save_to_html(file_name = \"uk_mov_2.html\", read_only = False)"
   ]
  },
  {
   "cell_type": "markdown",
   "id": "63359646",
   "metadata": {},
   "source": [
    "# Further materials"
   ]
  },
  {
   "cell_type": "markdown",
   "id": "4af895ae",
   "metadata": {},
   "source": [
    "https://leadr-msu.github.io/kepler-gl/  \n",
    "https://github.com/heshan0131/kepler.gl\n",
    "https://towardsdatascience.com/4d-data-visualization-with-kepler-gl-b6bd6dd90451"
   ]
  },
  {
   "cell_type": "code",
   "execution_count": null,
   "id": "2c92ad0b",
   "metadata": {},
   "outputs": [],
   "source": []
  }
 ],
 "metadata": {
  "kernelspec": {
   "display_name": "final",
   "language": "python",
   "name": "final"
  },
  "language_info": {
   "codemirror_mode": {
    "name": "ipython",
    "version": 3
   },
   "file_extension": ".py",
   "mimetype": "text/x-python",
   "name": "python",
   "nbconvert_exporter": "python",
   "pygments_lexer": "ipython3",
   "version": "3.8.5"
  },
  "toc": {
   "base_numbering": 1,
   "nav_menu": {},
   "number_sections": true,
   "sideBar": true,
   "skip_h1_title": false,
   "title_cell": "Table of Contents",
   "title_sidebar": "Contents",
   "toc_cell": true,
   "toc_position": {},
   "toc_section_display": true,
   "toc_window_display": false
  },
  "varInspector": {
   "cols": {
    "lenName": 16,
    "lenType": 16,
    "lenVar": 40
   },
   "kernels_config": {
    "python": {
     "delete_cmd_postfix": "",
     "delete_cmd_prefix": "del ",
     "library": "var_list.py",
     "varRefreshCmd": "print(var_dic_list())"
    },
    "r": {
     "delete_cmd_postfix": ") ",
     "delete_cmd_prefix": "rm(",
     "library": "var_list.r",
     "varRefreshCmd": "cat(var_dic_list()) "
    }
   },
   "position": {
    "height": "716px",
    "left": "1550px",
    "right": "20px",
    "top": "120px",
    "width": "350px"
   },
   "types_to_exclude": [
    "module",
    "function",
    "builtin_function_or_method",
    "instance",
    "_Feature"
   ],
   "window_display": false
  }
 },
 "nbformat": 4,
 "nbformat_minor": 5
}
