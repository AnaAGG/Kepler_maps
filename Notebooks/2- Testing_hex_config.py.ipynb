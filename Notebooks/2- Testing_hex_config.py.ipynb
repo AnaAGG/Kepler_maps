{
 "cells": [
  {
   "cell_type": "markdown",
   "id": "058410de",
   "metadata": {
    "toc": true
   },
   "source": [
    "<h1>Table of Contents<span class=\"tocSkip\"></span></h1>\n",
    "<div class=\"toc\"><ul class=\"toc-item\"><li><span><a href=\"#Libraries\" data-toc-modified-id=\"Libraries-1\"><span class=\"toc-item-num\">1&nbsp;&nbsp;</span>Libraries</a></span></li><li><span><a href=\"#Load-data\" data-toc-modified-id=\"Load-data-2\"><span class=\"toc-item-num\">2&nbsp;&nbsp;</span>Load data</a></span></li><li><span><a href=\"#Using-the-config.py-file-in-a-new-proyect\" data-toc-modified-id=\"Using-the-config.py-file-in-a-new-proyect-3\"><span class=\"toc-item-num\">3&nbsp;&nbsp;</span>Using the config.py file in a new proyect</a></span></li><li><span><a href=\"#Create-a-map\" data-toc-modified-id=\"Create-a-map-4\"><span class=\"toc-item-num\">4&nbsp;&nbsp;</span>Create a map</a></span></li><li><span><a href=\"#But...-where-is-the-data?\" data-toc-modified-id=\"But...-where-is-the-data?-5\"><span class=\"toc-item-num\">5&nbsp;&nbsp;</span>But... where is the data?</a></span><ul class=\"toc-item\"><li><span><a href=\"#Change-latitude-and-longitude\" data-toc-modified-id=\"Change-latitude-and-longitude-5.1\"><span class=\"toc-item-num\">5.1&nbsp;&nbsp;</span>Change latitude and longitude</a></span></li><li><span><a href=\"#Change-map-style\" data-toc-modified-id=\"Change-map-style-5.2\"><span class=\"toc-item-num\">5.2&nbsp;&nbsp;</span>Change map style</a></span></li><li><span><a href=\"#Reload-the-map\" data-toc-modified-id=\"Reload-the-map-5.3\"><span class=\"toc-item-num\">5.3&nbsp;&nbsp;</span>Reload the map</a></span></li></ul></li></ul></div>"
   ]
  },
  {
   "cell_type": "markdown",
   "id": "d0c509f0",
   "metadata": {},
   "source": [
    "![portada](https://miro.medium.com/max/1440/1*bB0OTIKP51yoKgKG6Bd9zg.gif)"
   ]
  },
  {
   "cell_type": "markdown",
   "id": "7817d834",
   "metadata": {},
   "source": [
    "# Libraries"
   ]
  },
  {
   "cell_type": "code",
   "execution_count": 15,
   "id": "daf1ddec",
   "metadata": {},
   "outputs": [],
   "source": [
    "from keplergl import KeplerGl\n",
    "import pandas as pd"
   ]
  },
  {
   "cell_type": "markdown",
   "id": "81621a3b",
   "metadata": {},
   "source": [
    "# Load data"
   ]
  },
  {
   "cell_type": "code",
   "execution_count": 28,
   "id": "76ce1426",
   "metadata": {},
   "outputs": [],
   "source": [
    "df = pd.read_csv(\"../Input/traf_Madrid.csv\")"
   ]
  },
  {
   "cell_type": "code",
   "execution_count": 29,
   "id": "9a5bd769",
   "metadata": {},
   "outputs": [
    {
     "data": {
      "text/html": [
       "<div>\n",
       "<style scoped>\n",
       "    .dataframe tbody tr th:only-of-type {\n",
       "        vertical-align: middle;\n",
       "    }\n",
       "\n",
       "    .dataframe tbody tr th {\n",
       "        vertical-align: top;\n",
       "    }\n",
       "\n",
       "    .dataframe thead th {\n",
       "        text-align: right;\n",
       "    }\n",
       "</style>\n",
       "<table border=\"1\" class=\"dataframe\">\n",
       "  <thead>\n",
       "    <tr style=\"text-align: right;\">\n",
       "      <th></th>\n",
       "      <th>poi_id</th>\n",
       "      <th>poi_name</th>\n",
       "      <th>Latitude</th>\n",
       "      <th>Longitude</th>\n",
       "      <th>date</th>\n",
       "      <th>occupation</th>\n",
       "      <th>intensity</th>\n",
       "      <th>load</th>\n",
       "      <th>city</th>\n",
       "      <th>year</th>\n",
       "      <th>month</th>\n",
       "      <th>day</th>\n",
       "      <th>hour</th>\n",
       "    </tr>\n",
       "  </thead>\n",
       "  <tbody>\n",
       "    <tr>\n",
       "      <th>0</th>\n",
       "      <td>3844</td>\n",
       "      <td>(AFOROS) PÂº Castellana S-N  - Eduardo Dato - ...</td>\n",
       "      <td>40.433782</td>\n",
       "      <td>-3.688470</td>\n",
       "      <td>2021-02-03T14:25:28.000Z</td>\n",
       "      <td>9.0</td>\n",
       "      <td>2400.0</td>\n",
       "      <td>56.0</td>\n",
       "      <td>madrid</td>\n",
       "      <td>2021</td>\n",
       "      <td>2</td>\n",
       "      <td>3</td>\n",
       "      <td>14</td>\n",
       "    </tr>\n",
       "    <tr>\n",
       "      <th>1</th>\n",
       "      <td>3845</td>\n",
       "      <td>PÂº Recoletos S-N - Villanueva-Jorge Juan</td>\n",
       "      <td>40.423512</td>\n",
       "      <td>-3.690991</td>\n",
       "      <td>2021-02-03T14:25:28.000Z</td>\n",
       "      <td>5.0</td>\n",
       "      <td>1500.0</td>\n",
       "      <td>40.0</td>\n",
       "      <td>madrid</td>\n",
       "      <td>2021</td>\n",
       "      <td>2</td>\n",
       "      <td>3</td>\n",
       "      <td>14</td>\n",
       "    </tr>\n",
       "    <tr>\n",
       "      <th>2</th>\n",
       "      <td>3846</td>\n",
       "      <td>Sagasta 20 O-E - Mejia Lequerica-Pl. Alonso Ma...</td>\n",
       "      <td>40.428164</td>\n",
       "      <td>-3.698403</td>\n",
       "      <td>2021-02-03T14:25:28.000Z</td>\n",
       "      <td>63.0</td>\n",
       "      <td>1200.0</td>\n",
       "      <td>77.0</td>\n",
       "      <td>madrid</td>\n",
       "      <td>2021</td>\n",
       "      <td>2</td>\n",
       "      <td>3</td>\n",
       "      <td>14</td>\n",
       "    </tr>\n",
       "    <tr>\n",
       "      <th>3</th>\n",
       "      <td>3849</td>\n",
       "      <td>PL. SANTA  BARBARA S-N(SERRANO ANGUITA-PL. ALO...</td>\n",
       "      <td>40.426881</td>\n",
       "      <td>-3.696561</td>\n",
       "      <td>2021-02-03T14:25:28.000Z</td>\n",
       "      <td>8.0</td>\n",
       "      <td>960.0</td>\n",
       "      <td>57.0</td>\n",
       "      <td>madrid</td>\n",
       "      <td>2021</td>\n",
       "      <td>2</td>\n",
       "      <td>3</td>\n",
       "      <td>14</td>\n",
       "    </tr>\n",
       "    <tr>\n",
       "      <th>4</th>\n",
       "      <td>3850</td>\n",
       "      <td>(AFOROS) Genova O-E - General CastaÃ±os-Pl. Colon</td>\n",
       "      <td>40.426004</td>\n",
       "      <td>-3.692525</td>\n",
       "      <td>2021-02-03T14:25:28.000Z</td>\n",
       "      <td>10.0</td>\n",
       "      <td>1720.0</td>\n",
       "      <td>55.0</td>\n",
       "      <td>madrid</td>\n",
       "      <td>2021</td>\n",
       "      <td>2</td>\n",
       "      <td>3</td>\n",
       "      <td>14</td>\n",
       "    </tr>\n",
       "  </tbody>\n",
       "</table>\n",
       "</div>"
      ],
      "text/plain": [
       "   poi_id                                           poi_name   Latitude  \\\n",
       "0    3844  (AFOROS) PÂº Castellana S-N  - Eduardo Dato - ...  40.433782   \n",
       "1    3845          PÂº Recoletos S-N - Villanueva-Jorge Juan  40.423512   \n",
       "2    3846  Sagasta 20 O-E - Mejia Lequerica-Pl. Alonso Ma...  40.428164   \n",
       "3    3849  PL. SANTA  BARBARA S-N(SERRANO ANGUITA-PL. ALO...  40.426881   \n",
       "4    3850  (AFOROS) Genova O-E - General CastaÃ±os-Pl. Colon  40.426004   \n",
       "\n",
       "   Longitude                      date  occupation  intensity  load    city  \\\n",
       "0  -3.688470  2021-02-03T14:25:28.000Z         9.0     2400.0  56.0  madrid   \n",
       "1  -3.690991  2021-02-03T14:25:28.000Z         5.0     1500.0  40.0  madrid   \n",
       "2  -3.698403  2021-02-03T14:25:28.000Z        63.0     1200.0  77.0  madrid   \n",
       "3  -3.696561  2021-02-03T14:25:28.000Z         8.0      960.0  57.0  madrid   \n",
       "4  -3.692525  2021-02-03T14:25:28.000Z        10.0     1720.0  55.0  madrid   \n",
       "\n",
       "   year  month  day  hour  \n",
       "0  2021      2    3    14  \n",
       "1  2021      2    3    14  \n",
       "2  2021      2    3    14  \n",
       "3  2021      2    3    14  \n",
       "4  2021      2    3    14  "
      ]
     },
     "execution_count": 29,
     "metadata": {},
     "output_type": "execute_result"
    }
   ],
   "source": [
    "df.head()"
   ]
  },
  {
   "cell_type": "markdown",
   "id": "6f0fde9c",
   "metadata": {},
   "source": [
    "# Using the config.py file in a new proyect"
   ]
  },
  {
   "cell_type": "markdown",
   "id": "e80c82d1",
   "metadata": {},
   "source": [
    "🌐 Now, we used the config-py file save before to be used as a template in a new map 🌐\n",
    "\n",
    "If want to load the map next time with this saved config, the easiest way to do is to save the it to a file and use the magic command `%run` to load it w/o cluttering up your notebook."
   ]
  },
  {
   "cell_type": "markdown",
   "id": "c90b37f9",
   "metadata": {},
   "source": [
    "❗ **Match config with data** ❗  \n",
    "All layers, filters and tooltips are associated with a specific dataset. Therefore the data and config in the map has to be able to match each other. The name of the dataset is assigned to:\n",
    "\n",
    "dataId of layer.config,\n",
    "dataId of filter\n",
    "key in interactionConfig.tooltip.fieldToShow.\n",
    "\n",
    "\n",
    "![image](https://d1a3f4spazzrp4.cloudfront.net/kepler.gl/documentation/jupyter_connect_data_w_config.png)"
   ]
  },
  {
   "cell_type": "code",
   "execution_count": 30,
   "id": "17992fd4",
   "metadata": {},
   "outputs": [],
   "source": [
    "# assign config = hex_config\n"
   ]
  },
  {
   "cell_type": "markdown",
   "id": "20945cd8",
   "metadata": {},
   "source": [
    "# Create a map"
   ]
  },
  {
   "cell_type": "markdown",
   "id": "d110afde",
   "metadata": {},
   "source": [
    "⚠️ If we want to add a config file, it would be included in the basemap code ⚠️"
   ]
  },
  {
   "cell_type": "code",
   "execution_count": 32,
   "id": "96c9d6af",
   "metadata": {},
   "outputs": [
    {
     "name": "stdout",
     "output_type": "stream",
     "text": [
      "User Guide: https://docs.kepler.gl/docs/keplergl-jupyter\n"
     ]
    }
   ],
   "source": [
    "# create a map\n"
   ]
  },
  {
   "cell_type": "code",
   "execution_count": 33,
   "id": "32a8f6fa",
   "metadata": {
    "scrolled": false
   },
   "outputs": [
    {
     "data": {
      "application/vnd.jupyter.widget-view+json": {
       "model_id": "e74297e740ec4208a1f14da42aaa2e0c",
       "version_major": 2,
       "version_minor": 0
      },
      "text/plain": [
       "KeplerGl(config={'version': 'v1', 'config': {'visState': {'filters': [], 'layers': [{'id': 'rxwekcj', 'type': …"
      ]
     },
     "metadata": {},
     "output_type": "display_data"
    }
   ],
   "source": [
    "# Load the map"
   ]
  },
  {
   "cell_type": "markdown",
   "id": "c668ec5d",
   "metadata": {},
   "source": [
    "# But... where is the data? "
   ]
  },
  {
   "cell_type": "markdown",
   "id": "68a98512",
   "metadata": {},
   "source": [
    "The configuration is loaded but ... you have to move the map or I want to change the background.\n",
    "We are programmers and the configuration file is a dictionary. So ... let's change it!"
   ]
  },
  {
   "cell_type": "code",
   "execution_count": 35,
   "id": "98adf3b2",
   "metadata": {},
   "outputs": [
    {
     "data": {
      "text/plain": [
       "dict_keys(['version', 'config'])"
      ]
     },
     "execution_count": 35,
     "metadata": {},
     "output_type": "execute_result"
    }
   ],
   "source": [
    "config.keys()"
   ]
  },
  {
   "cell_type": "markdown",
   "id": "5c18942c",
   "metadata": {},
   "source": [
    "## Change latitude and longitude "
   ]
  },
  {
   "cell_type": "code",
   "execution_count": 34,
   "id": "ee9a02de",
   "metadata": {},
   "outputs": [
    {
     "data": {
      "text/plain": [
       "{'bearing': 24,\n",
       " 'dragRotate': True,\n",
       " 'latitude': 40.7370321312986,\n",
       " 'longitude': -73.95194934994169,\n",
       " 'pitch': 50,\n",
       " 'zoom': 10,\n",
       " 'isSplit': False}"
      ]
     },
     "execution_count": 34,
     "metadata": {},
     "output_type": "execute_result"
    }
   ],
   "source": [
    "# We can change the center of our map. Image that we can apply this map configuration but our data are in Madrid. \n",
    "# Changing the lat,long values of the configuration file we can apply the \n",
    "# New coord : 40.42532, -3.70151\n"
   ]
  },
  {
   "cell_type": "code",
   "execution_count": 37,
   "id": "0ddcad19",
   "metadata": {},
   "outputs": [],
   "source": [
    "# Now, we will change the lat and long values"
   ]
  },
  {
   "cell_type": "code",
   "execution_count": 38,
   "id": "ca78a110",
   "metadata": {},
   "outputs": [
    {
     "data": {
      "text/plain": [
       "{'bearing': 24,\n",
       " 'dragRotate': True,\n",
       " 'latitude': 40.417163266629544,\n",
       " 'longitude': -3.7035263176512414,\n",
       " 'pitch': 50,\n",
       " 'zoom': 10,\n",
       " 'isSplit': False}"
      ]
     },
     "execution_count": 38,
     "metadata": {},
     "output_type": "execute_result"
    }
   ],
   "source": [
    "config[\"config\"].get(\"mapState\")"
   ]
  },
  {
   "cell_type": "markdown",
   "id": "e0fc60dd",
   "metadata": {},
   "source": [
    "## Change map style"
   ]
  },
  {
   "cell_type": "code",
   "execution_count": 39,
   "id": "539adad8",
   "metadata": {},
   "outputs": [
    {
     "data": {
      "text/plain": [
       "{'styleType': 'dark',\n",
       " 'topLayerGroups': {},\n",
       " 'visibleLayerGroups': {'label': True,\n",
       "  'road': True,\n",
       "  'border': False,\n",
       "  'building': True,\n",
       "  'water': True,\n",
       "  'land': True,\n",
       "  '3d building': False},\n",
       " 'threeDBuildingColor': [9.665468314072013,\n",
       "  17.18305478057247,\n",
       "  31.1442867897876],\n",
       " 'mapStyles': {}}"
      ]
     },
     "execution_count": 39,
     "metadata": {},
     "output_type": "execute_result"
    }
   ],
   "source": [
    "# Take the map style dicctionary"
   ]
  },
  {
   "cell_type": "code",
   "execution_count": 40,
   "id": "84211fba",
   "metadata": {},
   "outputs": [],
   "source": [
    "# Now, we will change the styleType key"
   ]
  },
  {
   "cell_type": "code",
   "execution_count": 41,
   "id": "5ebbad8d",
   "metadata": {},
   "outputs": [
    {
     "data": {
      "text/plain": [
       "{'styleType': 'light',\n",
       " 'topLayerGroups': {},\n",
       " 'visibleLayerGroups': {'label': True,\n",
       "  'road': True,\n",
       "  'border': False,\n",
       "  'building': True,\n",
       "  'water': True,\n",
       "  'land': True,\n",
       "  '3d building': False},\n",
       " 'threeDBuildingColor': [9.665468314072013,\n",
       "  17.18305478057247,\n",
       "  31.1442867897876],\n",
       " 'mapStyles': {}}"
      ]
     },
     "execution_count": 41,
     "metadata": {},
     "output_type": "execute_result"
    }
   ],
   "source": [
    "# Reload the config file"
   ]
  },
  {
   "cell_type": "markdown",
   "id": "e8c8e262",
   "metadata": {},
   "source": [
    "## Reload the map "
   ]
  },
  {
   "cell_type": "code",
   "execution_count": null,
   "id": "133ceaa7",
   "metadata": {},
   "outputs": [],
   "source": [
    "# Ok, but... Has the map settings changed?\n",
    "map_3 = KeplerGl(height=600, width=800, config=config)\n",
    "map_3.add_data(data=df, name='crimes' )\n"
   ]
  },
  {
   "cell_type": "code",
   "execution_count": null,
   "id": "2f4ffdb1",
   "metadata": {},
   "outputs": [],
   "source": [
    "# Save map_3 config to a file\n",
    "with open('madrid_config.py', 'w') as f:\n",
    "    f.write('config = {}'.format(map_3.config))\n"
   ]
  },
  {
   "cell_type": "code",
   "execution_count": null,
   "id": "84a9632d",
   "metadata": {},
   "outputs": [],
   "source": []
  }
 ],
 "metadata": {
  "kernelspec": {
   "display_name": "final",
   "language": "python",
   "name": "final"
  },
  "language_info": {
   "codemirror_mode": {
    "name": "ipython",
    "version": 3
   },
   "file_extension": ".py",
   "mimetype": "text/x-python",
   "name": "python",
   "nbconvert_exporter": "python",
   "pygments_lexer": "ipython3",
   "version": "3.8.5"
  },
  "toc": {
   "base_numbering": 1,
   "nav_menu": {},
   "number_sections": true,
   "sideBar": true,
   "skip_h1_title": false,
   "title_cell": "Table of Contents",
   "title_sidebar": "Contents",
   "toc_cell": true,
   "toc_position": {},
   "toc_section_display": true,
   "toc_window_display": false
  },
  "varInspector": {
   "cols": {
    "lenName": 16,
    "lenType": 16,
    "lenVar": 40
   },
   "kernels_config": {
    "python": {
     "delete_cmd_postfix": "",
     "delete_cmd_prefix": "del ",
     "library": "var_list.py",
     "varRefreshCmd": "print(var_dic_list())"
    },
    "r": {
     "delete_cmd_postfix": ") ",
     "delete_cmd_prefix": "rm(",
     "library": "var_list.r",
     "varRefreshCmd": "cat(var_dic_list()) "
    }
   },
   "types_to_exclude": [
    "module",
    "function",
    "builtin_function_or_method",
    "instance",
    "_Feature"
   ],
   "window_display": false
  }
 },
 "nbformat": 4,
 "nbformat_minor": 5
}
