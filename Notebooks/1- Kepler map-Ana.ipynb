{
 "cells": [
  {
   "cell_type": "markdown",
   "id": "excess-hamburg",
   "metadata": {
    "toc": true
   },
   "source": [
    "<h1>Table of Contents<span class=\"tocSkip\"></span></h1>\n",
    "<div class=\"toc\"><ul class=\"toc-item\"><li><span><a href=\"#Libraries\" data-toc-modified-id=\"Libraries-1\"><span class=\"toc-item-num\">1&nbsp;&nbsp;</span>Libraries</a></span></li><li><span><a href=\"#Crimes-in-Nueva-York\" data-toc-modified-id=\"Crimes-in-Nueva-York-2\"><span class=\"toc-item-num\">2&nbsp;&nbsp;</span>Crimes in Nueva York</a></span><ul class=\"toc-item\"><li><span><a href=\"#Explore-null-data-in-the-dataset\" data-toc-modified-id=\"Explore-null-data-in-the-dataset-2.1\"><span class=\"toc-item-num\">2.1&nbsp;&nbsp;</span>Explore null data in the dataset</a></span></li><li><span><a href=\"#Time-to-map-the-dataset\" data-toc-modified-id=\"Time-to-map-the-dataset-2.2\"><span class=\"toc-item-num\">2.2&nbsp;&nbsp;</span>Time to map the dataset</a></span><ul class=\"toc-item\"><li><span><a href=\"#Configuration\" data-toc-modified-id=\"Configuration-2.2.1\"><span class=\"toc-item-num\">2.2.1&nbsp;&nbsp;</span>Configuration</a></span></li><li><span><a href=\"#Save-the-configuration-in-.py-file\" data-toc-modified-id=\"Save-the-configuration-in-.py-file-2.2.2\"><span class=\"toc-item-num\">2.2.2&nbsp;&nbsp;</span>Save the configuration in .py file</a></span></li><li><span><a href=\"#Save-the-map\" data-toc-modified-id=\"Save-the-map-2.2.3\"><span class=\"toc-item-num\">2.2.3&nbsp;&nbsp;</span>Save the map</a></span></li></ul></li></ul></li><li><span><a href=\"#Time-series-in-Kepler\" data-toc-modified-id=\"Time-series-in-Kepler-3\"><span class=\"toc-item-num\">3&nbsp;&nbsp;</span>Time series in Kepler</a></span></li><li><span><a href=\"#Uk-movements\" data-toc-modified-id=\"Uk-movements-4\"><span class=\"toc-item-num\">4&nbsp;&nbsp;</span>Uk movements</a></span></li></ul></div>"
   ]
  },
  {
   "cell_type": "markdown",
   "id": "4134c488",
   "metadata": {},
   "source": [
    "![portada](https://miro.medium.com/max/7077/1*0l-WeqdtYRruoV_XxS-ZKg.png)"
   ]
  },
  {
   "cell_type": "markdown",
   "id": "matched-psychiatry",
   "metadata": {},
   "source": [
    "# Libraries "
   ]
  },
  {
   "cell_type": "code",
   "execution_count": 1,
   "id": "bearing-tokyo",
   "metadata": {
    "scrolled": true
   },
   "outputs": [
    {
     "name": "stderr",
     "output_type": "stream",
     "text": [
      "/usr/local/Caskroom/miniconda/base/envs/kepler/lib/python3.8/site-packages/geopandas/_compat.py:106: UserWarning: The Shapely GEOS version (3.8.0-CAPI-1.13.1 ) is incompatible with the GEOS version PyGEOS was compiled with (3.9.1-CAPI-1.14.2). Conversions between both will be slow.\n",
      "  warnings.warn(\n"
     ]
    }
   ],
   "source": [
    "import pandas as pd\n",
    "import geopandas as gpd\n",
    "from keplergl import KeplerGl"
   ]
  },
  {
   "cell_type": "markdown",
   "id": "julian-entrance",
   "metadata": {},
   "source": [
    "# Crimes in Nueva York "
   ]
  },
  {
   "cell_type": "code",
   "execution_count": 2,
   "id": "natural-mambo",
   "metadata": {},
   "outputs": [],
   "source": [
    "df = pd.read_csv(\"../Input/NYPD_Shoot_.csv\")"
   ]
  },
  {
   "cell_type": "code",
   "execution_count": 3,
   "id": "boxed-break",
   "metadata": {},
   "outputs": [
    {
     "data": {
      "text/html": [
       "<div>\n",
       "<style scoped>\n",
       "    .dataframe tbody tr th:only-of-type {\n",
       "        vertical-align: middle;\n",
       "    }\n",
       "\n",
       "    .dataframe tbody tr th {\n",
       "        vertical-align: top;\n",
       "    }\n",
       "\n",
       "    .dataframe thead th {\n",
       "        text-align: right;\n",
       "    }\n",
       "</style>\n",
       "<table border=\"1\" class=\"dataframe\">\n",
       "  <thead>\n",
       "    <tr style=\"text-align: right;\">\n",
       "      <th></th>\n",
       "      <th>INCIDENT_KEY</th>\n",
       "      <th>OCCUR_DATE</th>\n",
       "      <th>OCCUR_TIME</th>\n",
       "      <th>BORO</th>\n",
       "      <th>PRECINCT</th>\n",
       "      <th>JURISDICTION_CODE</th>\n",
       "      <th>LOCATION_DESC</th>\n",
       "      <th>STATISTICAL_MURDER_FLAG</th>\n",
       "      <th>PERP_AGE_GROUP</th>\n",
       "      <th>PERP_SEX</th>\n",
       "      <th>PERP_RACE</th>\n",
       "      <th>VIC_AGE_GROUP</th>\n",
       "      <th>VIC_SEX</th>\n",
       "      <th>VIC_RACE</th>\n",
       "      <th>X_COORD_CD</th>\n",
       "      <th>Y_COORD_CD</th>\n",
       "      <th>Latitude</th>\n",
       "      <th>Longitude</th>\n",
       "      <th>New Georeferenced Column</th>\n",
       "    </tr>\n",
       "  </thead>\n",
       "  <tbody>\n",
       "    <tr>\n",
       "      <th>1024</th>\n",
       "      <td>215225145</td>\n",
       "      <td>07/10/2020</td>\n",
       "      <td>19:13:00</td>\n",
       "      <td>BROOKLYN</td>\n",
       "      <td>77</td>\n",
       "      <td>0</td>\n",
       "      <td>NaN</td>\n",
       "      <td>False</td>\n",
       "      <td>NaN</td>\n",
       "      <td>NaN</td>\n",
       "      <td>NaN</td>\n",
       "      <td>25-44</td>\n",
       "      <td>M</td>\n",
       "      <td>BLACK</td>\n",
       "      <td>997700</td>\n",
       "      <td>234324</td>\n",
       "      <td>40.809839</td>\n",
       "      <td>-73.951415</td>\n",
       "      <td>POINT (-73.95141461099996 40.809839071000056)</td>\n",
       "    </tr>\n",
       "    <tr>\n",
       "      <th>1054</th>\n",
       "      <td>215254845</td>\n",
       "      <td>07/13/2020</td>\n",
       "      <td>21:50:00</td>\n",
       "      <td>BRONX</td>\n",
       "      <td>46</td>\n",
       "      <td>0</td>\n",
       "      <td>NaN</td>\n",
       "      <td>False</td>\n",
       "      <td>NaN</td>\n",
       "      <td>NaN</td>\n",
       "      <td>NaN</td>\n",
       "      <td>&lt;18</td>\n",
       "      <td>M</td>\n",
       "      <td>BLACK HISPANIC</td>\n",
       "      <td>1008739</td>\n",
       "      <td>239004</td>\n",
       "      <td>40.822661</td>\n",
       "      <td>-73.911520</td>\n",
       "      <td>POINT (-73.911520222 40.82266065500005)</td>\n",
       "    </tr>\n",
       "    <tr>\n",
       "      <th>2</th>\n",
       "      <td>217218947</td>\n",
       "      <td>08/30/2020</td>\n",
       "      <td>01:39:00</td>\n",
       "      <td>BROOKLYN</td>\n",
       "      <td>73</td>\n",
       "      <td>0</td>\n",
       "      <td>NaN</td>\n",
       "      <td>False</td>\n",
       "      <td>NaN</td>\n",
       "      <td>NaN</td>\n",
       "      <td>NaN</td>\n",
       "      <td>45-64</td>\n",
       "      <td>F</td>\n",
       "      <td>BLACK</td>\n",
       "      <td>1025754</td>\n",
       "      <td>268697</td>\n",
       "      <td>40.904095</td>\n",
       "      <td>-73.849860</td>\n",
       "      <td>POINT (-73.84985952299998 40.90409529500005)</td>\n",
       "    </tr>\n",
       "  </tbody>\n",
       "</table>\n",
       "</div>"
      ],
      "text/plain": [
       "      INCIDENT_KEY  OCCUR_DATE OCCUR_TIME      BORO  PRECINCT  \\\n",
       "1024     215225145  07/10/2020   19:13:00  BROOKLYN        77   \n",
       "1054     215254845  07/13/2020   21:50:00     BRONX        46   \n",
       "2        217218947  08/30/2020   01:39:00  BROOKLYN        73   \n",
       "\n",
       "      JURISDICTION_CODE LOCATION_DESC  STATISTICAL_MURDER_FLAG PERP_AGE_GROUP  \\\n",
       "1024                  0           NaN                    False            NaN   \n",
       "1054                  0           NaN                    False            NaN   \n",
       "2                     0           NaN                    False            NaN   \n",
       "\n",
       "     PERP_SEX PERP_RACE VIC_AGE_GROUP VIC_SEX        VIC_RACE  X_COORD_CD  \\\n",
       "1024      NaN       NaN         25-44       M           BLACK      997700   \n",
       "1054      NaN       NaN           <18       M  BLACK HISPANIC     1008739   \n",
       "2         NaN       NaN         45-64       F           BLACK     1025754   \n",
       "\n",
       "      Y_COORD_CD   Latitude  Longitude  \\\n",
       "1024      234324  40.809839 -73.951415   \n",
       "1054      239004  40.822661 -73.911520   \n",
       "2         268697  40.904095 -73.849860   \n",
       "\n",
       "                           New Georeferenced Column  \n",
       "1024  POINT (-73.95141461099996 40.809839071000056)  \n",
       "1054        POINT (-73.911520222 40.82266065500005)  \n",
       "2      POINT (-73.84985952299998 40.90409529500005)  "
      ]
     },
     "execution_count": 3,
     "metadata": {},
     "output_type": "execute_result"
    }
   ],
   "source": [
    "df.sample(3)"
   ]
  },
  {
   "cell_type": "markdown",
   "id": "biblical-small",
   "metadata": {},
   "source": [
    "## Explore null data in the dataset"
   ]
  },
  {
   "cell_type": "code",
   "execution_count": 4,
   "id": "prerequisite-bloom",
   "metadata": {},
   "outputs": [
    {
     "data": {
      "text/plain": [
       "INCIDENT_KEY                  int64\n",
       "OCCUR_DATE                   object\n",
       "OCCUR_TIME                   object\n",
       "BORO                         object\n",
       "PRECINCT                      int64\n",
       "JURISDICTION_CODE             int64\n",
       "LOCATION_DESC                object\n",
       "STATISTICAL_MURDER_FLAG        bool\n",
       "PERP_AGE_GROUP               object\n",
       "PERP_SEX                     object\n",
       "PERP_RACE                    object\n",
       "VIC_AGE_GROUP                object\n",
       "VIC_SEX                      object\n",
       "VIC_RACE                     object\n",
       "X_COORD_CD                    int64\n",
       "Y_COORD_CD                    int64\n",
       "Latitude                    float64\n",
       "Longitude                   float64\n",
       "New Georeferenced Column     object\n",
       "dtype: object"
      ]
     },
     "execution_count": 4,
     "metadata": {},
     "output_type": "execute_result"
    }
   ],
   "source": [
    "df.dtypes"
   ]
  },
  {
   "cell_type": "markdown",
   "id": "533515f2",
   "metadata": {},
   "source": [
    "## Time to map the dataset"
   ]
  },
  {
   "cell_type": "markdown",
   "id": "aeedb33e",
   "metadata": {},
   "source": [
    "The usual Kepler.gl workflow is as follows:\n",
    "\n",
    "    1- Add data to the map  \n",
    "    2- Create data layers  \n",
    "    3- Add filters  \n",
    "    4- Customize your map settings  \n",
    "    5- Save your map as an image and export it as a html file\n"
   ]
  },
  {
   "cell_type": "code",
   "execution_count": 5,
   "id": "4aa555c3",
   "metadata": {},
   "outputs": [
    {
     "data": {
      "text/html": [
       "<div>\n",
       "<style scoped>\n",
       "    .dataframe tbody tr th:only-of-type {\n",
       "        vertical-align: middle;\n",
       "    }\n",
       "\n",
       "    .dataframe tbody tr th {\n",
       "        vertical-align: top;\n",
       "    }\n",
       "\n",
       "    .dataframe thead th {\n",
       "        text-align: right;\n",
       "    }\n",
       "</style>\n",
       "<table border=\"1\" class=\"dataframe\">\n",
       "  <thead>\n",
       "    <tr style=\"text-align: right;\">\n",
       "      <th></th>\n",
       "      <th>INCIDENT_KEY</th>\n",
       "      <th>OCCUR_DATE</th>\n",
       "      <th>OCCUR_TIME</th>\n",
       "      <th>BORO</th>\n",
       "      <th>PRECINCT</th>\n",
       "      <th>JURISDICTION_CODE</th>\n",
       "      <th>LOCATION_DESC</th>\n",
       "      <th>STATISTICAL_MURDER_FLAG</th>\n",
       "      <th>PERP_AGE_GROUP</th>\n",
       "      <th>PERP_SEX</th>\n",
       "      <th>PERP_RACE</th>\n",
       "      <th>VIC_AGE_GROUP</th>\n",
       "      <th>VIC_SEX</th>\n",
       "      <th>VIC_RACE</th>\n",
       "      <th>X_COORD_CD</th>\n",
       "      <th>Y_COORD_CD</th>\n",
       "      <th>Latitude</th>\n",
       "      <th>Longitude</th>\n",
       "      <th>New Georeferenced Column</th>\n",
       "    </tr>\n",
       "  </thead>\n",
       "  <tbody>\n",
       "    <tr>\n",
       "      <th>56</th>\n",
       "      <td>217650442</td>\n",
       "      <td>09/09/2020</td>\n",
       "      <td>01:56:00</td>\n",
       "      <td>BRONX</td>\n",
       "      <td>40</td>\n",
       "      <td>0</td>\n",
       "      <td>RESTAURANT/DINER</td>\n",
       "      <td>False</td>\n",
       "      <td>NaN</td>\n",
       "      <td>NaN</td>\n",
       "      <td>NaN</td>\n",
       "      <td>25-44</td>\n",
       "      <td>M</td>\n",
       "      <td>BLACK</td>\n",
       "      <td>999439</td>\n",
       "      <td>178174</td>\n",
       "      <td>40.655718</td>\n",
       "      <td>-73.945259</td>\n",
       "      <td>POINT (-73.94525938899994 40.655718343000046)</td>\n",
       "    </tr>\n",
       "    <tr>\n",
       "      <th>664</th>\n",
       "      <td>216936948</td>\n",
       "      <td>08/21/2020</td>\n",
       "      <td>02:10:00</td>\n",
       "      <td>BRONX</td>\n",
       "      <td>48</td>\n",
       "      <td>0</td>\n",
       "      <td>MULTI DWELL - APT BUILD</td>\n",
       "      <td>True</td>\n",
       "      <td>NaN</td>\n",
       "      <td>NaN</td>\n",
       "      <td>NaN</td>\n",
       "      <td>45-64</td>\n",
       "      <td>M</td>\n",
       "      <td>WHITE HISPANIC</td>\n",
       "      <td>1026884</td>\n",
       "      <td>268961</td>\n",
       "      <td>40.904815</td>\n",
       "      <td>-73.845770</td>\n",
       "      <td>POINT (-73.84577004099998 40.904814500000036)</td>\n",
       "    </tr>\n",
       "  </tbody>\n",
       "</table>\n",
       "</div>"
      ],
      "text/plain": [
       "     INCIDENT_KEY  OCCUR_DATE OCCUR_TIME   BORO  PRECINCT  JURISDICTION_CODE  \\\n",
       "56      217650442  09/09/2020   01:56:00  BRONX        40                  0   \n",
       "664     216936948  08/21/2020   02:10:00  BRONX        48                  0   \n",
       "\n",
       "               LOCATION_DESC  STATISTICAL_MURDER_FLAG PERP_AGE_GROUP PERP_SEX  \\\n",
       "56          RESTAURANT/DINER                    False            NaN      NaN   \n",
       "664  MULTI DWELL - APT BUILD                     True            NaN      NaN   \n",
       "\n",
       "    PERP_RACE VIC_AGE_GROUP VIC_SEX        VIC_RACE  X_COORD_CD  Y_COORD_CD  \\\n",
       "56        NaN         25-44       M           BLACK      999439      178174   \n",
       "664       NaN         45-64       M  WHITE HISPANIC     1026884      268961   \n",
       "\n",
       "      Latitude  Longitude                       New Georeferenced Column  \n",
       "56   40.655718 -73.945259  POINT (-73.94525938899994 40.655718343000046)  \n",
       "664  40.904815 -73.845770  POINT (-73.84577004099998 40.904814500000036)  "
      ]
     },
     "execution_count": 5,
     "metadata": {},
     "output_type": "execute_result"
    }
   ],
   "source": [
    "df.sample(2)"
   ]
  },
  {
   "cell_type": "code",
   "execution_count": 14,
   "id": "baf581ef",
   "metadata": {},
   "outputs": [],
   "source": [
    "def label_race (df, row):\n",
    "    if df[row] == \"F\" :\n",
    "        return 'calendar'\n",
    "    else: \n",
    "        return \"home\"\n"
   ]
  },
  {
   "cell_type": "code",
   "execution_count": 17,
   "id": "07abe440",
   "metadata": {},
   "outputs": [],
   "source": [
    "df['icon'] = df.apply (lambda df: label_race(df, \"VIC_SEX\" ), axis=1)\n",
    "df.to_csv(\"../Input/NYPD_Shoot_.csv\")"
   ]
  },
  {
   "cell_type": "code",
   "execution_count": 16,
   "id": "9e18f5b7",
   "metadata": {
    "scrolled": false
   },
   "outputs": [
    {
     "name": "stdout",
     "output_type": "stream",
     "text": [
      "User Guide: https://docs.kepler.gl/docs/keplergl-jupyter\n"
     ]
    },
    {
     "data": {
      "application/vnd.jupyter.widget-view+json": {
       "model_id": "25c117f5e9c14e309546d9c0b415e5ca",
       "version_major": 2,
       "version_minor": 0
      },
      "text/plain": [
       "KeplerGl(data={'crimes':       INCIDENT_KEY  OCCUR_DATE OCCUR_TIME      BORO  PRECINCT  \\\n",
       "0        221467363  …"
      ]
     },
     "metadata": {},
     "output_type": "display_data"
    }
   ],
   "source": [
    "#Create a basemap \n",
    "map_1= KeplerGl(height=700, weight = 500, data={'crimes': df})\n",
    "#show the map\n",
    "map_1"
   ]
  },
  {
   "cell_type": "markdown",
   "id": "4497b3fe",
   "metadata": {},
   "source": [
    "### Configuration\n",
    "Each map will have a configuration file in dictionary format. We can save this configuration and work with it later without having to touch the interface again."
   ]
  },
  {
   "cell_type": "code",
   "execution_count": null,
   "id": "94c80ec0",
   "metadata": {},
   "outputs": [],
   "source": [
    "# we can store the config file in a variable to modify the map configuration latter. \n",
    "config = map_1.config"
   ]
  },
  {
   "cell_type": "code",
   "execution_count": null,
   "id": "98f82655",
   "metadata": {},
   "outputs": [],
   "source": [
    "config"
   ]
  },
  {
   "cell_type": "code",
   "execution_count": null,
   "id": "ba6ff3ab",
   "metadata": {},
   "outputs": [],
   "source": [
    "config.keys()"
   ]
  },
  {
   "cell_type": "code",
   "execution_count": null,
   "id": "bf529f3b",
   "metadata": {},
   "outputs": [],
   "source": [
    "config.get(\"config\").keys()"
   ]
  },
  {
   "cell_type": "code",
   "execution_count": null,
   "id": "23fea2da",
   "metadata": {},
   "outputs": [],
   "source": [
    "config.get(\"config\").get(\"visState\") #sacamos el diccionario con los parametros de visulización del mapa"
   ]
  },
  {
   "cell_type": "code",
   "execution_count": null,
   "id": "d26a60ac",
   "metadata": {},
   "outputs": [],
   "source": [
    "config.get(\"config\").get(\"mapState\")"
   ]
  },
  {
   "cell_type": "code",
   "execution_count": null,
   "id": "4f720ec1",
   "metadata": {},
   "outputs": [],
   "source": [
    "config.get(\"config\").get(\"mapStyle\")"
   ]
  },
  {
   "cell_type": "code",
   "execution_count": null,
   "id": "94a148a4",
   "metadata": {},
   "outputs": [],
   "source": [
    "config"
   ]
  },
  {
   "cell_type": "markdown",
   "id": "82d203aa",
   "metadata": {},
   "source": [
    "### Save the configuration in .py file"
   ]
  },
  {
   "cell_type": "code",
   "execution_count": null,
   "id": "0ce0faad",
   "metadata": {},
   "outputs": [],
   "source": [
    "# Save map_1 config to a file\n",
    "with open('hex_config.py', 'w') as f:\n",
    "    f.write('config = {}'.format(map_1.config))\n"
   ]
  },
  {
   "cell_type": "code",
   "execution_count": null,
   "id": "8e5879ef",
   "metadata": {
    "scrolled": false
   },
   "outputs": [],
   "source": [
    "map_2= KeplerGl(height=700, data={'crimes': df}, config=config)\n",
    "map_2"
   ]
  },
  {
   "cell_type": "markdown",
   "id": "af7fb4ee",
   "metadata": {},
   "source": [
    "### Save the map "
   ]
  },
  {
   "cell_type": "markdown",
   "id": "e7488849",
   "metadata": {},
   "source": [
    "# Time series in Kepler"
   ]
  },
  {
   "cell_type": "markdown",
   "id": "54f2562d",
   "metadata": {},
   "source": [
    "Besides geospatial data, Kepler.gl’s can handle **spatiotemporal** data and add time playbacks to visualize data evolution over time. This is enabled by the “filters” concept in Kepler.gl. "
   ]
  },
  {
   "cell_type": "markdown",
   "id": "877dc9a0",
   "metadata": {},
   "source": [
    "For this example we are going to use a database of taxi movements in New York. The objective is to represent all the taxi movements in this city throughout the day. You can download the dateset [here](https://www1.nyc.gov/site/tlc/about/tlc-trip-record-data.page)"
   ]
  },
  {
   "cell_type": "code",
   "execution_count": null,
   "id": "104b7453",
   "metadata": {},
   "outputs": [],
   "source": [
    "df_1 = pd.read_csv(\"../Input/nytrips.csv\")\n",
    "df_1.head()"
   ]
  },
  {
   "cell_type": "markdown",
   "id": "2c5d75aa",
   "metadata": {},
   "source": [
    "##### To add data to the map, also we can use the add_data method. \n",
    "   > **1-** Load a basemap with the `height` and `width` parameters \n",
    "    \n",
    "   > **2-** Use the `add_data` method. In this method we need to specify:  \n",
    "        - data ==> the target dataframe  \n",
    "        - name ==> the map's name  \n"
   ]
  },
  {
   "cell_type": "code",
   "execution_count": null,
   "id": "b9efc66d",
   "metadata": {},
   "outputs": [],
   "source": [
    "map_3 = KeplerGl(height=600, width=800)\n",
    "map_3.add_data(data=df_1, name='trips' )"
   ]
  },
  {
   "cell_type": "code",
   "execution_count": null,
   "id": "54a41126",
   "metadata": {
    "scrolled": false
   },
   "outputs": [],
   "source": [
    "map_3"
   ]
  },
  {
   "cell_type": "markdown",
   "id": "4ad11f9a",
   "metadata": {},
   "source": [
    "# Uk movements\n",
    "\n",
    "In this example we will see the commute patterns in th UK. A origin destination map using 3D **arcs** to show commute patterns of England and Wales residence. \n",
    "\n",
    "Also,  we will see how to use the **brush** parameter. With this parameter we will establish a radius that will act as a filter. Placing the mouse over a point will only return the data that is within the radius that we have specified."
   ]
  },
  {
   "cell_type": "code",
   "execution_count": null,
   "id": "0d0e2bf2",
   "metadata": {},
   "outputs": [],
   "source": [
    "df_2= pd.read_csv(\"../Input/uk_mov.csv\")\n",
    "df_2.head()"
   ]
  },
  {
   "cell_type": "code",
   "execution_count": null,
   "id": "d76e96f2",
   "metadata": {},
   "outputs": [],
   "source": [
    "# create the basemap and add the data\n",
    "map_2 = KeplerGl(height=600, width=800)\n",
    "map_2.add_data(data=df_2, name='uk')"
   ]
  },
  {
   "cell_type": "code",
   "execution_count": null,
   "id": "13912e04",
   "metadata": {
    "scrolled": false
   },
   "outputs": [],
   "source": [
    "map_2"
   ]
  },
  {
   "cell_type": "code",
   "execution_count": null,
   "id": "fe89f168",
   "metadata": {},
   "outputs": [],
   "source": [
    "# Save map_2 config to a file\n",
    "with open('taxi_config.py', 'w') as f:\n",
    "    f.write('config = {}'.format(map_2.config))\n"
   ]
  },
  {
   "cell_type": "code",
   "execution_count": null,
   "id": "c1f569ce",
   "metadata": {},
   "outputs": [],
   "source": [
    "commute_config = map_2.config\n",
    "commute_config.keys()"
   ]
  },
  {
   "cell_type": "code",
   "execution_count": null,
   "id": "15e43cd4",
   "metadata": {},
   "outputs": [],
   "source": [
    "map_2.save_to_html(file_name = \"uk_mov_2.html\", read_only = False)"
   ]
  },
  {
   "cell_type": "code",
   "execution_count": null,
   "id": "2c92ad0b",
   "metadata": {},
   "outputs": [],
   "source": []
  }
 ],
 "metadata": {
  "kernelspec": {
   "display_name": "kernel",
   "language": "python",
   "name": "kernel"
  },
  "language_info": {
   "codemirror_mode": {
    "name": "ipython",
    "version": 3
   },
   "file_extension": ".py",
   "mimetype": "text/x-python",
   "name": "python",
   "nbconvert_exporter": "python",
   "pygments_lexer": "ipython3",
   "version": "3.8.5"
  },
  "toc": {
   "base_numbering": 1,
   "nav_menu": {},
   "number_sections": true,
   "sideBar": true,
   "skip_h1_title": false,
   "title_cell": "Table of Contents",
   "title_sidebar": "Contents",
   "toc_cell": true,
   "toc_position": {},
   "toc_section_display": true,
   "toc_window_display": false
  },
  "varInspector": {
   "cols": {
    "lenName": 16,
    "lenType": 16,
    "lenVar": 40
   },
   "kernels_config": {
    "python": {
     "delete_cmd_postfix": "",
     "delete_cmd_prefix": "del ",
     "library": "var_list.py",
     "varRefreshCmd": "print(var_dic_list())"
    },
    "r": {
     "delete_cmd_postfix": ") ",
     "delete_cmd_prefix": "rm(",
     "library": "var_list.r",
     "varRefreshCmd": "cat(var_dic_list()) "
    }
   },
   "position": {
    "height": "716px",
    "left": "1550px",
    "right": "20px",
    "top": "120px",
    "width": "350px"
   },
   "types_to_exclude": [
    "module",
    "function",
    "builtin_function_or_method",
    "instance",
    "_Feature"
   ],
   "window_display": false
  }
 },
 "nbformat": 4,
 "nbformat_minor": 5
}
